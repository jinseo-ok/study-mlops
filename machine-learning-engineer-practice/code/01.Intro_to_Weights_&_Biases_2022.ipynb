{
 "cells": [
  {
   "cell_type": "markdown",
   "metadata": {
    "Collapsed": "false",
    "id": "astzjdx3ZG3b"
   },
   "source": [
    "<img src=\"http://wandb.me/logo-im-png\" width=\"400\" alt=\"Weights & Biases\" />\n",
    "<!--- @wandbcode{intro-colab} -->\n",
    "\n",
    "# 🏃‍♀️ Quickstart\n",
    "Weights & Biases 를 사용하여 머신러닝 실험의 **tracking**, **dataset versioning**, **project collaboration**을 활 수 있음\n",
    "<img src=\"http://wandb.me/mini-diagram\" width=\"650\" alt=\"Weights & Biases\" />\n"
   ]
  },
  {
   "cell_type": "markdown",
   "metadata": {
    "Collapsed": "false",
    "id": "o0K_t-v4Vi0V"
   },
   "source": [
    "간단한 몇 줄의 코드로, 아래 스크린샷과 같이 머신러닝 실험의 결과를 충분히 공유할 수 있음\n",
    "(interactive version [here](example](https://wandb.ai/stacey/deep-drive?workspace=user-lavanyashukla) )))."
   ]
  },
  {
   "cell_type": "markdown",
   "metadata": {
    "Collapsed": "false",
    "id": "KWiq7nJ2V1L6"
   },
   "source": [
    "![](https://i.imgur.com/nHPvS1C.png)"
   ]
  },
  {
   "cell_type": "markdown",
   "metadata": {
    "Collapsed": "false",
    "id": "4KL9iOqLTyXJ"
   },
   "source": [
    "\n",
    "## 🔒 Data & Privacy\n",
    "\n",
    "We take security very seriously, and our cloud-hosted dashboard uses industry standard best practices for encryption. If you're working with datasets that cannot leave your enterprise cluster, we have [on-prem](https://docs.wandb.com/self-hosted) installations available. \n",
    "\n",
    "It's also easy to download all your data and export it to other tools— like custom analysis in a Jupyter notebook. Here's [more on our API](https://docs.wandb.com/library/api).\n",
    "\n",
    "\n"
   ]
  },
  {
   "cell_type": "markdown",
   "metadata": {
    "Collapsed": "false",
    "id": "bREQhiEzpGZ5"
   },
   "source": [
    "Start by installing the library and logging in to your free account."
   ]
  },
  {
   "cell_type": "code",
   "execution_count": null,
   "metadata": {
    "Collapsed": "false",
    "id": "wRsHBj-EpDHd"
   },
   "outputs": [],
   "source": [
    "!pip install wandb -qqq\n",
    "import wandb"
   ]
  },
  {
   "cell_type": "code",
   "execution_count": null,
   "metadata": {
    "Collapsed": "false",
    "id": "qwkOIVX90tdp"
   },
   "outputs": [],
   "source": [
    "# W&B 로그인\n",
    "# W&B 계정 입력\n",
    "wandb.login()"
   ]
  },
  {
   "cell_type": "markdown",
   "metadata": {
    "Collapsed": "false",
    "id": "8moOgk_Dpegd"
   },
   "source": [
    "## 👟 Run an experiment\n",
    "1️⃣. 새로운 프로젝트 시작과 추적할 하이퍼파라미터 입력\n",
    "\n",
    "2️⃣. 학습과 검증을 위한 **Log metrics**\n",
    "\n",
    "3️⃣. W&B 대시보드에서 결과 확인\n"
   ]
  },
  {
   "cell_type": "code",
   "execution_count": null,
   "metadata": {
    "Collapsed": "false",
    "id": "-VE3MabfZAcx"
   },
   "outputs": [],
   "source": [
    "import random\n",
    "\n",
    "# 5번 실험 \n",
    "for run in range(5):\n",
    "  # 1️⃣ \n",
    "  wandb.init(\n",
    "      # 프로젝트 이름 정의\n",
    "      # Set the project where this run will be logged\n",
    "      project = \"basic-intro\", \n",
    "      # 하이퍼파라미터 및 메타데이터 입력\n",
    "      config = {\n",
    "      \"learning_rate\" : 0.02,\n",
    "      \"architecture\" : \"CNN\",\n",
    "      \"dataset\" : \"CIFAR-100\"\n",
    "      })\n",
    "  \n",
    "  # This simple block simulates a training loop logging metrics\n",
    "  offset = random.random() / 5\n",
    "  for ii in range(2, 10):\n",
    "      acc = 1 - 2 ** -ii - random.random() / ii - offset\n",
    "      loss = 2 ** -ii + random.random() / ii + offset\n",
    "      # 2️⃣ W&B에서 확인할 Log metrics\n",
    "      wandb.log({\"acc\": acc, \"loss\": loss})\n",
    "      \n",
    "  # Mark the run as finished\n",
    "  wandb.finish()"
   ]
  },
  {
   "cell_type": "markdown",
   "metadata": {
    "Collapsed": "false",
    "id": "RDhE3j7MO080"
   },
   "source": [
    "You can find your interactive dashboard by clicking any of the\n",
    "[project page]()\n",
    "(for a project-level dashboard)\n",
    "or [run page]()\n",
    "(for a run-level dashboard)\n",
    "links printed by the cell above."
   ]
  },
  {
   "cell_type": "markdown",
   "metadata": {
    "Collapsed": "false",
    "id": "Af7N_JqSQM6M"
   },
   "source": [
    "You can also\n",
    "[interact with W&B dashboards inside Jupyter](http://wandb.me/jupyter-interact-colab).\n",
    "\n",
    "Here's a dashboard from an autonomous driving project, rendered interactively inside this notebook using the `%wandb` magic:"
   ]
  },
  {
   "cell_type": "code",
   "execution_count": null,
   "metadata": {
    "Collapsed": "false",
    "id": "38_V3xK9P52i"
   },
   "outputs": [],
   "source": [
    "%wandb stacey/deep-drive/runs/1wyssjcx -h 720"
   ]
  },
  {
   "cell_type": "markdown",
   "metadata": {
    "Collapsed": "false",
    "id": "VIwkQ8QC3JZU"
   },
   "source": [
    "# 🧠 Example Model\n",
    "Train a quick model in Keras and track results with W&B. Check our [examples repo](https://github.com/wandb/examples) for scripts and\n",
    "[colabs](https://github.com/wandb/examples/tree/master/colabs)\n",
    "using Keras, PyTorch, TensorFlow, Scikit, XGBoost and more."
   ]
  },
  {
   "cell_type": "markdown",
   "metadata": {
    "Collapsed": "false",
    "id": "Ja6PVWTT_77U"
   },
   "source": [
    "## 🥕 Simple Keras DNN\n",
    "Run this model to train a simple MNIST classifier, and click on the project page link to see your results stream in live to a W&B project.\n"
   ]
  },
  {
   "cell_type": "markdown",
   "metadata": {
    "Collapsed": "false",
    "id": "1KAYBzqFUL-M"
   },
   "source": [
    "\n",
    "In addition to logged [metrics](https://docs.wandb.ai/ref/app/pages/run-page#charts-tab),\n",
    "[system information](https://docs.wandb.ai/ref/app/pages/run-page#system-tab),\n",
    "[hyperparameters](https://docs.wandb.ai/ref/app/pages/run-page#overview-tab), and\n",
    "[terminal output](https://docs.wandb.ai/ref/app/pages/run-page#logs-tab),\n",
    "you'll see an [interactive table](https://docs.wandb.ai/guides/data-vis)\n",
    "with model inputs and outputs.\n",
    "\n",
    "See [this Report](http://wandb.me/debug-dashboard)\n",
    "for an example visualization backed by this table --\n",
    "a model debugging dashboard --\n",
    "or read more about our Tables feature [here](https://docs.wandb.ai/guides/data-vis/tables-quickstart)."
   ]
  },
  {
   "cell_type": "code",
   "execution_count": null,
   "metadata": {
    "Collapsed": "false",
    "id": "8yrgPBRXrvx2"
   },
   "outputs": [],
   "source": [
    "import random\n",
    "\n",
    "import numpy as np\n",
    "import tensorflow as tf\n",
    "from wandb.keras import WandbCallback\n",
    "\n",
    "# Simple Keras Model\n",
    "\n",
    "# Launch 20 experiments, trying different dropout rates\n",
    "for run in range(20):\n",
    "  # Start a run, tracking hyperparameters\n",
    "  wandb.init(\n",
    "      project=\"keras-intro\",\n",
    "      # Set entity to specify your username or team name\n",
    "      # ex: entity=\"wandb\",\n",
    "      config={\n",
    "          \"layer_1\": 512,\n",
    "          \"activation_1\": \"relu\",\n",
    "          \"dropout\": random.uniform(0.01, 0.80),\n",
    "          \"layer_2\": 10,\n",
    "          \"activation_2\": \"softmax\",\n",
    "          \"optimizer\": \"sgd\",\n",
    "          \"loss\": \"sparse_categorical_crossentropy\",\n",
    "          \"metric\": \"accuracy\",\n",
    "          \"epoch\": 6,\n",
    "          \"batch_size\": 256\n",
    "      })\n",
    "  config = wandb.config\n",
    "\n",
    "  # Get the data\n",
    "  mnist = tf.keras.datasets.mnist\n",
    "  (x_train, y_train), (x_test, y_test) = mnist.load_data()\n",
    "  x_train, x_test = x_train / 255.0, x_test / 255.0\n",
    "  x_train, y_train = x_train[::5], y_train[::5]  # Subset data for a faster demo\n",
    "  x_test, y_test = x_test[::20], y_test[::20]\n",
    "  labels = [str(digit) for digit in range(np.max(y_train) + 1)]\n",
    "\n",
    "  # Build a model\n",
    "  model = tf.keras.models.Sequential([\n",
    "      tf.keras.layers.Flatten(input_shape=(28, 28)),\n",
    "      tf.keras.layers.Dense(config.layer_1, activation=config.activation_1),\n",
    "      tf.keras.layers.Dropout(config.dropout),\n",
    "      tf.keras.layers.Dense(config.layer_2, activation=config.activation_2)\n",
    "      ])\n",
    "\n",
    "  model.compile(optimizer=config.optimizer,\n",
    "                loss=config.loss,\n",
    "                metrics=[config.metric]\n",
    "                )\n",
    "\n",
    "  # WandbCallback auto-saves all metrics from model.fit(), plus predictions on validation_data\n",
    "  logging_callback = WandbCallback(log_evaluation=True)\n",
    "\n",
    "  history = model.fit(x=x_train, y=y_train,\n",
    "                      epochs=config.epoch,\n",
    "                      batch_size=config.batch_size,\n",
    "                      validation_data=(x_test, y_test),\n",
    "                      callbacks=[logging_callback]\n",
    "                      )\n",
    "\n",
    "  # Mark the run as finished\n",
    "  wandb.finish()"
   ]
  },
  {
   "cell_type": "markdown",
   "metadata": {
    "Collapsed": "false",
    "id": "mfrYlY1N9vTl"
   },
   "source": [
    "## 📊 Visualize Results\n",
    "\n",
    "Click on the \"[project page](https://docs.wandb.ai/ref/app/pages/project-page)\"\n",
    "link above to see your live results.\n"
   ]
  },
  {
   "cell_type": "markdown",
   "metadata": {
    "Collapsed": "false",
    "id": "2A4CVu1L1zN0"
   },
   "source": [
    "\n",
    "## 🎨 Example Gallery\n",
    "\n",
    "See examples of projects tracked and visualized with W&B in our gallery, [Fully Connected→](https://app.wandb.ai/gallery)"
   ]
  },
  {
   "cell_type": "markdown",
   "metadata": {
    "Collapsed": "false",
    "id": "Cx0ETnBPSnXE"
   },
   "source": [
    "# 🏙️ Community\n",
    "\n",
    "Join a community of ML practitioners in our\n",
    "[Discourse forum→](http://wandb.me/and-you)"
   ]
  },
  {
   "cell_type": "markdown",
   "metadata": {
    "Collapsed": "false",
    "id": "XAdq9OcVhTcE"
   },
   "source": [
    "# 📏 Best Practices\n",
    "\n",
    "1. **Projects**: Log multiple runs to a project to compare them. `wandb.init(project=\"project-name\")`\n",
    "2. **Groups**: For multiple processes or cross validation folds, log each process as a run and group them together. `wandb.init(group='experiment-1')`\n",
    "3. **Tags**: Add tags to track your current baseline or production model.\n",
    "4. **Notes**: Type notes in the table to track the changes between runs.\n",
    "5. **Reports**: Take quick notes on progress to share with colleagues and make dashboards and snapshots of your ML projects.\n"
   ]
  },
  {
   "cell_type": "markdown",
   "metadata": {
    "Collapsed": "false",
    "id": "28NIm3FQ15uL"
   },
   "source": [
    "\n",
    "### 🤓 Advanced Setup\n",
    "\n",
    "1. [Environment variables](https://docs.wandb.com/library/environment-variables): Set API keys in environment variables so you can run training on a managed cluster.\n",
    "2. [Offline mode](https://docs.wandb.com/library/technical-faq#can-i-run-wandb-offline): Use `dryrun` mode to train offline and sync results later.\n",
    "3. [On-prem](https://docs.wandb.com/self-hosted): Install W&B in a private cloud or air-gapped servers in your own infrastructure. We have local installations for everyone from academics to enterprise teams.\n",
    "4. [Sweeps](http://wandb.me/sweeps-colab): Set up hyperparameter search quickly with our lightweight tool for tuning.\n",
    "5. [Artifacts](http://wandb.me/artifacts-colab): Track and version models and datasets in a streamlined way that automatically picks up your pipeline steps as you train models.\n",
    "6. [Tables](http://wandb.me/dsviz-nature-colab): Log, query, and analyze tabular data. Understand your datasets, visualize model predictions, and share insights in a central dashboard."
   ]
  }
 ],
 "metadata": {
  "colab": {
   "collapsed_sections": [],
   "name": "Intro to Weights & Biases의 사본",
   "private_outputs": true,
   "provenance": [],
   "toc_visible": true
  },
  "kernelspec": {
   "display_name": "Python 3",
   "language": "python",
   "name": "python3"
  },
  "language_info": {
   "codemirror_mode": {
    "name": "ipython",
    "version": 3
   },
   "file_extension": ".py",
   "mimetype": "text/x-python",
   "name": "python",
   "nbconvert_exporter": "python",
   "pygments_lexer": "ipython3",
   "version": "3.7.6"
  }
 },
 "nbformat": 4,
 "nbformat_minor": 4
}
