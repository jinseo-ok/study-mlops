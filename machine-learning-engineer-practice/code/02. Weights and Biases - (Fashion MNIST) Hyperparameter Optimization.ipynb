{
 "cells": [
  {
   "cell_type": "markdown",
   "metadata": {
    "Collapsed": "false"
   },
   "source": [
    "# Code 2. Weights and Biases - Hyperparameter Optimization (Fashion MNIST)"
   ]
  },
  {
   "cell_type": "code",
   "execution_count": 11,
   "metadata": {
    "Collapsed": "false"
   },
   "outputs": [],
   "source": [
    "import wandb"
   ]
  },
  {
   "cell_type": "code",
   "execution_count": 1,
   "metadata": {
    "Collapsed": "false"
   },
   "outputs": [
    {
     "name": "stdout",
     "output_type": "stream",
     "text": [
      "/Users/jinseok/opt/anaconda3/lib/python3.7/site-packages/requests/__init__.py:91: RequestsDependencyWarning: urllib3 (1.26.6) or chardet (3.0.4) doesn't match a supported version!\n",
      "  RequestsDependencyWarning)\n",
      "\u001b[34m\u001b[1mwandb\u001b[0m: Currently logged in as: \u001b[33mjinseock\u001b[0m (use `wandb login --relogin` to force relogin)\n"
     ]
    }
   ],
   "source": [
    "!wandb login"
   ]
  },
  {
   "cell_type": "code",
   "execution_count": 6,
   "metadata": {
    "Collapsed": "false"
   },
   "outputs": [],
   "source": [
    "def train():\n",
    "    import numpy as np\n",
    "    import tensorflow as tf\n",
    "    import wandb\n",
    "    \n",
    "    config_defaults = {\n",
    "          'layer_1_size': 128\n",
    "        , 'layer_1_activation' : 'relu'\n",
    "        , 'learning_rate' : 0.01\n",
    "        , 'dropout_rate' : 0.2\n",
    "        , 'optimizer' : 'adam'\n",
    "    }\n",
    "    wandb.init(\n",
    "            project = 'sweep-practice_FMNIST',\n",
    "            config = config_defaults,\n",
    "            magic=True\n",
    "            )\n",
    "    config = wandb.config\n",
    "\n",
    "    fashion_mnist = tf.keras.datasets.fashion_mnist\n",
    "    (train_images, train_labels), (test_images, test_labels) = fashion_mnist.load_data()\n",
    "    class_names = ['T-shirt/top', 'Trouser', 'Pullover', 'Dress', 'Coat',\n",
    "                   'Sandal', 'Shirt', 'Sneaker', 'Bag', 'Ankle boot']\n",
    "\n",
    "    train_images.shape\n",
    "    train_images = train_images / 255.0\n",
    "    test_images = test_images / 255.0\n",
    "\n",
    "    model = tf.keras.Sequential([\n",
    "        tf.keras.layers.Flatten(input_shape=(28, 28)),\n",
    "        tf.keras.layers.Dense(config.layer_1_size, activation = config.layer_1_activation),\n",
    "        tf.keras.layers.Dropout(config.dropout_rate),\n",
    "        tf.keras.layers.Dense(10, activation=tf.nn.softmax)\n",
    "    ])\n",
    "\n",
    "    if config.optimizer == 'adam': opt = tf.keras.optimizers.Adam(learning_rate = config.learning_rate)\n",
    "    elif config.optimizer == 'rmsprop': opt = tf.keras.optimizers.RMSprop(learning_rate = config.learning_rate)\n",
    "    else:\n",
    "        print('optimizer ERROR !')\n",
    "        sys.exit(1)\n",
    "\n",
    "    model.compile(optimizer = opt,\n",
    "                  loss = 'sparse_categorical_crossentropy',\n",
    "                  metrics = ['accuracy'])\n",
    "    \n",
    "    model.fit(train_images, train_labels, epochs=5,\n",
    "                  validation_data=(test_images, test_labels))\n"
   ]
  },
  {
   "cell_type": "code",
   "execution_count": 7,
   "metadata": {
    "Collapsed": "false"
   },
   "outputs": [],
   "source": [
    "sweep_config = {\n",
    "      'method' : 'random'\n",
    "    , 'parameters' : {\n",
    "        \n",
    "        'layer_1_size' : {\n",
    "            'values' : [32, 64, 128]\n",
    "        },\n",
    "        \n",
    "        'layer_1_activation' : {\n",
    "            'values' : ['relu', 'sigmoid']\n",
    "        },\n",
    "        \n",
    "        'dropout_rate' : {\n",
    "            'values' : [0.2, 0.3, 0.4, 0.5]\n",
    "        },\n",
    "        \n",
    "        'optimizer' : {\n",
    "            'values' : ['adam', 'rmsprop']\n",
    "        },\n",
    "        \n",
    "        'learning_rate' : {\n",
    "            'values' : [0.01, 0.001, 0.05]\n",
    "        }\n",
    "    }\n",
    "}"
   ]
  },
  {
   "cell_type": "code",
   "execution_count": 8,
   "metadata": {
    "Collapsed": "false"
   },
   "outputs": [
    {
     "name": "stdout",
     "output_type": "stream",
     "text": [
      "Create sweep with ID: l0r3ktxc\n",
      "Sweep URL: https://wandb.ai/jinseock/sweep-practice2/sweeps/l0r3ktxc\n"
     ]
    }
   ],
   "source": [
    "sweep_id = wandb.sweep(sweep_config, project = 'sweep-practice_FMNIST')"
   ]
  },
  {
   "cell_type": "code",
   "execution_count": 9,
   "metadata": {
    "Collapsed": "false"
   },
   "outputs": [
    {
     "name": "stderr",
     "output_type": "stream",
     "text": [
      "wandb: Agent Starting Run: dfhxk9rm with config:\n",
      "wandb: \tdropout_rate: 0.5\n",
      "wandb: \tlayer_1_activation: relu\n",
      "wandb: \tlayer_1_size: 32\n",
      "wandb: \tlearning_rate: 0.05\n",
      "wandb: \toptimizer: rmsprop\n",
      "wandb: WARNING Ignored wandb.init() arg project when running a sweep\n"
     ]
    },
    {
     "data": {
      "text/html": [
       "\n",
       "                Tracking run with wandb version 0.11.0<br/>\n",
       "                Syncing run <strong style=\"color:#cdcd00\">summer-sweep-1</strong> to <a href=\"https://wandb.ai\" target=\"_blank\">Weights & Biases</a> <a href=\"https://docs.wandb.com/integrations/jupyter.html\" target=\"_blank\">(Documentation)</a>.<br/>\n",
       "                Project page: <a href=\"https://wandb.ai/jinseock/sweep-practice2\" target=\"_blank\">https://wandb.ai/jinseock/sweep-practice2</a><br/>\n",
       "                Sweep page: <a href=\"https://wandb.ai/jinseock/sweep-practice2/sweeps/l0r3ktxc\" target=\"_blank\">https://wandb.ai/jinseock/sweep-practice2/sweeps/l0r3ktxc</a><br/>\n",
       "Run page: <a href=\"https://wandb.ai/jinseock/sweep-practice2/runs/dfhxk9rm\" target=\"_blank\">https://wandb.ai/jinseock/sweep-practice2/runs/dfhxk9rm</a><br/>\n",
       "                Run data is saved locally in <code>/Users/jinseok/Jupyter/Study/Lecture/Machine-Learning Engineer/Code/wandb/run-20210721_224347-dfhxk9rm</code><br/><br/>\n",
       "            "
      ],
      "text/plain": [
       "<IPython.core.display.HTML object>"
      ]
     },
     "metadata": {},
     "output_type": "display_data"
    },
    {
     "name": "stdout",
     "output_type": "stream",
     "text": [
      "Epoch 1/5\n",
      "   3/1875 [..............................] - ETA: 1:01 - loss: 12.3352 - accuracy: 0.0556    WARNING:tensorflow:Callback method `on_train_batch_end` is slow compared to the batch time (batch time: 0.0009s vs `on_train_batch_end` time: 0.0108s). Check your callbacks.\n",
      "1875/1875 [==============================] - 3s 1ms/step - loss: 2.3095 - accuracy: 0.1880 - val_loss: 1.8121 - val_accuracy: 0.3428\n",
      "Epoch 2/5\n",
      "1875/1875 [==============================] - 2s 1ms/step - loss: 2.1484 - accuracy: 0.2116 - val_loss: 1.9046 - val_accuracy: 0.3511\n",
      "Epoch 3/5\n",
      "1875/1875 [==============================] - 2s 1ms/step - loss: 2.0905 - accuracy: 0.2318 - val_loss: 1.8319 - val_accuracy: 0.2957\n",
      "Epoch 4/5\n",
      "1875/1875 [==============================] - 2s 1ms/step - loss: 2.1158 - accuracy: 0.2266 - val_loss: 1.8263 - val_accuracy: 0.3102\n",
      "Epoch 5/5\n",
      "1875/1875 [==============================] - 2s 1ms/step - loss: 2.1301 - accuracy: 0.2254 - val_loss: 1.8478 - val_accuracy: 0.3328\n"
     ]
    },
    {
     "data": {
      "text/html": [
       "<br/>Waiting for W&B process to finish, PID 60402<br/>Program ended successfully."
      ],
      "text/plain": [
       "<IPython.core.display.HTML object>"
      ]
     },
     "metadata": {},
     "output_type": "display_data"
    },
    {
     "data": {
      "application/vnd.jupyter.widget-view+json": {
       "model_id": "0d003f13a7354f3090be7cbeb80b9803",
       "version_major": 2,
       "version_minor": 0
      },
      "text/plain": [
       "VBox(children=(Label(value=' 0.55MB of 0.56MB uploaded (0.00MB deduped)\\r'), FloatProgress(value=0.97896589749…"
      ]
     },
     "metadata": {},
     "output_type": "display_data"
    },
    {
     "data": {
      "text/html": [
       "Find user logs for this run at: <code>/Users/jinseok/Jupyter/Study/Lecture/Machine-Learning Engineer/Code/wandb/run-20210721_224347-dfhxk9rm/logs/debug.log</code>"
      ],
      "text/plain": [
       "<IPython.core.display.HTML object>"
      ]
     },
     "metadata": {},
     "output_type": "display_data"
    },
    {
     "data": {
      "text/html": [
       "Find internal logs for this run at: <code>/Users/jinseok/Jupyter/Study/Lecture/Machine-Learning Engineer/Code/wandb/run-20210721_224347-dfhxk9rm/logs/debug-internal.log</code>"
      ],
      "text/plain": [
       "<IPython.core.display.HTML object>"
      ]
     },
     "metadata": {},
     "output_type": "display_data"
    },
    {
     "data": {
      "text/html": [
       "<h3>Run summary:</h3><br/><style>\n",
       "    table.wandb td:nth-child(1) { padding: 0 10px; text-align: right }\n",
       "    </style><table class=\"wandb\">\n",
       "<tr><td>epoch</td><td>4</td></tr><tr><td>loss</td><td>2.1498</td></tr><tr><td>accuracy</td><td>0.22203</td></tr><tr><td>val_loss</td><td>1.84781</td></tr><tr><td>val_accuracy</td><td>0.3328</td></tr><tr><td>_runtime</td><td>23</td></tr><tr><td>_timestamp</td><td>1626875050</td></tr><tr><td>_step</td><td>4</td></tr><tr><td>best_val_loss</td><td>1.81206</td></tr><tr><td>best_epoch</td><td>0</td></tr></table>"
      ],
      "text/plain": [
       "<IPython.core.display.HTML object>"
      ]
     },
     "metadata": {},
     "output_type": "display_data"
    },
    {
     "data": {
      "text/html": [
       "<h3>Run history:</h3><br/><style>\n",
       "    table.wandb td:nth-child(1) { padding: 0 10px; text-align: right }\n",
       "    </style><table class=\"wandb\">\n",
       "<tr><td>epoch</td><td>▁▃▅▆█</td></tr><tr><td>loss</td><td>█▅▁▁▆</td></tr><tr><td>accuracy</td><td>▁▅███</td></tr><tr><td>val_loss</td><td>▁█▃▂▄</td></tr><tr><td>val_accuracy</td><td>▇█▁▃▆</td></tr><tr><td>_runtime</td><td>▁▃▅▆█</td></tr><tr><td>_timestamp</td><td>▁▃▅▆█</td></tr><tr><td>_step</td><td>▁▃▅▆█</td></tr></table><br/>"
      ],
      "text/plain": [
       "<IPython.core.display.HTML object>"
      ]
     },
     "metadata": {},
     "output_type": "display_data"
    },
    {
     "data": {
      "text/html": [
       "Synced 6 W&B file(s), 181 media file(s), 0 artifact file(s) and 10 other file(s)"
      ],
      "text/plain": [
       "<IPython.core.display.HTML object>"
      ]
     },
     "metadata": {},
     "output_type": "display_data"
    },
    {
     "data": {
      "text/html": [
       "\n",
       "                    <br/>Synced <strong style=\"color:#cdcd00\">summer-sweep-1</strong>: <a href=\"https://wandb.ai/jinseock/sweep-practice2/runs/dfhxk9rm\" target=\"_blank\">https://wandb.ai/jinseock/sweep-practice2/runs/dfhxk9rm</a><br/>\n",
       "                "
      ],
      "text/plain": [
       "<IPython.core.display.HTML object>"
      ]
     },
     "metadata": {},
     "output_type": "display_data"
    },
    {
     "name": "stderr",
     "output_type": "stream",
     "text": [
      "wandb: Agent Starting Run: uj4rmwj0 with config:\n",
      "wandb: \tdropout_rate: 0.4\n",
      "wandb: \tlayer_1_activation: relu\n",
      "wandb: \tlayer_1_size: 32\n",
      "wandb: \tlearning_rate: 0.05\n",
      "wandb: \toptimizer: adam\n",
      "wandb: WARNING Ignored wandb.init() arg project when running a sweep\n"
     ]
    },
    {
     "data": {
      "text/html": [
       "\n",
       "                Tracking run with wandb version 0.11.0<br/>\n",
       "                Syncing run <strong style=\"color:#cdcd00\">deep-sweep-2</strong> to <a href=\"https://wandb.ai\" target=\"_blank\">Weights & Biases</a> <a href=\"https://docs.wandb.com/integrations/jupyter.html\" target=\"_blank\">(Documentation)</a>.<br/>\n",
       "                Project page: <a href=\"https://wandb.ai/jinseock/sweep-practice2\" target=\"_blank\">https://wandb.ai/jinseock/sweep-practice2</a><br/>\n",
       "                Sweep page: <a href=\"https://wandb.ai/jinseock/sweep-practice2/sweeps/l0r3ktxc\" target=\"_blank\">https://wandb.ai/jinseock/sweep-practice2/sweeps/l0r3ktxc</a><br/>\n",
       "Run page: <a href=\"https://wandb.ai/jinseock/sweep-practice2/runs/uj4rmwj0\" target=\"_blank\">https://wandb.ai/jinseock/sweep-practice2/runs/uj4rmwj0</a><br/>\n",
       "                Run data is saved locally in <code>/Users/jinseok/Jupyter/Study/Lecture/Machine-Learning Engineer/Code/wandb/run-20210721_224416-uj4rmwj0</code><br/><br/>\n",
       "            "
      ],
      "text/plain": [
       "<IPython.core.display.HTML object>"
      ]
     },
     "metadata": {},
     "output_type": "display_data"
    },
    {
     "name": "stdout",
     "output_type": "stream",
     "text": [
      "Epoch 1/5\n",
      "   3/1875 [..............................] - ETA: 54s - loss: 4.8418 - accuracy: 0.1580 WARNING:tensorflow:Callback method `on_train_batch_end` is slow compared to the batch time (batch time: 0.0010s vs `on_train_batch_end` time: 0.0094s). Check your callbacks.\n",
      "1875/1875 [==============================] - 2s 847us/step - loss: 2.2371 - accuracy: 0.1616 - val_loss: 2.3059 - val_accuracy: 0.0999\n",
      "Epoch 2/5\n",
      "1875/1875 [==============================] - 2s 963us/step - loss: 2.3088 - accuracy: 0.0997 - val_loss: 2.3124 - val_accuracy: 0.1000\n",
      "Epoch 3/5\n",
      "1875/1875 [==============================] - 2s 968us/step - loss: 2.3101 - accuracy: 0.0976 - val_loss: 2.3088 - val_accuracy: 0.1000\n",
      "Epoch 4/5\n",
      "1875/1875 [==============================] - 2s 921us/step - loss: 2.3096 - accuracy: 0.0977 - val_loss: 2.3078 - val_accuracy: 0.1000\n",
      "Epoch 5/5\n",
      "1875/1875 [==============================] - 2s 905us/step - loss: 2.3074 - accuracy: 0.1038 - val_loss: 2.2958 - val_accuracy: 0.1040\n"
     ]
    },
    {
     "data": {
      "text/html": [
       "<br/>Waiting for W&B process to finish, PID 60443<br/>Program ended successfully."
      ],
      "text/plain": [
       "<IPython.core.display.HTML object>"
      ]
     },
     "metadata": {},
     "output_type": "display_data"
    },
    {
     "data": {
      "application/vnd.jupyter.widget-view+json": {
       "model_id": "43c829d2ba33401393027878037fdbe8",
       "version_major": 2,
       "version_minor": 0
      },
      "text/plain": [
       "VBox(children=(Label(value=' 0.60MB of 0.60MB uploaded (0.00MB deduped)\\r'), FloatProgress(value=1.0, max=1.0)…"
      ]
     },
     "metadata": {},
     "output_type": "display_data"
    },
    {
     "data": {
      "text/html": [
       "Find user logs for this run at: <code>/Users/jinseok/Jupyter/Study/Lecture/Machine-Learning Engineer/Code/wandb/run-20210721_224416-uj4rmwj0/logs/debug.log</code>"
      ],
      "text/plain": [
       "<IPython.core.display.HTML object>"
      ]
     },
     "metadata": {},
     "output_type": "display_data"
    },
    {
     "data": {
      "text/html": [
       "Find internal logs for this run at: <code>/Users/jinseok/Jupyter/Study/Lecture/Machine-Learning Engineer/Code/wandb/run-20210721_224416-uj4rmwj0/logs/debug-internal.log</code>"
      ],
      "text/plain": [
       "<IPython.core.display.HTML object>"
      ]
     },
     "metadata": {},
     "output_type": "display_data"
    },
    {
     "data": {
      "text/html": [
       "<h3>Run summary:</h3><br/><style>\n",
       "    table.wandb td:nth-child(1) { padding: 0 10px; text-align: right }\n",
       "    </style><table class=\"wandb\">\n",
       "<tr><td>epoch</td><td>4</td></tr><tr><td>loss</td><td>2.30751</td></tr><tr><td>accuracy</td><td>0.1039</td></tr><tr><td>val_loss</td><td>2.29583</td></tr><tr><td>val_accuracy</td><td>0.104</td></tr><tr><td>_runtime</td><td>20</td></tr><tr><td>_timestamp</td><td>1626875076</td></tr><tr><td>_step</td><td>4</td></tr><tr><td>best_val_loss</td><td>2.29583</td></tr><tr><td>best_epoch</td><td>4</td></tr></table>"
      ],
      "text/plain": [
       "<IPython.core.display.HTML object>"
      ]
     },
     "metadata": {},
     "output_type": "display_data"
    },
    {
     "data": {
      "text/html": [
       "<h3>Run history:</h3><br/><style>\n",
       "    table.wandb td:nth-child(1) { padding: 0 10px; text-align: right }\n",
       "    </style><table class=\"wandb\">\n",
       "<tr><td>epoch</td><td>▁▃▅▆█</td></tr><tr><td>loss</td><td>▁████</td></tr><tr><td>accuracy</td><td>█▁▁▁▂</td></tr><tr><td>val_loss</td><td>▅█▆▆▁</td></tr><tr><td>val_accuracy</td><td>▁▁▁▁█</td></tr><tr><td>_runtime</td><td>▁▃▅▇█</td></tr><tr><td>_timestamp</td><td>▁▃▅▇█</td></tr><tr><td>_step</td><td>▁▃▅▆█</td></tr></table><br/>"
      ],
      "text/plain": [
       "<IPython.core.display.HTML object>"
      ]
     },
     "metadata": {},
     "output_type": "display_data"
    },
    {
     "data": {
      "text/html": [
       "Synced 6 W&B file(s), 181 media file(s), 0 artifact file(s) and 10 other file(s)"
      ],
      "text/plain": [
       "<IPython.core.display.HTML object>"
      ]
     },
     "metadata": {},
     "output_type": "display_data"
    },
    {
     "data": {
      "text/html": [
       "\n",
       "                    <br/>Synced <strong style=\"color:#cdcd00\">deep-sweep-2</strong>: <a href=\"https://wandb.ai/jinseock/sweep-practice2/runs/uj4rmwj0\" target=\"_blank\">https://wandb.ai/jinseock/sweep-practice2/runs/uj4rmwj0</a><br/>\n",
       "                "
      ],
      "text/plain": [
       "<IPython.core.display.HTML object>"
      ]
     },
     "metadata": {},
     "output_type": "display_data"
    },
    {
     "name": "stderr",
     "output_type": "stream",
     "text": [
      "wandb: Agent Starting Run: rqyh5m8a with config:\n",
      "wandb: \tdropout_rate: 0.4\n",
      "wandb: \tlayer_1_activation: sigmoid\n",
      "wandb: \tlayer_1_size: 32\n",
      "wandb: \tlearning_rate: 0.001\n",
      "wandb: \toptimizer: adam\n",
      "wandb: WARNING Ignored wandb.init() arg project when running a sweep\n"
     ]
    },
    {
     "data": {
      "text/html": [
       "\n",
       "                Tracking run with wandb version 0.11.0<br/>\n",
       "                Syncing run <strong style=\"color:#cdcd00\">swept-sweep-3</strong> to <a href=\"https://wandb.ai\" target=\"_blank\">Weights & Biases</a> <a href=\"https://docs.wandb.com/integrations/jupyter.html\" target=\"_blank\">(Documentation)</a>.<br/>\n",
       "                Project page: <a href=\"https://wandb.ai/jinseock/sweep-practice2\" target=\"_blank\">https://wandb.ai/jinseock/sweep-practice2</a><br/>\n",
       "                Sweep page: <a href=\"https://wandb.ai/jinseock/sweep-practice2/sweeps/l0r3ktxc\" target=\"_blank\">https://wandb.ai/jinseock/sweep-practice2/sweeps/l0r3ktxc</a><br/>\n",
       "Run page: <a href=\"https://wandb.ai/jinseock/sweep-practice2/runs/rqyh5m8a\" target=\"_blank\">https://wandb.ai/jinseock/sweep-practice2/runs/rqyh5m8a</a><br/>\n",
       "                Run data is saved locally in <code>/Users/jinseok/Jupyter/Study/Lecture/Machine-Learning Engineer/Code/wandb/run-20210721_224442-rqyh5m8a</code><br/><br/>\n",
       "            "
      ],
      "text/plain": [
       "<IPython.core.display.HTML object>"
      ]
     },
     "metadata": {},
     "output_type": "display_data"
    },
    {
     "name": "stdout",
     "output_type": "stream",
     "text": [
      "Epoch 1/5\n",
      "   3/1875 [..............................] - ETA: 51s - loss: 2.6481 - accuracy: 0.0538      WARNING:tensorflow:Callback method `on_train_batch_end` is slow compared to the batch time (batch time: 0.0008s vs `on_train_batch_end` time: 0.0089s). Check your callbacks.\n",
      "1875/1875 [==============================] - 2s 855us/step - loss: 1.1590 - accuracy: 0.6134 - val_loss: 0.5377 - val_accuracy: 0.8171\n",
      "Epoch 2/5\n",
      "1875/1875 [==============================] - 2s 926us/step - loss: 0.6165 - accuracy: 0.7905 - val_loss: 0.4803 - val_accuracy: 0.8252\n",
      "Epoch 3/5\n",
      "1875/1875 [==============================] - 2s 860us/step - loss: 0.5510 - accuracy: 0.8075 - val_loss: 0.4624 - val_accuracy: 0.8306\n",
      "Epoch 4/5\n",
      "1875/1875 [==============================] - 2s 868us/step - loss: 0.5179 - accuracy: 0.8192 - val_loss: 0.4346 - val_accuracy: 0.8444\n",
      "Epoch 5/5\n",
      "1875/1875 [==============================] - 2s 887us/step - loss: 0.4980 - accuracy: 0.8253 - val_loss: 0.4286 - val_accuracy: 0.8408\n"
     ]
    },
    {
     "data": {
      "text/html": [
       "<br/>Waiting for W&B process to finish, PID 60473<br/>Program ended successfully."
      ],
      "text/plain": [
       "<IPython.core.display.HTML object>"
      ]
     },
     "metadata": {},
     "output_type": "display_data"
    },
    {
     "data": {
      "application/vnd.jupyter.widget-view+json": {
       "model_id": "5bf38d3cef524484afa1448033576617",
       "version_major": 2,
       "version_minor": 0
      },
      "text/plain": [
       "VBox(children=(Label(value=' 0.60MB of 0.60MB uploaded (0.00MB deduped)\\r'), FloatProgress(value=0.99791251541…"
      ]
     },
     "metadata": {},
     "output_type": "display_data"
    },
    {
     "data": {
      "text/html": [
       "Find user logs for this run at: <code>/Users/jinseok/Jupyter/Study/Lecture/Machine-Learning Engineer/Code/wandb/run-20210721_224442-rqyh5m8a/logs/debug.log</code>"
      ],
      "text/plain": [
       "<IPython.core.display.HTML object>"
      ]
     },
     "metadata": {},
     "output_type": "display_data"
    },
    {
     "data": {
      "text/html": [
       "Find internal logs for this run at: <code>/Users/jinseok/Jupyter/Study/Lecture/Machine-Learning Engineer/Code/wandb/run-20210721_224442-rqyh5m8a/logs/debug-internal.log</code>"
      ],
      "text/plain": [
       "<IPython.core.display.HTML object>"
      ]
     },
     "metadata": {},
     "output_type": "display_data"
    },
    {
     "data": {
      "text/html": [
       "<h3>Run summary:</h3><br/><style>\n",
       "    table.wandb td:nth-child(1) { padding: 0 10px; text-align: right }\n",
       "    </style><table class=\"wandb\">\n",
       "<tr><td>epoch</td><td>4</td></tr><tr><td>loss</td><td>0.49891</td></tr><tr><td>accuracy</td><td>0.8237</td></tr><tr><td>val_loss</td><td>0.42857</td></tr><tr><td>val_accuracy</td><td>0.8408</td></tr><tr><td>_runtime</td><td>20</td></tr><tr><td>_timestamp</td><td>1626875102</td></tr><tr><td>_step</td><td>4</td></tr><tr><td>best_val_loss</td><td>0.42857</td></tr><tr><td>best_epoch</td><td>4</td></tr></table>"
      ],
      "text/plain": [
       "<IPython.core.display.HTML object>"
      ]
     },
     "metadata": {},
     "output_type": "display_data"
    },
    {
     "data": {
      "text/html": [
       "<h3>Run history:</h3><br/><style>\n",
       "    table.wandb td:nth-child(1) { padding: 0 10px; text-align: right }\n",
       "    </style><table class=\"wandb\">\n",
       "<tr><td>epoch</td><td>▁▃▅▆█</td></tr><tr><td>loss</td><td>█▃▂▁▁</td></tr><tr><td>accuracy</td><td>▁▆▇██</td></tr><tr><td>val_loss</td><td>█▄▃▁▁</td></tr><tr><td>val_accuracy</td><td>▁▃▄█▇</td></tr><tr><td>_runtime</td><td>▁▃▅▆█</td></tr><tr><td>_timestamp</td><td>▁▃▅▆█</td></tr><tr><td>_step</td><td>▁▃▅▆█</td></tr></table><br/>"
      ],
      "text/plain": [
       "<IPython.core.display.HTML object>"
      ]
     },
     "metadata": {},
     "output_type": "display_data"
    },
    {
     "data": {
      "text/html": [
       "Synced 6 W&B file(s), 181 media file(s), 0 artifact file(s) and 10 other file(s)"
      ],
      "text/plain": [
       "<IPython.core.display.HTML object>"
      ]
     },
     "metadata": {},
     "output_type": "display_data"
    },
    {
     "data": {
      "text/html": [
       "\n",
       "                    <br/>Synced <strong style=\"color:#cdcd00\">swept-sweep-3</strong>: <a href=\"https://wandb.ai/jinseock/sweep-practice2/runs/rqyh5m8a\" target=\"_blank\">https://wandb.ai/jinseock/sweep-practice2/runs/rqyh5m8a</a><br/>\n",
       "                "
      ],
      "text/plain": [
       "<IPython.core.display.HTML object>"
      ]
     },
     "metadata": {},
     "output_type": "display_data"
    },
    {
     "name": "stderr",
     "output_type": "stream",
     "text": [
      "wandb: Agent Starting Run: 4g0cn9db with config:\n",
      "wandb: \tdropout_rate: 0.2\n",
      "wandb: \tlayer_1_activation: sigmoid\n",
      "wandb: \tlayer_1_size: 128\n",
      "wandb: \tlearning_rate: 0.001\n",
      "wandb: \toptimizer: adam\n",
      "wandb: WARNING Ignored wandb.init() arg project when running a sweep\n"
     ]
    },
    {
     "data": {
      "text/html": [
       "\n",
       "                Tracking run with wandb version 0.11.0<br/>\n",
       "                Syncing run <strong style=\"color:#cdcd00\">lemon-sweep-4</strong> to <a href=\"https://wandb.ai\" target=\"_blank\">Weights & Biases</a> <a href=\"https://docs.wandb.com/integrations/jupyter.html\" target=\"_blank\">(Documentation)</a>.<br/>\n",
       "                Project page: <a href=\"https://wandb.ai/jinseock/sweep-practice2\" target=\"_blank\">https://wandb.ai/jinseock/sweep-practice2</a><br/>\n",
       "                Sweep page: <a href=\"https://wandb.ai/jinseock/sweep-practice2/sweeps/l0r3ktxc\" target=\"_blank\">https://wandb.ai/jinseock/sweep-practice2/sweeps/l0r3ktxc</a><br/>\n",
       "Run page: <a href=\"https://wandb.ai/jinseock/sweep-practice2/runs/4g0cn9db\" target=\"_blank\">https://wandb.ai/jinseock/sweep-practice2/runs/4g0cn9db</a><br/>\n",
       "                Run data is saved locally in <code>/Users/jinseok/Jupyter/Study/Lecture/Machine-Learning Engineer/Code/wandb/run-20210721_224507-4g0cn9db</code><br/><br/>\n",
       "            "
      ],
      "text/plain": [
       "<IPython.core.display.HTML object>"
      ]
     },
     "metadata": {},
     "output_type": "display_data"
    },
    {
     "name": "stdout",
     "output_type": "stream",
     "text": [
      "Epoch 1/5\n",
      "   1/1875 [..............................] - ETA: 8:03 - loss: 2.5609 - accuracy: 0.0625WARNING:tensorflow:Callback method `on_train_batch_end` is slow compared to the batch time (batch time: 0.0011s vs `on_train_batch_end` time: 0.0073s). Check your callbacks.\n",
      "1875/1875 [==============================] - 2s 1ms/step - loss: 0.7808 - accuracy: 0.7379 - val_loss: 0.4498 - val_accuracy: 0.8361\n",
      "Epoch 2/5\n",
      "1875/1875 [==============================] - 2s 1ms/step - loss: 0.4295 - accuracy: 0.8458 - val_loss: 0.4049 - val_accuracy: 0.8525\n",
      "Epoch 3/5\n",
      "1875/1875 [==============================] - 2s 1ms/step - loss: 0.3881 - accuracy: 0.8584 - val_loss: 0.3861 - val_accuracy: 0.8592\n",
      "Epoch 4/5\n",
      "1875/1875 [==============================] - 2s 1ms/step - loss: 0.3647 - accuracy: 0.8664 - val_loss: 0.3779 - val_accuracy: 0.8627\n",
      "Epoch 5/5\n",
      "1875/1875 [==============================] - 2s 1ms/step - loss: 0.3433 - accuracy: 0.8748 - val_loss: 0.3709 - val_accuracy: 0.8675\n"
     ]
    },
    {
     "data": {
      "text/html": [
       "<br/>Waiting for W&B process to finish, PID 60494<br/>Program ended successfully."
      ],
      "text/plain": [
       "<IPython.core.display.HTML object>"
      ]
     },
     "metadata": {},
     "output_type": "display_data"
    },
    {
     "data": {
      "application/vnd.jupyter.widget-view+json": {
       "model_id": "e9cfe877060b4253b8320a347edc7439",
       "version_major": 2,
       "version_minor": 0
      },
      "text/plain": [
       "VBox(children=(Label(value=' 1.47MB of 1.48MB uploaded (0.00MB deduped)\\r'), FloatProgress(value=0.99638213212…"
      ]
     },
     "metadata": {},
     "output_type": "display_data"
    },
    {
     "data": {
      "text/html": [
       "Find user logs for this run at: <code>/Users/jinseok/Jupyter/Study/Lecture/Machine-Learning Engineer/Code/wandb/run-20210721_224507-4g0cn9db/logs/debug.log</code>"
      ],
      "text/plain": [
       "<IPython.core.display.HTML object>"
      ]
     },
     "metadata": {},
     "output_type": "display_data"
    },
    {
     "data": {
      "text/html": [
       "Find internal logs for this run at: <code>/Users/jinseok/Jupyter/Study/Lecture/Machine-Learning Engineer/Code/wandb/run-20210721_224507-4g0cn9db/logs/debug-internal.log</code>"
      ],
      "text/plain": [
       "<IPython.core.display.HTML object>"
      ]
     },
     "metadata": {},
     "output_type": "display_data"
    },
    {
     "data": {
      "text/html": [
       "<h3>Run summary:</h3><br/><style>\n",
       "    table.wandb td:nth-child(1) { padding: 0 10px; text-align: right }\n",
       "    </style><table class=\"wandb\">\n",
       "<tr><td>epoch</td><td>4</td></tr><tr><td>loss</td><td>0.34269</td></tr><tr><td>accuracy</td><td>0.87538</td></tr><tr><td>val_loss</td><td>0.37095</td></tr><tr><td>val_accuracy</td><td>0.8675</td></tr><tr><td>_runtime</td><td>21</td></tr><tr><td>_timestamp</td><td>1626875128</td></tr><tr><td>_step</td><td>4</td></tr><tr><td>best_val_loss</td><td>0.37095</td></tr><tr><td>best_epoch</td><td>4</td></tr></table>"
      ],
      "text/plain": [
       "<IPython.core.display.HTML object>"
      ]
     },
     "metadata": {},
     "output_type": "display_data"
    },
    {
     "data": {
      "text/html": [
       "<h3>Run history:</h3><br/><style>\n",
       "    table.wandb td:nth-child(1) { padding: 0 10px; text-align: right }\n",
       "    </style><table class=\"wandb\">\n",
       "<tr><td>epoch</td><td>▁▃▅▆█</td></tr><tr><td>loss</td><td>█▃▂▁▁</td></tr><tr><td>accuracy</td><td>▁▆▇▇█</td></tr><tr><td>val_loss</td><td>█▄▂▂▁</td></tr><tr><td>val_accuracy</td><td>▁▅▆▇█</td></tr><tr><td>_runtime</td><td>▁▃▅▆█</td></tr><tr><td>_timestamp</td><td>▁▃▅▆█</td></tr><tr><td>_step</td><td>▁▃▅▆█</td></tr></table><br/>"
      ],
      "text/plain": [
       "<IPython.core.display.HTML object>"
      ]
     },
     "metadata": {},
     "output_type": "display_data"
    },
    {
     "data": {
      "text/html": [
       "Synced 6 W&B file(s), 181 media file(s), 0 artifact file(s) and 10 other file(s)"
      ],
      "text/plain": [
       "<IPython.core.display.HTML object>"
      ]
     },
     "metadata": {},
     "output_type": "display_data"
    },
    {
     "data": {
      "text/html": [
       "\n",
       "                    <br/>Synced <strong style=\"color:#cdcd00\">lemon-sweep-4</strong>: <a href=\"https://wandb.ai/jinseock/sweep-practice2/runs/4g0cn9db\" target=\"_blank\">https://wandb.ai/jinseock/sweep-practice2/runs/4g0cn9db</a><br/>\n",
       "                "
      ],
      "text/plain": [
       "<IPython.core.display.HTML object>"
      ]
     },
     "metadata": {},
     "output_type": "display_data"
    },
    {
     "name": "stderr",
     "output_type": "stream",
     "text": [
      "wandb: Agent Starting Run: nzah7dsa with config:\n",
      "wandb: \tdropout_rate: 0.4\n",
      "wandb: \tlayer_1_activation: relu\n",
      "wandb: \tlayer_1_size: 128\n",
      "wandb: \tlearning_rate: 0.001\n",
      "wandb: \toptimizer: rmsprop\n",
      "wandb: WARNING Ignored wandb.init() arg project when running a sweep\n"
     ]
    },
    {
     "data": {
      "text/html": [
       "\n",
       "                Tracking run with wandb version 0.11.0<br/>\n",
       "                Syncing run <strong style=\"color:#cdcd00\">frosty-sweep-5</strong> to <a href=\"https://wandb.ai\" target=\"_blank\">Weights & Biases</a> <a href=\"https://docs.wandb.com/integrations/jupyter.html\" target=\"_blank\">(Documentation)</a>.<br/>\n",
       "                Project page: <a href=\"https://wandb.ai/jinseock/sweep-practice2\" target=\"_blank\">https://wandb.ai/jinseock/sweep-practice2</a><br/>\n",
       "                Sweep page: <a href=\"https://wandb.ai/jinseock/sweep-practice2/sweeps/l0r3ktxc\" target=\"_blank\">https://wandb.ai/jinseock/sweep-practice2/sweeps/l0r3ktxc</a><br/>\n",
       "Run page: <a href=\"https://wandb.ai/jinseock/sweep-practice2/runs/nzah7dsa\" target=\"_blank\">https://wandb.ai/jinseock/sweep-practice2/runs/nzah7dsa</a><br/>\n",
       "                Run data is saved locally in <code>/Users/jinseok/Jupyter/Study/Lecture/Machine-Learning Engineer/Code/wandb/run-20210721_224534-nzah7dsa</code><br/><br/>\n",
       "            "
      ],
      "text/plain": [
       "<IPython.core.display.HTML object>"
      ]
     },
     "metadata": {},
     "output_type": "display_data"
    },
    {
     "name": "stdout",
     "output_type": "stream",
     "text": [
      "Epoch 1/5\n",
      "   3/1875 [..............................] - ETA: 47s - loss: 2.2866 - accuracy: 0.1319 WARNING:tensorflow:Callback method `on_train_batch_end` is slow compared to the batch time (batch time: 0.0012s vs `on_train_batch_end` time: 0.0082s). Check your callbacks.\n",
      "1875/1875 [==============================] - 2s 1ms/step - loss: 0.7416 - accuracy: 0.7382 - val_loss: 0.4601 - val_accuracy: 0.8361\n",
      "Epoch 2/5\n",
      "1875/1875 [==============================] - 2s 1ms/step - loss: 0.4749 - accuracy: 0.8365 - val_loss: 0.4414 - val_accuracy: 0.8452\n",
      "Epoch 3/5\n",
      "1875/1875 [==============================] - 2s 1ms/step - loss: 0.4360 - accuracy: 0.8482 - val_loss: 0.4344 - val_accuracy: 0.8526\n",
      "Epoch 4/5\n",
      "1875/1875 [==============================] - 2s 1ms/step - loss: 0.4341 - accuracy: 0.8535 - val_loss: 0.4200 - val_accuracy: 0.8667\n",
      "Epoch 5/5\n",
      "1875/1875 [==============================] - 3s 1ms/step - loss: 0.4378 - accuracy: 0.8556 - val_loss: 0.4467 - val_accuracy: 0.8602\n"
     ]
    },
    {
     "data": {
      "text/html": [
       "<br/>Waiting for W&B process to finish, PID 60519<br/>Program ended successfully."
      ],
      "text/plain": [
       "<IPython.core.display.HTML object>"
      ]
     },
     "metadata": {},
     "output_type": "display_data"
    },
    {
     "data": {
      "application/vnd.jupyter.widget-view+json": {
       "model_id": "4675762c7b3047bc92672b2fed5dcc28",
       "version_major": 2,
       "version_minor": 0
      },
      "text/plain": [
       "VBox(children=(Label(value=' 1.13MB of 1.14MB uploaded (0.00MB deduped)\\r'), FloatProgress(value=0.99023019506…"
      ]
     },
     "metadata": {},
     "output_type": "display_data"
    },
    {
     "data": {
      "text/html": [
       "Find user logs for this run at: <code>/Users/jinseok/Jupyter/Study/Lecture/Machine-Learning Engineer/Code/wandb/run-20210721_224534-nzah7dsa/logs/debug.log</code>"
      ],
      "text/plain": [
       "<IPython.core.display.HTML object>"
      ]
     },
     "metadata": {},
     "output_type": "display_data"
    },
    {
     "data": {
      "text/html": [
       "Find internal logs for this run at: <code>/Users/jinseok/Jupyter/Study/Lecture/Machine-Learning Engineer/Code/wandb/run-20210721_224534-nzah7dsa/logs/debug-internal.log</code>"
      ],
      "text/plain": [
       "<IPython.core.display.HTML object>"
      ]
     },
     "metadata": {},
     "output_type": "display_data"
    },
    {
     "data": {
      "text/html": [
       "<h3>Run summary:</h3><br/><style>\n",
       "    table.wandb td:nth-child(1) { padding: 0 10px; text-align: right }\n",
       "    </style><table class=\"wandb\">\n",
       "<tr><td>epoch</td><td>4</td></tr><tr><td>loss</td><td>0.43648</td></tr><tr><td>accuracy</td><td>0.85625</td></tr><tr><td>val_loss</td><td>0.44674</td></tr><tr><td>val_accuracy</td><td>0.8602</td></tr><tr><td>_runtime</td><td>21</td></tr><tr><td>_timestamp</td><td>1626875155</td></tr><tr><td>_step</td><td>4</td></tr><tr><td>best_val_loss</td><td>0.42</td></tr><tr><td>best_epoch</td><td>3</td></tr></table>"
      ],
      "text/plain": [
       "<IPython.core.display.HTML object>"
      ]
     },
     "metadata": {},
     "output_type": "display_data"
    },
    {
     "data": {
      "text/html": [
       "<h3>Run history:</h3><br/><style>\n",
       "    table.wandb td:nth-child(1) { padding: 0 10px; text-align: right }\n",
       "    </style><table class=\"wandb\">\n",
       "<tr><td>epoch</td><td>▁▃▅▆█</td></tr><tr><td>loss</td><td>█▂▁▁▁</td></tr><tr><td>accuracy</td><td>▁▆▇██</td></tr><tr><td>val_loss</td><td>█▅▄▁▆</td></tr><tr><td>val_accuracy</td><td>▁▃▅█▇</td></tr><tr><td>_runtime</td><td>▁▃▅▆█</td></tr><tr><td>_timestamp</td><td>▁▃▅▆█</td></tr><tr><td>_step</td><td>▁▃▅▆█</td></tr></table><br/>"
      ],
      "text/plain": [
       "<IPython.core.display.HTML object>"
      ]
     },
     "metadata": {},
     "output_type": "display_data"
    },
    {
     "data": {
      "text/html": [
       "Synced 6 W&B file(s), 181 media file(s), 0 artifact file(s) and 10 other file(s)"
      ],
      "text/plain": [
       "<IPython.core.display.HTML object>"
      ]
     },
     "metadata": {},
     "output_type": "display_data"
    },
    {
     "data": {
      "text/html": [
       "\n",
       "                    <br/>Synced <strong style=\"color:#cdcd00\">frosty-sweep-5</strong>: <a href=\"https://wandb.ai/jinseock/sweep-practice2/runs/nzah7dsa\" target=\"_blank\">https://wandb.ai/jinseock/sweep-practice2/runs/nzah7dsa</a><br/>\n",
       "                "
      ],
      "text/plain": [
       "<IPython.core.display.HTML object>"
      ]
     },
     "metadata": {},
     "output_type": "display_data"
    },
    {
     "name": "stderr",
     "output_type": "stream",
     "text": [
      "wandb: Agent Starting Run: cq6qfa63 with config:\n",
      "wandb: \tdropout_rate: 0.2\n",
      "wandb: \tlayer_1_activation: sigmoid\n",
      "wandb: \tlayer_1_size: 128\n",
      "wandb: \tlearning_rate: 0.01\n",
      "wandb: \toptimizer: adam\n",
      "wandb: WARNING Ignored wandb.init() arg project when running a sweep\n"
     ]
    },
    {
     "data": {
      "text/html": [
       "\n",
       "                Tracking run with wandb version 0.11.0<br/>\n",
       "                Syncing run <strong style=\"color:#cdcd00\">comfy-sweep-6</strong> to <a href=\"https://wandb.ai\" target=\"_blank\">Weights & Biases</a> <a href=\"https://docs.wandb.com/integrations/jupyter.html\" target=\"_blank\">(Documentation)</a>.<br/>\n",
       "                Project page: <a href=\"https://wandb.ai/jinseock/sweep-practice2\" target=\"_blank\">https://wandb.ai/jinseock/sweep-practice2</a><br/>\n",
       "                Sweep page: <a href=\"https://wandb.ai/jinseock/sweep-practice2/sweeps/l0r3ktxc\" target=\"_blank\">https://wandb.ai/jinseock/sweep-practice2/sweeps/l0r3ktxc</a><br/>\n",
       "Run page: <a href=\"https://wandb.ai/jinseock/sweep-practice2/runs/cq6qfa63\" target=\"_blank\">https://wandb.ai/jinseock/sweep-practice2/runs/cq6qfa63</a><br/>\n",
       "                Run data is saved locally in <code>/Users/jinseok/Jupyter/Study/Lecture/Machine-Learning Engineer/Code/wandb/run-20210721_224601-cq6qfa63</code><br/><br/>\n",
       "            "
      ],
      "text/plain": [
       "<IPython.core.display.HTML object>"
      ]
     },
     "metadata": {},
     "output_type": "display_data"
    },
    {
     "name": "stdout",
     "output_type": "stream",
     "text": [
      "Epoch 1/5\n",
      "   3/1875 [..............................] - ETA: 1:09 - loss: 2.4866 - accuracy: 0.1233WARNING:tensorflow:Callback method `on_train_batch_end` is slow compared to the batch time (batch time: 0.0017s vs `on_train_batch_end` time: 0.0120s). Check your callbacks.\n",
      "1875/1875 [==============================] - 2s 1ms/step - loss: 0.6725 - accuracy: 0.7548 - val_loss: 0.5027 - val_accuracy: 0.8202\n",
      "Epoch 2/5\n",
      "1875/1875 [==============================] - 2s 1ms/step - loss: 0.5204 - accuracy: 0.8101 - val_loss: 0.4659 - val_accuracy: 0.8335\n",
      "Epoch 3/5\n",
      "1875/1875 [==============================] - 2s 1ms/step - loss: 0.4794 - accuracy: 0.8265 - val_loss: 0.4249 - val_accuracy: 0.8456\n",
      "Epoch 4/5\n",
      "1875/1875 [==============================] - 2s 1ms/step - loss: 0.4587 - accuracy: 0.8292 - val_loss: 0.4664 - val_accuracy: 0.8293\n",
      "Epoch 5/5\n",
      "1875/1875 [==============================] - 2s 1ms/step - loss: 0.4631 - accuracy: 0.8291 - val_loss: 0.4357 - val_accuracy: 0.8474\n"
     ]
    },
    {
     "data": {
      "text/html": [
       "<br/>Waiting for W&B process to finish, PID 60546<br/>Program ended successfully."
      ],
      "text/plain": [
       "<IPython.core.display.HTML object>"
      ]
     },
     "metadata": {},
     "output_type": "display_data"
    },
    {
     "data": {
      "application/vnd.jupyter.widget-view+json": {
       "model_id": "f68dcddc305c48f38647b3ad28d612b3",
       "version_major": 2,
       "version_minor": 0
      },
      "text/plain": [
       "VBox(children=(Label(value=' 1.47MB of 1.48MB uploaded (0.00MB deduped)\\r'), FloatProgress(value=0.99572631071…"
      ]
     },
     "metadata": {},
     "output_type": "display_data"
    },
    {
     "data": {
      "text/html": [
       "Find user logs for this run at: <code>/Users/jinseok/Jupyter/Study/Lecture/Machine-Learning Engineer/Code/wandb/run-20210721_224601-cq6qfa63/logs/debug.log</code>"
      ],
      "text/plain": [
       "<IPython.core.display.HTML object>"
      ]
     },
     "metadata": {},
     "output_type": "display_data"
    },
    {
     "data": {
      "text/html": [
       "Find internal logs for this run at: <code>/Users/jinseok/Jupyter/Study/Lecture/Machine-Learning Engineer/Code/wandb/run-20210721_224601-cq6qfa63/logs/debug-internal.log</code>"
      ],
      "text/plain": [
       "<IPython.core.display.HTML object>"
      ]
     },
     "metadata": {},
     "output_type": "display_data"
    },
    {
     "data": {
      "text/html": [
       "<h3>Run summary:</h3><br/><style>\n",
       "    table.wandb td:nth-child(1) { padding: 0 10px; text-align: right }\n",
       "    </style><table class=\"wandb\">\n",
       "<tr><td>epoch</td><td>4</td></tr><tr><td>loss</td><td>0.46278</td></tr><tr><td>accuracy</td><td>0.83112</td></tr><tr><td>val_loss</td><td>0.43574</td></tr><tr><td>val_accuracy</td><td>0.8474</td></tr><tr><td>_runtime</td><td>21</td></tr><tr><td>_timestamp</td><td>1626875182</td></tr><tr><td>_step</td><td>4</td></tr><tr><td>best_val_loss</td><td>0.42489</td></tr><tr><td>best_epoch</td><td>2</td></tr></table>"
      ],
      "text/plain": [
       "<IPython.core.display.HTML object>"
      ]
     },
     "metadata": {},
     "output_type": "display_data"
    },
    {
     "data": {
      "text/html": [
       "<h3>Run history:</h3><br/><style>\n",
       "    table.wandb td:nth-child(1) { padding: 0 10px; text-align: right }\n",
       "    </style><table class=\"wandb\">\n",
       "<tr><td>epoch</td><td>▁▃▅▆█</td></tr><tr><td>loss</td><td>█▄▂▁▁</td></tr><tr><td>accuracy</td><td>▁▅▇██</td></tr><tr><td>val_loss</td><td>█▅▁▅▂</td></tr><tr><td>val_accuracy</td><td>▁▄█▃█</td></tr><tr><td>_runtime</td><td>▁▃▄▆█</td></tr><tr><td>_timestamp</td><td>▁▃▄▆█</td></tr><tr><td>_step</td><td>▁▃▅▆█</td></tr></table><br/>"
      ],
      "text/plain": [
       "<IPython.core.display.HTML object>"
      ]
     },
     "metadata": {},
     "output_type": "display_data"
    },
    {
     "data": {
      "text/html": [
       "Synced 6 W&B file(s), 181 media file(s), 0 artifact file(s) and 10 other file(s)"
      ],
      "text/plain": [
       "<IPython.core.display.HTML object>"
      ]
     },
     "metadata": {},
     "output_type": "display_data"
    },
    {
     "data": {
      "text/html": [
       "\n",
       "                    <br/>Synced <strong style=\"color:#cdcd00\">comfy-sweep-6</strong>: <a href=\"https://wandb.ai/jinseock/sweep-practice2/runs/cq6qfa63\" target=\"_blank\">https://wandb.ai/jinseock/sweep-practice2/runs/cq6qfa63</a><br/>\n",
       "                "
      ],
      "text/plain": [
       "<IPython.core.display.HTML object>"
      ]
     },
     "metadata": {},
     "output_type": "display_data"
    },
    {
     "name": "stderr",
     "output_type": "stream",
     "text": [
      "wandb: Agent Starting Run: i06ew79g with config:\n",
      "wandb: \tdropout_rate: 0.3\n",
      "wandb: \tlayer_1_activation: sigmoid\n",
      "wandb: \tlayer_1_size: 64\n",
      "wandb: \tlearning_rate: 0.05\n",
      "wandb: \toptimizer: adam\n",
      "wandb: WARNING Ignored wandb.init() arg project when running a sweep\n"
     ]
    },
    {
     "data": {
      "text/html": [
       "\n",
       "                Tracking run with wandb version 0.11.0<br/>\n",
       "                Syncing run <strong style=\"color:#cdcd00\">frosty-sweep-7</strong> to <a href=\"https://wandb.ai\" target=\"_blank\">Weights & Biases</a> <a href=\"https://docs.wandb.com/integrations/jupyter.html\" target=\"_blank\">(Documentation)</a>.<br/>\n",
       "                Project page: <a href=\"https://wandb.ai/jinseock/sweep-practice2\" target=\"_blank\">https://wandb.ai/jinseock/sweep-practice2</a><br/>\n",
       "                Sweep page: <a href=\"https://wandb.ai/jinseock/sweep-practice2/sweeps/l0r3ktxc\" target=\"_blank\">https://wandb.ai/jinseock/sweep-practice2/sweeps/l0r3ktxc</a><br/>\n",
       "Run page: <a href=\"https://wandb.ai/jinseock/sweep-practice2/runs/i06ew79g\" target=\"_blank\">https://wandb.ai/jinseock/sweep-practice2/runs/i06ew79g</a><br/>\n",
       "                Run data is saved locally in <code>/Users/jinseok/Jupyter/Study/Lecture/Machine-Learning Engineer/Code/wandb/run-20210721_224627-i06ew79g</code><br/><br/>\n",
       "            "
      ],
      "text/plain": [
       "<IPython.core.display.HTML object>"
      ]
     },
     "metadata": {},
     "output_type": "display_data"
    },
    {
     "name": "stdout",
     "output_type": "stream",
     "text": [
      "Epoch 1/5\n",
      "   3/1875 [..............................] - ETA: 1:05 - loss: 3.0221 - accuracy: 0.0990WARNING:tensorflow:Callback method `on_train_batch_end` is slow compared to the batch time (batch time: 0.0012s vs `on_train_batch_end` time: 0.0114s). Check your callbacks.\n",
      "1875/1875 [==============================] - 2s 1ms/step - loss: 1.2008 - accuracy: 0.5329 - val_loss: 0.7938 - val_accuracy: 0.6929\n",
      "Epoch 2/5\n",
      "1875/1875 [==============================] - 2s 1ms/step - loss: 0.9790 - accuracy: 0.6259 - val_loss: 0.7694 - val_accuracy: 0.6953\n",
      "Epoch 3/5\n",
      "1875/1875 [==============================] - 2s 1ms/step - loss: 0.9165 - accuracy: 0.6468 - val_loss: 0.7444 - val_accuracy: 0.7069\n",
      "Epoch 4/5\n",
      "1875/1875 [==============================] - 2s 1ms/step - loss: 0.9050 - accuracy: 0.6541 - val_loss: 0.7311 - val_accuracy: 0.7040\n",
      "Epoch 5/5\n",
      "1875/1875 [==============================] - 2s 1ms/step - loss: 0.8858 - accuracy: 0.6603 - val_loss: 0.6706 - val_accuracy: 0.7506\n"
     ]
    },
    {
     "data": {
      "text/html": [
       "<br/>Waiting for W&B process to finish, PID 60567<br/>Program ended successfully."
      ],
      "text/plain": [
       "<IPython.core.display.HTML object>"
      ]
     },
     "metadata": {},
     "output_type": "display_data"
    },
    {
     "data": {
      "application/vnd.jupyter.widget-view+json": {
       "model_id": "ce52b98d80104dc6b9f2250d1fa4a5e7",
       "version_major": 2,
       "version_minor": 0
      },
      "text/plain": [
       "VBox(children=(Label(value=' 0.89MB of 0.90MB uploaded (0.00MB deduped)\\r'), FloatProgress(value=0.99200641446…"
      ]
     },
     "metadata": {},
     "output_type": "display_data"
    },
    {
     "data": {
      "text/html": [
       "Find user logs for this run at: <code>/Users/jinseok/Jupyter/Study/Lecture/Machine-Learning Engineer/Code/wandb/run-20210721_224627-i06ew79g/logs/debug.log</code>"
      ],
      "text/plain": [
       "<IPython.core.display.HTML object>"
      ]
     },
     "metadata": {},
     "output_type": "display_data"
    },
    {
     "data": {
      "text/html": [
       "Find internal logs for this run at: <code>/Users/jinseok/Jupyter/Study/Lecture/Machine-Learning Engineer/Code/wandb/run-20210721_224627-i06ew79g/logs/debug-internal.log</code>"
      ],
      "text/plain": [
       "<IPython.core.display.HTML object>"
      ]
     },
     "metadata": {},
     "output_type": "display_data"
    },
    {
     "data": {
      "text/html": [
       "<h3>Run summary:</h3><br/><style>\n",
       "    table.wandb td:nth-child(1) { padding: 0 10px; text-align: right }\n",
       "    </style><table class=\"wandb\">\n",
       "<tr><td>epoch</td><td>4</td></tr><tr><td>loss</td><td>0.8757</td></tr><tr><td>accuracy</td><td>0.66483</td></tr><tr><td>val_loss</td><td>0.67061</td></tr><tr><td>val_accuracy</td><td>0.7506</td></tr><tr><td>_runtime</td><td>21</td></tr><tr><td>_timestamp</td><td>1626875208</td></tr><tr><td>_step</td><td>4</td></tr><tr><td>best_val_loss</td><td>0.67061</td></tr><tr><td>best_epoch</td><td>4</td></tr></table>"
      ],
      "text/plain": [
       "<IPython.core.display.HTML object>"
      ]
     },
     "metadata": {},
     "output_type": "display_data"
    },
    {
     "data": {
      "text/html": [
       "<h3>Run history:</h3><br/><style>\n",
       "    table.wandb td:nth-child(1) { padding: 0 10px; text-align: right }\n",
       "    </style><table class=\"wandb\">\n",
       "<tr><td>epoch</td><td>▁▃▅▆█</td></tr><tr><td>loss</td><td>█▄▂▂▁</td></tr><tr><td>accuracy</td><td>▁▅▇▇█</td></tr><tr><td>val_loss</td><td>█▇▅▄▁</td></tr><tr><td>val_accuracy</td><td>▁▁▃▂█</td></tr><tr><td>_runtime</td><td>▁▃▄▆█</td></tr><tr><td>_timestamp</td><td>▁▃▄▆█</td></tr><tr><td>_step</td><td>▁▃▅▆█</td></tr></table><br/>"
      ],
      "text/plain": [
       "<IPython.core.display.HTML object>"
      ]
     },
     "metadata": {},
     "output_type": "display_data"
    },
    {
     "data": {
      "text/html": [
       "Synced 6 W&B file(s), 181 media file(s), 0 artifact file(s) and 10 other file(s)"
      ],
      "text/plain": [
       "<IPython.core.display.HTML object>"
      ]
     },
     "metadata": {},
     "output_type": "display_data"
    },
    {
     "data": {
      "text/html": [
       "\n",
       "                    <br/>Synced <strong style=\"color:#cdcd00\">frosty-sweep-7</strong>: <a href=\"https://wandb.ai/jinseock/sweep-practice2/runs/i06ew79g\" target=\"_blank\">https://wandb.ai/jinseock/sweep-practice2/runs/i06ew79g</a><br/>\n",
       "                "
      ],
      "text/plain": [
       "<IPython.core.display.HTML object>"
      ]
     },
     "metadata": {},
     "output_type": "display_data"
    },
    {
     "name": "stderr",
     "output_type": "stream",
     "text": [
      "wandb: Agent Starting Run: q2qnbcce with config:\n",
      "wandb: \tdropout_rate: 0.2\n",
      "wandb: \tlayer_1_activation: relu\n",
      "wandb: \tlayer_1_size: 32\n",
      "wandb: \tlearning_rate: 0.05\n",
      "wandb: \toptimizer: rmsprop\n",
      "wandb: WARNING Ignored wandb.init() arg project when running a sweep\n"
     ]
    },
    {
     "data": {
      "text/html": [
       "\n",
       "                Tracking run with wandb version 0.11.0<br/>\n",
       "                Syncing run <strong style=\"color:#cdcd00\">ethereal-sweep-8</strong> to <a href=\"https://wandb.ai\" target=\"_blank\">Weights & Biases</a> <a href=\"https://docs.wandb.com/integrations/jupyter.html\" target=\"_blank\">(Documentation)</a>.<br/>\n",
       "                Project page: <a href=\"https://wandb.ai/jinseock/sweep-practice2\" target=\"_blank\">https://wandb.ai/jinseock/sweep-practice2</a><br/>\n",
       "                Sweep page: <a href=\"https://wandb.ai/jinseock/sweep-practice2/sweeps/l0r3ktxc\" target=\"_blank\">https://wandb.ai/jinseock/sweep-practice2/sweeps/l0r3ktxc</a><br/>\n",
       "Run page: <a href=\"https://wandb.ai/jinseock/sweep-practice2/runs/q2qnbcce\" target=\"_blank\">https://wandb.ai/jinseock/sweep-practice2/runs/q2qnbcce</a><br/>\n",
       "                Run data is saved locally in <code>/Users/jinseok/Jupyter/Study/Lecture/Machine-Learning Engineer/Code/wandb/run-20210721_224655-q2qnbcce</code><br/><br/>\n",
       "            "
      ],
      "text/plain": [
       "<IPython.core.display.HTML object>"
      ]
     },
     "metadata": {},
     "output_type": "display_data"
    },
    {
     "name": "stdout",
     "output_type": "stream",
     "text": [
      "Epoch 1/5\n",
      "   3/1875 [..............................] - ETA: 55s - loss: 26.3551 - accuracy: 0.0069    WARNING:tensorflow:Callback method `on_train_batch_end` is slow compared to the batch time (batch time: 0.0010s vs `on_train_batch_end` time: 0.0098s). Check your callbacks.\n",
      "1875/1875 [==============================] - 2s 845us/step - loss: 2.1990 - accuracy: 0.3235 - val_loss: 1.5202 - val_accuracy: 0.4204\n",
      "Epoch 2/5\n",
      "1875/1875 [==============================] - 2s 981us/step - loss: 1.7309 - accuracy: 0.3667 - val_loss: 1.6722 - val_accuracy: 0.4335\n",
      "Epoch 3/5\n",
      "1875/1875 [==============================] - 2s 831us/step - loss: 1.6741 - accuracy: 0.4169 - val_loss: 1.3796 - val_accuracy: 0.5122\n",
      "Epoch 4/5\n",
      "1875/1875 [==============================] - 2s 868us/step - loss: 1.7537 - accuracy: 0.4098 - val_loss: 1.3734 - val_accuracy: 0.4964\n",
      "Epoch 5/5\n",
      "1875/1875 [==============================] - 2s 976us/step - loss: 1.6563 - accuracy: 0.4224 - val_loss: 1.4178 - val_accuracy: 0.4871\n"
     ]
    },
    {
     "data": {
      "text/html": [
       "<br/>Waiting for W&B process to finish, PID 60592<br/>Program ended successfully."
      ],
      "text/plain": [
       "<IPython.core.display.HTML object>"
      ]
     },
     "metadata": {},
     "output_type": "display_data"
    },
    {
     "data": {
      "application/vnd.jupyter.widget-view+json": {
       "model_id": "434ecbacad25403b9472d2b310bc1dff",
       "version_major": 2,
       "version_minor": 0
      },
      "text/plain": [
       "VBox(children=(Label(value=' 0.56MB of 0.56MB uploaded (0.00MB deduped)\\r'), FloatProgress(value=1.0, max=1.0)…"
      ]
     },
     "metadata": {},
     "output_type": "display_data"
    },
    {
     "data": {
      "text/html": [
       "Find user logs for this run at: <code>/Users/jinseok/Jupyter/Study/Lecture/Machine-Learning Engineer/Code/wandb/run-20210721_224655-q2qnbcce/logs/debug.log</code>"
      ],
      "text/plain": [
       "<IPython.core.display.HTML object>"
      ]
     },
     "metadata": {},
     "output_type": "display_data"
    },
    {
     "data": {
      "text/html": [
       "Find internal logs for this run at: <code>/Users/jinseok/Jupyter/Study/Lecture/Machine-Learning Engineer/Code/wandb/run-20210721_224655-q2qnbcce/logs/debug-internal.log</code>"
      ],
      "text/plain": [
       "<IPython.core.display.HTML object>"
      ]
     },
     "metadata": {},
     "output_type": "display_data"
    },
    {
     "data": {
      "text/html": [
       "<h3>Run summary:</h3><br/><style>\n",
       "    table.wandb td:nth-child(1) { padding: 0 10px; text-align: right }\n",
       "    </style><table class=\"wandb\">\n",
       "<tr><td>epoch</td><td>4</td></tr><tr><td>loss</td><td>1.69042</td></tr><tr><td>accuracy</td><td>0.42265</td></tr><tr><td>val_loss</td><td>1.41778</td></tr><tr><td>val_accuracy</td><td>0.4871</td></tr><tr><td>_runtime</td><td>19</td></tr><tr><td>_timestamp</td><td>1626875234</td></tr><tr><td>_step</td><td>4</td></tr><tr><td>best_val_loss</td><td>1.37342</td></tr><tr><td>best_epoch</td><td>3</td></tr></table>"
      ],
      "text/plain": [
       "<IPython.core.display.HTML object>"
      ]
     },
     "metadata": {},
     "output_type": "display_data"
    },
    {
     "data": {
      "text/html": [
       "<h3>Run history:</h3><br/><style>\n",
       "    table.wandb td:nth-child(1) { padding: 0 10px; text-align: right }\n",
       "    </style><table class=\"wandb\">\n",
       "<tr><td>epoch</td><td>▁▃▅▆█</td></tr><tr><td>loss</td><td>█▂▂▅▁</td></tr><tr><td>accuracy</td><td>▁▄▇▆█</td></tr><tr><td>val_loss</td><td>▄█▁▁▂</td></tr><tr><td>val_accuracy</td><td>▁▂█▇▆</td></tr><tr><td>_runtime</td><td>▁▃▄▆█</td></tr><tr><td>_timestamp</td><td>▁▃▄▆█</td></tr><tr><td>_step</td><td>▁▃▅▆█</td></tr></table><br/>"
      ],
      "text/plain": [
       "<IPython.core.display.HTML object>"
      ]
     },
     "metadata": {},
     "output_type": "display_data"
    },
    {
     "data": {
      "text/html": [
       "Synced 6 W&B file(s), 181 media file(s), 0 artifact file(s) and 10 other file(s)"
      ],
      "text/plain": [
       "<IPython.core.display.HTML object>"
      ]
     },
     "metadata": {},
     "output_type": "display_data"
    },
    {
     "data": {
      "text/html": [
       "\n",
       "                    <br/>Synced <strong style=\"color:#cdcd00\">ethereal-sweep-8</strong>: <a href=\"https://wandb.ai/jinseock/sweep-practice2/runs/q2qnbcce\" target=\"_blank\">https://wandb.ai/jinseock/sweep-practice2/runs/q2qnbcce</a><br/>\n",
       "                "
      ],
      "text/plain": [
       "<IPython.core.display.HTML object>"
      ]
     },
     "metadata": {},
     "output_type": "display_data"
    },
    {
     "name": "stderr",
     "output_type": "stream",
     "text": [
      "wandb: Agent Starting Run: nir93ezn with config:\n",
      "wandb: \tdropout_rate: 0.4\n",
      "wandb: \tlayer_1_activation: sigmoid\n",
      "wandb: \tlayer_1_size: 32\n",
      "wandb: \tlearning_rate: 0.05\n",
      "wandb: \toptimizer: adam\n",
      "wandb: WARNING Ignored wandb.init() arg project when running a sweep\n"
     ]
    },
    {
     "data": {
      "text/html": [
       "\n",
       "                Tracking run with wandb version 0.11.0<br/>\n",
       "                Syncing run <strong style=\"color:#cdcd00\">trim-sweep-9</strong> to <a href=\"https://wandb.ai\" target=\"_blank\">Weights & Biases</a> <a href=\"https://docs.wandb.com/integrations/jupyter.html\" target=\"_blank\">(Documentation)</a>.<br/>\n",
       "                Project page: <a href=\"https://wandb.ai/jinseock/sweep-practice2\" target=\"_blank\">https://wandb.ai/jinseock/sweep-practice2</a><br/>\n",
       "                Sweep page: <a href=\"https://wandb.ai/jinseock/sweep-practice2/sweeps/l0r3ktxc\" target=\"_blank\">https://wandb.ai/jinseock/sweep-practice2/sweeps/l0r3ktxc</a><br/>\n",
       "Run page: <a href=\"https://wandb.ai/jinseock/sweep-practice2/runs/nir93ezn\" target=\"_blank\">https://wandb.ai/jinseock/sweep-practice2/runs/nir93ezn</a><br/>\n",
       "                Run data is saved locally in <code>/Users/jinseok/Jupyter/Study/Lecture/Machine-Learning Engineer/Code/wandb/run-20210721_224719-nir93ezn</code><br/><br/>\n",
       "            "
      ],
      "text/plain": [
       "<IPython.core.display.HTML object>"
      ]
     },
     "metadata": {},
     "output_type": "display_data"
    },
    {
     "name": "stdout",
     "output_type": "stream",
     "text": [
      "Epoch 1/5\n",
      "   1/1875 [..............................] - ETA: 7:18 - loss: 2.6334 - accuracy: 0.0312WARNING:tensorflow:Callback method `on_train_batch_end` is slow compared to the batch time (batch time: 0.0008s vs `on_train_batch_end` time: 0.0069s). Check your callbacks.\n",
      "1875/1875 [==============================] - 2s 818us/step - loss: 1.3353 - accuracy: 0.4718 - val_loss: 0.7947 - val_accuracy: 0.7042\n",
      "Epoch 2/5\n",
      "1875/1875 [==============================] - 2s 864us/step - loss: 1.1529 - accuracy: 0.5504 - val_loss: 0.8107 - val_accuracy: 0.6933\n",
      "Epoch 3/5\n",
      "1875/1875 [==============================] - 2s 854us/step - loss: 1.0903 - accuracy: 0.5688 - val_loss: 0.8442 - val_accuracy: 0.7042\n",
      "Epoch 4/5\n",
      "1875/1875 [==============================] - 2s 988us/step - loss: 1.0625 - accuracy: 0.5890 - val_loss: 0.7893 - val_accuracy: 0.7137\n",
      "Epoch 5/5\n",
      "1875/1875 [==============================] - 2s 908us/step - loss: 1.0366 - accuracy: 0.5896 - val_loss: 0.7596 - val_accuracy: 0.7171\n"
     ]
    },
    {
     "data": {
      "text/html": [
       "<br/>Waiting for W&B process to finish, PID 60627<br/>Program ended successfully."
      ],
      "text/plain": [
       "<IPython.core.display.HTML object>"
      ]
     },
     "metadata": {},
     "output_type": "display_data"
    },
    {
     "data": {
      "application/vnd.jupyter.widget-view+json": {
       "model_id": "8572f3eb66f841d5aa3a45ac982e2232",
       "version_major": 2,
       "version_minor": 0
      },
      "text/plain": [
       "VBox(children=(Label(value=' 0.41MB of 0.41MB uploaded (0.00MB deduped)\\r'), FloatProgress(value=1.0, max=1.0)…"
      ]
     },
     "metadata": {},
     "output_type": "display_data"
    },
    {
     "data": {
      "text/html": [
       "Find user logs for this run at: <code>/Users/jinseok/Jupyter/Study/Lecture/Machine-Learning Engineer/Code/wandb/run-20210721_224719-nir93ezn/logs/debug.log</code>"
      ],
      "text/plain": [
       "<IPython.core.display.HTML object>"
      ]
     },
     "metadata": {},
     "output_type": "display_data"
    },
    {
     "data": {
      "text/html": [
       "Find internal logs for this run at: <code>/Users/jinseok/Jupyter/Study/Lecture/Machine-Learning Engineer/Code/wandb/run-20210721_224719-nir93ezn/logs/debug-internal.log</code>"
      ],
      "text/plain": [
       "<IPython.core.display.HTML object>"
      ]
     },
     "metadata": {},
     "output_type": "display_data"
    },
    {
     "data": {
      "text/html": [
       "<h3>Run summary:</h3><br/><style>\n",
       "    table.wandb td:nth-child(1) { padding: 0 10px; text-align: right }\n",
       "    </style><table class=\"wandb\">\n",
       "<tr><td>epoch</td><td>4</td></tr><tr><td>loss</td><td>1.0402</td></tr><tr><td>accuracy</td><td>0.58797</td></tr><tr><td>val_loss</td><td>0.75957</td></tr><tr><td>val_accuracy</td><td>0.7171</td></tr><tr><td>_runtime</td><td>20</td></tr><tr><td>_timestamp</td><td>1626875259</td></tr><tr><td>_step</td><td>4</td></tr><tr><td>best_val_loss</td><td>0.75957</td></tr><tr><td>best_epoch</td><td>4</td></tr></table>"
      ],
      "text/plain": [
       "<IPython.core.display.HTML object>"
      ]
     },
     "metadata": {},
     "output_type": "display_data"
    },
    {
     "data": {
      "text/html": [
       "<h3>Run history:</h3><br/><style>\n",
       "    table.wandb td:nth-child(1) { padding: 0 10px; text-align: right }\n",
       "    </style><table class=\"wandb\">\n",
       "<tr><td>epoch</td><td>▁▃▅▆█</td></tr><tr><td>loss</td><td>█▅▃▁▁</td></tr><tr><td>accuracy</td><td>▁▄▆██</td></tr><tr><td>val_loss</td><td>▄▅█▃▁</td></tr><tr><td>val_accuracy</td><td>▄▁▄▇█</td></tr><tr><td>_runtime</td><td>▁▂▄▆█</td></tr><tr><td>_timestamp</td><td>▁▂▄▆█</td></tr><tr><td>_step</td><td>▁▃▅▆█</td></tr></table><br/>"
      ],
      "text/plain": [
       "<IPython.core.display.HTML object>"
      ]
     },
     "metadata": {},
     "output_type": "display_data"
    },
    {
     "data": {
      "text/html": [
       "Synced 6 W&B file(s), 181 media file(s), 0 artifact file(s) and 10 other file(s)"
      ],
      "text/plain": [
       "<IPython.core.display.HTML object>"
      ]
     },
     "metadata": {},
     "output_type": "display_data"
    },
    {
     "data": {
      "text/html": [
       "\n",
       "                    <br/>Synced <strong style=\"color:#cdcd00\">trim-sweep-9</strong>: <a href=\"https://wandb.ai/jinseock/sweep-practice2/runs/nir93ezn\" target=\"_blank\">https://wandb.ai/jinseock/sweep-practice2/runs/nir93ezn</a><br/>\n",
       "                "
      ],
      "text/plain": [
       "<IPython.core.display.HTML object>"
      ]
     },
     "metadata": {},
     "output_type": "display_data"
    },
    {
     "name": "stderr",
     "output_type": "stream",
     "text": [
      "wandb: Agent Starting Run: t02zj7tz with config:\n",
      "wandb: \tdropout_rate: 0.4\n",
      "wandb: \tlayer_1_activation: sigmoid\n",
      "wandb: \tlayer_1_size: 128\n",
      "wandb: \tlearning_rate: 0.01\n",
      "wandb: \toptimizer: adam\n",
      "wandb: WARNING Ignored wandb.init() arg project when running a sweep\n"
     ]
    },
    {
     "data": {
      "text/html": [
       "\n",
       "                Tracking run with wandb version 0.11.0<br/>\n",
       "                Syncing run <strong style=\"color:#cdcd00\">chocolate-sweep-10</strong> to <a href=\"https://wandb.ai\" target=\"_blank\">Weights & Biases</a> <a href=\"https://docs.wandb.com/integrations/jupyter.html\" target=\"_blank\">(Documentation)</a>.<br/>\n",
       "                Project page: <a href=\"https://wandb.ai/jinseock/sweep-practice2\" target=\"_blank\">https://wandb.ai/jinseock/sweep-practice2</a><br/>\n",
       "                Sweep page: <a href=\"https://wandb.ai/jinseock/sweep-practice2/sweeps/l0r3ktxc\" target=\"_blank\">https://wandb.ai/jinseock/sweep-practice2/sweeps/l0r3ktxc</a><br/>\n",
       "Run page: <a href=\"https://wandb.ai/jinseock/sweep-practice2/runs/t02zj7tz\" target=\"_blank\">https://wandb.ai/jinseock/sweep-practice2/runs/t02zj7tz</a><br/>\n",
       "                Run data is saved locally in <code>/Users/jinseok/Jupyter/Study/Lecture/Machine-Learning Engineer/Code/wandb/run-20210721_224744-t02zj7tz</code><br/><br/>\n",
       "            "
      ],
      "text/plain": [
       "<IPython.core.display.HTML object>"
      ]
     },
     "metadata": {},
     "output_type": "display_data"
    },
    {
     "name": "stdout",
     "output_type": "stream",
     "text": [
      "Epoch 1/5\n",
      "   1/1875 [..............................] - ETA: 7:09 - loss: 2.9282 - accuracy: 0.0625WARNING:tensorflow:Callback method `on_train_batch_end` is slow compared to the batch time (batch time: 0.0010s vs `on_train_batch_end` time: 0.0070s). Check your callbacks.\n",
      "1875/1875 [==============================] - 2s 994us/step - loss: 0.7568 - accuracy: 0.7257 - val_loss: 0.5063 - val_accuracy: 0.8170\n",
      "Epoch 2/5\n",
      "1875/1875 [==============================] - 2s 1ms/step - loss: 0.5841 - accuracy: 0.7875 - val_loss: 0.4664 - val_accuracy: 0.8346\n",
      "Epoch 3/5\n",
      "1875/1875 [==============================] - 2s 1ms/step - loss: 0.5301 - accuracy: 0.8040 - val_loss: 0.4856 - val_accuracy: 0.8203\n",
      "Epoch 4/5\n",
      "1875/1875 [==============================] - 2s 1ms/step - loss: 0.5381 - accuracy: 0.8046 - val_loss: 0.4625 - val_accuracy: 0.8348\n",
      "Epoch 5/5\n",
      "1875/1875 [==============================] - 2s 1ms/step - loss: 0.5173 - accuracy: 0.8087 - val_loss: 0.4619 - val_accuracy: 0.8297\n"
     ]
    },
    {
     "data": {
      "text/html": [
       "<br/>Waiting for W&B process to finish, PID 60642<br/>Program ended successfully."
      ],
      "text/plain": [
       "<IPython.core.display.HTML object>"
      ]
     },
     "metadata": {},
     "output_type": "display_data"
    },
    {
     "data": {
      "application/vnd.jupyter.widget-view+json": {
       "model_id": "b7f32f3accfc47f496cdeaf405a25656",
       "version_major": 2,
       "version_minor": 0
      },
      "text/plain": [
       "VBox(children=(Label(value=' 1.48MB of 1.48MB uploaded (0.00MB deduped)\\r'), FloatProgress(value=1.0, max=1.0)…"
      ]
     },
     "metadata": {},
     "output_type": "display_data"
    },
    {
     "data": {
      "text/html": [
       "Find user logs for this run at: <code>/Users/jinseok/Jupyter/Study/Lecture/Machine-Learning Engineer/Code/wandb/run-20210721_224744-t02zj7tz/logs/debug.log</code>"
      ],
      "text/plain": [
       "<IPython.core.display.HTML object>"
      ]
     },
     "metadata": {},
     "output_type": "display_data"
    },
    {
     "data": {
      "text/html": [
       "Find internal logs for this run at: <code>/Users/jinseok/Jupyter/Study/Lecture/Machine-Learning Engineer/Code/wandb/run-20210721_224744-t02zj7tz/logs/debug-internal.log</code>"
      ],
      "text/plain": [
       "<IPython.core.display.HTML object>"
      ]
     },
     "metadata": {},
     "output_type": "display_data"
    },
    {
     "data": {
      "text/html": [
       "<h3>Run summary:</h3><br/><style>\n",
       "    table.wandb td:nth-child(1) { padding: 0 10px; text-align: right }\n",
       "    </style><table class=\"wandb\">\n",
       "<tr><td>epoch</td><td>4</td></tr><tr><td>loss</td><td>0.50895</td></tr><tr><td>accuracy</td><td>0.81368</td></tr><tr><td>val_loss</td><td>0.4619</td></tr><tr><td>val_accuracy</td><td>0.8297</td></tr><tr><td>_runtime</td><td>20</td></tr><tr><td>_timestamp</td><td>1626875284</td></tr><tr><td>_step</td><td>4</td></tr><tr><td>best_val_loss</td><td>0.4619</td></tr><tr><td>best_epoch</td><td>4</td></tr></table>"
      ],
      "text/plain": [
       "<IPython.core.display.HTML object>"
      ]
     },
     "metadata": {},
     "output_type": "display_data"
    },
    {
     "data": {
      "text/html": [
       "<h3>Run history:</h3><br/><style>\n",
       "    table.wandb td:nth-child(1) { padding: 0 10px; text-align: right }\n",
       "    </style><table class=\"wandb\">\n",
       "<tr><td>epoch</td><td>▁▃▅▆█</td></tr><tr><td>loss</td><td>█▄▂▂▁</td></tr><tr><td>accuracy</td><td>▁▅▇▇█</td></tr><tr><td>val_loss</td><td>█▂▅▁▁</td></tr><tr><td>val_accuracy</td><td>▁█▂█▆</td></tr><tr><td>_runtime</td><td>▁▃▄▆█</td></tr><tr><td>_timestamp</td><td>▁▃▄▆█</td></tr><tr><td>_step</td><td>▁▃▅▆█</td></tr></table><br/>"
      ],
      "text/plain": [
       "<IPython.core.display.HTML object>"
      ]
     },
     "metadata": {},
     "output_type": "display_data"
    },
    {
     "data": {
      "text/html": [
       "Synced 6 W&B file(s), 181 media file(s), 0 artifact file(s) and 10 other file(s)"
      ],
      "text/plain": [
       "<IPython.core.display.HTML object>"
      ]
     },
     "metadata": {},
     "output_type": "display_data"
    },
    {
     "data": {
      "text/html": [
       "\n",
       "                    <br/>Synced <strong style=\"color:#cdcd00\">chocolate-sweep-10</strong>: <a href=\"https://wandb.ai/jinseock/sweep-practice2/runs/t02zj7tz\" target=\"_blank\">https://wandb.ai/jinseock/sweep-practice2/runs/t02zj7tz</a><br/>\n",
       "                "
      ],
      "text/plain": [
       "<IPython.core.display.HTML object>"
      ]
     },
     "metadata": {},
     "output_type": "display_data"
    },
    {
     "name": "stderr",
     "output_type": "stream",
     "text": [
      "wandb: Agent Starting Run: akdpm94l with config:\n",
      "wandb: \tdropout_rate: 0.2\n",
      "wandb: \tlayer_1_activation: sigmoid\n",
      "wandb: \tlayer_1_size: 64\n",
      "wandb: \tlearning_rate: 0.001\n",
      "wandb: \toptimizer: rmsprop\n",
      "wandb: WARNING Ignored wandb.init() arg project when running a sweep\n"
     ]
    },
    {
     "data": {
      "text/html": [
       "\n",
       "                Tracking run with wandb version 0.11.0<br/>\n",
       "                Syncing run <strong style=\"color:#cdcd00\">valiant-sweep-11</strong> to <a href=\"https://wandb.ai\" target=\"_blank\">Weights & Biases</a> <a href=\"https://docs.wandb.com/integrations/jupyter.html\" target=\"_blank\">(Documentation)</a>.<br/>\n",
       "                Project page: <a href=\"https://wandb.ai/jinseock/sweep-practice2\" target=\"_blank\">https://wandb.ai/jinseock/sweep-practice2</a><br/>\n",
       "                Sweep page: <a href=\"https://wandb.ai/jinseock/sweep-practice2/sweeps/l0r3ktxc\" target=\"_blank\">https://wandb.ai/jinseock/sweep-practice2/sweeps/l0r3ktxc</a><br/>\n",
       "Run page: <a href=\"https://wandb.ai/jinseock/sweep-practice2/runs/akdpm94l\" target=\"_blank\">https://wandb.ai/jinseock/sweep-practice2/runs/akdpm94l</a><br/>\n",
       "                Run data is saved locally in <code>/Users/jinseok/Jupyter/Study/Lecture/Machine-Learning Engineer/Code/wandb/run-20210721_224810-akdpm94l</code><br/><br/>\n",
       "            "
      ],
      "text/plain": [
       "<IPython.core.display.HTML object>"
      ]
     },
     "metadata": {},
     "output_type": "display_data"
    },
    {
     "name": "stdout",
     "output_type": "stream",
     "text": [
      "Epoch 1/5\n",
      "   3/1875 [..............................] - ETA: 53s - loss: 2.5397 - accuracy: 0.1181 WARNING:tensorflow:Callback method `on_train_batch_end` is slow compared to the batch time (batch time: 0.0009s vs `on_train_batch_end` time: 0.0093s). Check your callbacks.\n",
      "1875/1875 [==============================] - 2s 1ms/step - loss: 0.8381 - accuracy: 0.7261 - val_loss: 0.4674 - val_accuracy: 0.8311\n",
      "Epoch 2/5\n",
      "1875/1875 [==============================] - 2s 1ms/step - loss: 0.4529 - accuracy: 0.8390 - val_loss: 0.4282 - val_accuracy: 0.8483\n",
      "Epoch 3/5\n",
      "1875/1875 [==============================] - 2s 1ms/step - loss: 0.4167 - accuracy: 0.8524 - val_loss: 0.4031 - val_accuracy: 0.8550\n",
      "Epoch 4/5\n",
      "1875/1875 [==============================] - 2s 1ms/step - loss: 0.3922 - accuracy: 0.8598 - val_loss: 0.3977 - val_accuracy: 0.8607\n",
      "Epoch 5/5\n",
      "1875/1875 [==============================] - 2s 1ms/step - loss: 0.3782 - accuracy: 0.8652 - val_loss: 0.3926 - val_accuracy: 0.8612\n"
     ]
    },
    {
     "data": {
      "text/html": [
       "<br/>Waiting for W&B process to finish, PID 60665<br/>Program ended successfully."
      ],
      "text/plain": [
       "<IPython.core.display.HTML object>"
      ]
     },
     "metadata": {},
     "output_type": "display_data"
    },
    {
     "data": {
      "application/vnd.jupyter.widget-view+json": {
       "model_id": "470ba63d32834552ad6299db392dffd6",
       "version_major": 2,
       "version_minor": 0
      },
      "text/plain": [
       "VBox(children=(Label(value=' 0.75MB of 0.75MB uploaded (0.00MB deduped)\\r'), FloatProgress(value=0.99042895554…"
      ]
     },
     "metadata": {},
     "output_type": "display_data"
    },
    {
     "data": {
      "text/html": [
       "Find user logs for this run at: <code>/Users/jinseok/Jupyter/Study/Lecture/Machine-Learning Engineer/Code/wandb/run-20210721_224810-akdpm94l/logs/debug.log</code>"
      ],
      "text/plain": [
       "<IPython.core.display.HTML object>"
      ]
     },
     "metadata": {},
     "output_type": "display_data"
    },
    {
     "data": {
      "text/html": [
       "Find internal logs for this run at: <code>/Users/jinseok/Jupyter/Study/Lecture/Machine-Learning Engineer/Code/wandb/run-20210721_224810-akdpm94l/logs/debug-internal.log</code>"
      ],
      "text/plain": [
       "<IPython.core.display.HTML object>"
      ]
     },
     "metadata": {},
     "output_type": "display_data"
    },
    {
     "data": {
      "text/html": [
       "<h3>Run summary:</h3><br/><style>\n",
       "    table.wandb td:nth-child(1) { padding: 0 10px; text-align: right }\n",
       "    </style><table class=\"wandb\">\n",
       "<tr><td>epoch</td><td>4</td></tr><tr><td>loss</td><td>0.38007</td></tr><tr><td>accuracy</td><td>0.8642</td></tr><tr><td>val_loss</td><td>0.39263</td></tr><tr><td>val_accuracy</td><td>0.8612</td></tr><tr><td>_runtime</td><td>21</td></tr><tr><td>_timestamp</td><td>1626875311</td></tr><tr><td>_step</td><td>4</td></tr><tr><td>best_val_loss</td><td>0.39263</td></tr><tr><td>best_epoch</td><td>4</td></tr></table>"
      ],
      "text/plain": [
       "<IPython.core.display.HTML object>"
      ]
     },
     "metadata": {},
     "output_type": "display_data"
    },
    {
     "data": {
      "text/html": [
       "<h3>Run history:</h3><br/><style>\n",
       "    table.wandb td:nth-child(1) { padding: 0 10px; text-align: right }\n",
       "    </style><table class=\"wandb\">\n",
       "<tr><td>epoch</td><td>▁▃▅▆█</td></tr><tr><td>loss</td><td>█▃▂▁▁</td></tr><tr><td>accuracy</td><td>▁▆▇██</td></tr><tr><td>val_loss</td><td>█▄▂▁▁</td></tr><tr><td>val_accuracy</td><td>▁▅▇██</td></tr><tr><td>_runtime</td><td>▁▃▄▆█</td></tr><tr><td>_timestamp</td><td>▁▃▄▆█</td></tr><tr><td>_step</td><td>▁▃▅▆█</td></tr></table><br/>"
      ],
      "text/plain": [
       "<IPython.core.display.HTML object>"
      ]
     },
     "metadata": {},
     "output_type": "display_data"
    },
    {
     "data": {
      "text/html": [
       "Synced 6 W&B file(s), 181 media file(s), 0 artifact file(s) and 10 other file(s)"
      ],
      "text/plain": [
       "<IPython.core.display.HTML object>"
      ]
     },
     "metadata": {},
     "output_type": "display_data"
    },
    {
     "data": {
      "text/html": [
       "\n",
       "                    <br/>Synced <strong style=\"color:#cdcd00\">valiant-sweep-11</strong>: <a href=\"https://wandb.ai/jinseock/sweep-practice2/runs/akdpm94l\" target=\"_blank\">https://wandb.ai/jinseock/sweep-practice2/runs/akdpm94l</a><br/>\n",
       "                "
      ],
      "text/plain": [
       "<IPython.core.display.HTML object>"
      ]
     },
     "metadata": {},
     "output_type": "display_data"
    },
    {
     "name": "stderr",
     "output_type": "stream",
     "text": [
      "wandb: Agent Starting Run: ftmqorfp with config:\n",
      "wandb: \tdropout_rate: 0.4\n",
      "wandb: \tlayer_1_activation: sigmoid\n",
      "wandb: \tlayer_1_size: 64\n",
      "wandb: \tlearning_rate: 0.001\n",
      "wandb: \toptimizer: rmsprop\n",
      "wandb: WARNING Ignored wandb.init() arg project when running a sweep\n"
     ]
    },
    {
     "data": {
      "text/html": [
       "\n",
       "                Tracking run with wandb version 0.11.0<br/>\n",
       "                Syncing run <strong style=\"color:#cdcd00\">good-sweep-12</strong> to <a href=\"https://wandb.ai\" target=\"_blank\">Weights & Biases</a> <a href=\"https://docs.wandb.com/integrations/jupyter.html\" target=\"_blank\">(Documentation)</a>.<br/>\n",
       "                Project page: <a href=\"https://wandb.ai/jinseock/sweep-practice2\" target=\"_blank\">https://wandb.ai/jinseock/sweep-practice2</a><br/>\n",
       "                Sweep page: <a href=\"https://wandb.ai/jinseock/sweep-practice2/sweeps/l0r3ktxc\" target=\"_blank\">https://wandb.ai/jinseock/sweep-practice2/sweeps/l0r3ktxc</a><br/>\n",
       "Run page: <a href=\"https://wandb.ai/jinseock/sweep-practice2/runs/ftmqorfp\" target=\"_blank\">https://wandb.ai/jinseock/sweep-practice2/runs/ftmqorfp</a><br/>\n",
       "                Run data is saved locally in <code>/Users/jinseok/Jupyter/Study/Lecture/Machine-Learning Engineer/Code/wandb/run-20210721_224836-ftmqorfp</code><br/><br/>\n",
       "            "
      ],
      "text/plain": [
       "<IPython.core.display.HTML object>"
      ]
     },
     "metadata": {},
     "output_type": "display_data"
    },
    {
     "name": "stdout",
     "output_type": "stream",
     "text": [
      "Epoch 1/5\n",
      "   3/1875 [..............................] - ETA: 1:07 - loss: 2.6522 - accuracy: 0.0747WARNING:tensorflow:Callback method `on_train_batch_end` is slow compared to the batch time (batch time: 0.0013s vs `on_train_batch_end` time: 0.0118s). Check your callbacks.\n",
      "1875/1875 [==============================] - 2s 973us/step - loss: 0.9385 - accuracy: 0.6789 - val_loss: 0.4850 - val_accuracy: 0.8250\n",
      "Epoch 2/5\n",
      "1875/1875 [==============================] - 2s 1ms/step - loss: 0.5066 - accuracy: 0.8227 - val_loss: 0.4472 - val_accuracy: 0.8410\n",
      "Epoch 3/5\n",
      "1875/1875 [==============================] - 2s 1ms/step - loss: 0.4718 - accuracy: 0.8327 - val_loss: 0.4295 - val_accuracy: 0.8473\n",
      "Epoch 4/5\n",
      "1875/1875 [==============================] - 2s 1ms/step - loss: 0.4479 - accuracy: 0.8419 - val_loss: 0.4165 - val_accuracy: 0.8525\n",
      "Epoch 5/5\n",
      "1875/1875 [==============================] - 2s 1ms/step - loss: 0.4333 - accuracy: 0.8463 - val_loss: 0.4140 - val_accuracy: 0.8580\n"
     ]
    },
    {
     "data": {
      "text/html": [
       "<br/>Waiting for W&B process to finish, PID 60693<br/>Program ended successfully."
      ],
      "text/plain": [
       "<IPython.core.display.HTML object>"
      ]
     },
     "metadata": {},
     "output_type": "display_data"
    },
    {
     "data": {
      "application/vnd.jupyter.widget-view+json": {
       "model_id": "cb58716b8e7a48c3ab70f25035dfb9f0",
       "version_major": 2,
       "version_minor": 0
      },
      "text/plain": [
       "VBox(children=(Label(value=' 0.50MB of 0.50MB uploaded (0.00MB deduped)\\r'), FloatProgress(value=0.98930902928…"
      ]
     },
     "metadata": {},
     "output_type": "display_data"
    },
    {
     "data": {
      "text/html": [
       "Find user logs for this run at: <code>/Users/jinseok/Jupyter/Study/Lecture/Machine-Learning Engineer/Code/wandb/run-20210721_224836-ftmqorfp/logs/debug.log</code>"
      ],
      "text/plain": [
       "<IPython.core.display.HTML object>"
      ]
     },
     "metadata": {},
     "output_type": "display_data"
    },
    {
     "data": {
      "text/html": [
       "Find internal logs for this run at: <code>/Users/jinseok/Jupyter/Study/Lecture/Machine-Learning Engineer/Code/wandb/run-20210721_224836-ftmqorfp/logs/debug-internal.log</code>"
      ],
      "text/plain": [
       "<IPython.core.display.HTML object>"
      ]
     },
     "metadata": {},
     "output_type": "display_data"
    },
    {
     "data": {
      "text/html": [
       "<h3>Run summary:</h3><br/><style>\n",
       "    table.wandb td:nth-child(1) { padding: 0 10px; text-align: right }\n",
       "    </style><table class=\"wandb\">\n",
       "<tr><td>epoch</td><td>4</td></tr><tr><td>loss</td><td>0.43124</td></tr><tr><td>accuracy</td><td>0.84898</td></tr><tr><td>val_loss</td><td>0.41395</td></tr><tr><td>val_accuracy</td><td>0.858</td></tr><tr><td>_runtime</td><td>20</td></tr><tr><td>_timestamp</td><td>1626875336</td></tr><tr><td>_step</td><td>4</td></tr><tr><td>best_val_loss</td><td>0.41395</td></tr><tr><td>best_epoch</td><td>4</td></tr></table>"
      ],
      "text/plain": [
       "<IPython.core.display.HTML object>"
      ]
     },
     "metadata": {},
     "output_type": "display_data"
    },
    {
     "data": {
      "text/html": [
       "<h3>Run history:</h3><br/><style>\n",
       "    table.wandb td:nth-child(1) { padding: 0 10px; text-align: right }\n",
       "    </style><table class=\"wandb\">\n",
       "<tr><td>epoch</td><td>▁▃▅▆█</td></tr><tr><td>loss</td><td>█▃▂▁▁</td></tr><tr><td>accuracy</td><td>▁▆▇██</td></tr><tr><td>val_loss</td><td>█▄▃▁▁</td></tr><tr><td>val_accuracy</td><td>▁▄▆▇█</td></tr><tr><td>_runtime</td><td>▁▃▅▆█</td></tr><tr><td>_timestamp</td><td>▁▃▅▆█</td></tr><tr><td>_step</td><td>▁▃▅▆█</td></tr></table><br/>"
      ],
      "text/plain": [
       "<IPython.core.display.HTML object>"
      ]
     },
     "metadata": {},
     "output_type": "display_data"
    },
    {
     "data": {
      "text/html": [
       "Synced 6 W&B file(s), 181 media file(s), 0 artifact file(s) and 10 other file(s)"
      ],
      "text/plain": [
       "<IPython.core.display.HTML object>"
      ]
     },
     "metadata": {},
     "output_type": "display_data"
    },
    {
     "data": {
      "text/html": [
       "\n",
       "                    <br/>Synced <strong style=\"color:#cdcd00\">good-sweep-12</strong>: <a href=\"https://wandb.ai/jinseock/sweep-practice2/runs/ftmqorfp\" target=\"_blank\">https://wandb.ai/jinseock/sweep-practice2/runs/ftmqorfp</a><br/>\n",
       "                "
      ],
      "text/plain": [
       "<IPython.core.display.HTML object>"
      ]
     },
     "metadata": {},
     "output_type": "display_data"
    },
    {
     "name": "stderr",
     "output_type": "stream",
     "text": [
      "wandb: Agent Starting Run: 0r9bpxz7 with config:\n",
      "wandb: \tdropout_rate: 0.2\n",
      "wandb: \tlayer_1_activation: sigmoid\n",
      "wandb: \tlayer_1_size: 64\n",
      "wandb: \tlearning_rate: 0.01\n",
      "wandb: \toptimizer: adam\n",
      "wandb: WARNING Ignored wandb.init() arg project when running a sweep\n"
     ]
    },
    {
     "data": {
      "text/html": [
       "\n",
       "                Tracking run with wandb version 0.11.0<br/>\n",
       "                Syncing run <strong style=\"color:#cdcd00\">desert-sweep-13</strong> to <a href=\"https://wandb.ai\" target=\"_blank\">Weights & Biases</a> <a href=\"https://docs.wandb.com/integrations/jupyter.html\" target=\"_blank\">(Documentation)</a>.<br/>\n",
       "                Project page: <a href=\"https://wandb.ai/jinseock/sweep-practice2\" target=\"_blank\">https://wandb.ai/jinseock/sweep-practice2</a><br/>\n",
       "                Sweep page: <a href=\"https://wandb.ai/jinseock/sweep-practice2/sweeps/l0r3ktxc\" target=\"_blank\">https://wandb.ai/jinseock/sweep-practice2/sweeps/l0r3ktxc</a><br/>\n",
       "Run page: <a href=\"https://wandb.ai/jinseock/sweep-practice2/runs/0r9bpxz7\" target=\"_blank\">https://wandb.ai/jinseock/sweep-practice2/runs/0r9bpxz7</a><br/>\n",
       "                Run data is saved locally in <code>/Users/jinseok/Jupyter/Study/Lecture/Machine-Learning Engineer/Code/wandb/run-20210721_224901-0r9bpxz7</code><br/><br/>\n",
       "            "
      ],
      "text/plain": [
       "<IPython.core.display.HTML object>"
      ]
     },
     "metadata": {},
     "output_type": "display_data"
    },
    {
     "name": "stdout",
     "output_type": "stream",
     "text": [
      "Epoch 1/5\n",
      "   1/1875 [..............................] - ETA: 7:07 - loss: 2.8539 - accuracy: 0.0312WARNING:tensorflow:Callback method `on_train_batch_end` is slow compared to the batch time (batch time: 0.0009s vs `on_train_batch_end` time: 0.0071s). Check your callbacks.\n",
      "1875/1875 [==============================] - 2s 916us/step - loss: 0.7132 - accuracy: 0.7465 - val_loss: 0.5014 - val_accuracy: 0.8136\n",
      "Epoch 2/5\n",
      "1875/1875 [==============================] - 2s 1ms/step - loss: 0.4995 - accuracy: 0.8190 - val_loss: 0.4409 - val_accuracy: 0.8393\n",
      "Epoch 3/5\n",
      "1875/1875 [==============================] - 2s 1ms/step - loss: 0.4770 - accuracy: 0.8248 - val_loss: 0.4486 - val_accuracy: 0.8385\n",
      "Epoch 4/5\n",
      "1875/1875 [==============================] - 2s 1ms/step - loss: 0.4567 - accuracy: 0.8346 - val_loss: 0.4397 - val_accuracy: 0.8363\n",
      "Epoch 5/5\n",
      "1875/1875 [==============================] - 2s 1ms/step - loss: 0.4528 - accuracy: 0.8345 - val_loss: 0.4425 - val_accuracy: 0.8391\n"
     ]
    },
    {
     "data": {
      "text/html": [
       "<br/>Waiting for W&B process to finish, PID 60720<br/>Program ended successfully."
      ],
      "text/plain": [
       "<IPython.core.display.HTML object>"
      ]
     },
     "metadata": {},
     "output_type": "display_data"
    },
    {
     "data": {
      "application/vnd.jupyter.widget-view+json": {
       "model_id": "e95b58797e884e038c58de2614a60ed4",
       "version_major": 2,
       "version_minor": 0
      },
      "text/plain": [
       "VBox(children=(Label(value=' 0.89MB of 0.89MB uploaded (0.00MB deduped)\\r'), FloatProgress(value=0.99944784537…"
      ]
     },
     "metadata": {},
     "output_type": "display_data"
    },
    {
     "data": {
      "text/html": [
       "Find user logs for this run at: <code>/Users/jinseok/Jupyter/Study/Lecture/Machine-Learning Engineer/Code/wandb/run-20210721_224901-0r9bpxz7/logs/debug.log</code>"
      ],
      "text/plain": [
       "<IPython.core.display.HTML object>"
      ]
     },
     "metadata": {},
     "output_type": "display_data"
    },
    {
     "data": {
      "text/html": [
       "Find internal logs for this run at: <code>/Users/jinseok/Jupyter/Study/Lecture/Machine-Learning Engineer/Code/wandb/run-20210721_224901-0r9bpxz7/logs/debug-internal.log</code>"
      ],
      "text/plain": [
       "<IPython.core.display.HTML object>"
      ]
     },
     "metadata": {},
     "output_type": "display_data"
    },
    {
     "data": {
      "text/html": [
       "<h3>Run summary:</h3><br/><style>\n",
       "    table.wandb td:nth-child(1) { padding: 0 10px; text-align: right }\n",
       "    </style><table class=\"wandb\">\n",
       "<tr><td>epoch</td><td>4</td></tr><tr><td>loss</td><td>0.44867</td></tr><tr><td>accuracy</td><td>0.83617</td></tr><tr><td>val_loss</td><td>0.44246</td></tr><tr><td>val_accuracy</td><td>0.8391</td></tr><tr><td>_runtime</td><td>20</td></tr><tr><td>_timestamp</td><td>1626875361</td></tr><tr><td>_step</td><td>4</td></tr><tr><td>best_val_loss</td><td>0.43969</td></tr><tr><td>best_epoch</td><td>3</td></tr></table>"
      ],
      "text/plain": [
       "<IPython.core.display.HTML object>"
      ]
     },
     "metadata": {},
     "output_type": "display_data"
    },
    {
     "data": {
      "text/html": [
       "<h3>Run history:</h3><br/><style>\n",
       "    table.wandb td:nth-child(1) { padding: 0 10px; text-align: right }\n",
       "    </style><table class=\"wandb\">\n",
       "<tr><td>epoch</td><td>▁▃▅▆█</td></tr><tr><td>loss</td><td>█▃▂▁▁</td></tr><tr><td>accuracy</td><td>▁▆▇██</td></tr><tr><td>val_loss</td><td>█▁▂▁▁</td></tr><tr><td>val_accuracy</td><td>▁██▇█</td></tr><tr><td>_runtime</td><td>▁▃▄▆█</td></tr><tr><td>_timestamp</td><td>▁▃▄▆█</td></tr><tr><td>_step</td><td>▁▃▅▆█</td></tr></table><br/>"
      ],
      "text/plain": [
       "<IPython.core.display.HTML object>"
      ]
     },
     "metadata": {},
     "output_type": "display_data"
    },
    {
     "data": {
      "text/html": [
       "Synced 6 W&B file(s), 181 media file(s), 0 artifact file(s) and 10 other file(s)"
      ],
      "text/plain": [
       "<IPython.core.display.HTML object>"
      ]
     },
     "metadata": {},
     "output_type": "display_data"
    },
    {
     "data": {
      "text/html": [
       "\n",
       "                    <br/>Synced <strong style=\"color:#cdcd00\">desert-sweep-13</strong>: <a href=\"https://wandb.ai/jinseock/sweep-practice2/runs/0r9bpxz7\" target=\"_blank\">https://wandb.ai/jinseock/sweep-practice2/runs/0r9bpxz7</a><br/>\n",
       "                "
      ],
      "text/plain": [
       "<IPython.core.display.HTML object>"
      ]
     },
     "metadata": {},
     "output_type": "display_data"
    },
    {
     "name": "stderr",
     "output_type": "stream",
     "text": [
      "wandb: Agent Starting Run: ohwyuusb with config:\n",
      "wandb: \tdropout_rate: 0.3\n",
      "wandb: \tlayer_1_activation: sigmoid\n",
      "wandb: \tlayer_1_size: 32\n",
      "wandb: \tlearning_rate: 0.001\n",
      "wandb: \toptimizer: adam\n",
      "wandb: WARNING Ignored wandb.init() arg project when running a sweep\n"
     ]
    },
    {
     "data": {
      "text/html": [
       "\n",
       "                Tracking run with wandb version 0.11.0<br/>\n",
       "                Syncing run <strong style=\"color:#cdcd00\">snowy-sweep-14</strong> to <a href=\"https://wandb.ai\" target=\"_blank\">Weights & Biases</a> <a href=\"https://docs.wandb.com/integrations/jupyter.html\" target=\"_blank\">(Documentation)</a>.<br/>\n",
       "                Project page: <a href=\"https://wandb.ai/jinseock/sweep-practice2\" target=\"_blank\">https://wandb.ai/jinseock/sweep-practice2</a><br/>\n",
       "                Sweep page: <a href=\"https://wandb.ai/jinseock/sweep-practice2/sweeps/l0r3ktxc\" target=\"_blank\">https://wandb.ai/jinseock/sweep-practice2/sweeps/l0r3ktxc</a><br/>\n",
       "Run page: <a href=\"https://wandb.ai/jinseock/sweep-practice2/runs/ohwyuusb\" target=\"_blank\">https://wandb.ai/jinseock/sweep-practice2/runs/ohwyuusb</a><br/>\n",
       "                Run data is saved locally in <code>/Users/jinseok/Jupyter/Study/Lecture/Machine-Learning Engineer/Code/wandb/run-20210721_224926-ohwyuusb</code><br/><br/>\n",
       "            "
      ],
      "text/plain": [
       "<IPython.core.display.HTML object>"
      ]
     },
     "metadata": {},
     "output_type": "display_data"
    },
    {
     "name": "stdout",
     "output_type": "stream",
     "text": [
      "Epoch 1/5\n",
      "   1/1875 [..............................] - ETA: 7:42 - loss: 2.6888 - accuracy: 0.0938WARNING:tensorflow:Callback method `on_train_batch_end` is slow compared to the batch time (batch time: 0.0008s vs `on_train_batch_end` time: 0.0069s). Check your callbacks.\n",
      "1875/1875 [==============================] - 2s 834us/step - loss: 1.0964 - accuracy: 0.6512 - val_loss: 0.5151 - val_accuracy: 0.8252\n",
      "Epoch 2/5\n",
      "1875/1875 [==============================] - 2s 865us/step - loss: 0.5571 - accuracy: 0.8095 - val_loss: 0.4659 - val_accuracy: 0.8330\n",
      "Epoch 3/5\n",
      "1875/1875 [==============================] - 2s 900us/step - loss: 0.5019 - accuracy: 0.8242 - val_loss: 0.4394 - val_accuracy: 0.8385\n",
      "Epoch 4/5\n",
      "1875/1875 [==============================] - 2s 1ms/step - loss: 0.4711 - accuracy: 0.8334 - val_loss: 0.4222 - val_accuracy: 0.8489\n",
      "Epoch 5/5\n",
      "1875/1875 [==============================] - 2s 1ms/step - loss: 0.4503 - accuracy: 0.8407 - val_loss: 0.4190 - val_accuracy: 0.8470\n"
     ]
    },
    {
     "data": {
      "text/html": [
       "<br/>Waiting for W&B process to finish, PID 60737<br/>Program ended successfully."
      ],
      "text/plain": [
       "<IPython.core.display.HTML object>"
      ]
     },
     "metadata": {},
     "output_type": "display_data"
    },
    {
     "data": {
      "application/vnd.jupyter.widget-view+json": {
       "model_id": "e6120cb7653d436386c3ba5ee1b2a2e5",
       "version_major": 2,
       "version_minor": 0
      },
      "text/plain": [
       "VBox(children=(Label(value=' 0.60MB of 0.60MB uploaded (0.00MB deduped)\\r'), FloatProgress(value=0.99515218080…"
      ]
     },
     "metadata": {},
     "output_type": "display_data"
    },
    {
     "data": {
      "text/html": [
       "Find user logs for this run at: <code>/Users/jinseok/Jupyter/Study/Lecture/Machine-Learning Engineer/Code/wandb/run-20210721_224926-ohwyuusb/logs/debug.log</code>"
      ],
      "text/plain": [
       "<IPython.core.display.HTML object>"
      ]
     },
     "metadata": {},
     "output_type": "display_data"
    },
    {
     "data": {
      "text/html": [
       "Find internal logs for this run at: <code>/Users/jinseok/Jupyter/Study/Lecture/Machine-Learning Engineer/Code/wandb/run-20210721_224926-ohwyuusb/logs/debug-internal.log</code>"
      ],
      "text/plain": [
       "<IPython.core.display.HTML object>"
      ]
     },
     "metadata": {},
     "output_type": "display_data"
    },
    {
     "data": {
      "text/html": [
       "<h3>Run summary:</h3><br/><style>\n",
       "    table.wandb td:nth-child(1) { padding: 0 10px; text-align: right }\n",
       "    </style><table class=\"wandb\">\n",
       "<tr><td>epoch</td><td>4</td></tr><tr><td>loss</td><td>0.45012</td></tr><tr><td>accuracy</td><td>0.84063</td></tr><tr><td>val_loss</td><td>0.41899</td></tr><tr><td>val_accuracy</td><td>0.847</td></tr><tr><td>_runtime</td><td>19</td></tr><tr><td>_timestamp</td><td>1626875385</td></tr><tr><td>_step</td><td>4</td></tr><tr><td>best_val_loss</td><td>0.41899</td></tr><tr><td>best_epoch</td><td>4</td></tr></table>"
      ],
      "text/plain": [
       "<IPython.core.display.HTML object>"
      ]
     },
     "metadata": {},
     "output_type": "display_data"
    },
    {
     "data": {
      "text/html": [
       "<h3>Run history:</h3><br/><style>\n",
       "    table.wandb td:nth-child(1) { padding: 0 10px; text-align: right }\n",
       "    </style><table class=\"wandb\">\n",
       "<tr><td>epoch</td><td>▁▃▅▆█</td></tr><tr><td>loss</td><td>█▃▂▁▁</td></tr><tr><td>accuracy</td><td>▁▆▇██</td></tr><tr><td>val_loss</td><td>█▄▂▁▁</td></tr><tr><td>val_accuracy</td><td>▁▃▅█▇</td></tr><tr><td>_runtime</td><td>▁▃▅▆█</td></tr><tr><td>_timestamp</td><td>▁▃▅▆█</td></tr><tr><td>_step</td><td>▁▃▅▆█</td></tr></table><br/>"
      ],
      "text/plain": [
       "<IPython.core.display.HTML object>"
      ]
     },
     "metadata": {},
     "output_type": "display_data"
    },
    {
     "data": {
      "text/html": [
       "Synced 6 W&B file(s), 181 media file(s), 0 artifact file(s) and 10 other file(s)"
      ],
      "text/plain": [
       "<IPython.core.display.HTML object>"
      ]
     },
     "metadata": {},
     "output_type": "display_data"
    },
    {
     "data": {
      "text/html": [
       "\n",
       "                    <br/>Synced <strong style=\"color:#cdcd00\">snowy-sweep-14</strong>: <a href=\"https://wandb.ai/jinseock/sweep-practice2/runs/ohwyuusb\" target=\"_blank\">https://wandb.ai/jinseock/sweep-practice2/runs/ohwyuusb</a><br/>\n",
       "                "
      ],
      "text/plain": [
       "<IPython.core.display.HTML object>"
      ]
     },
     "metadata": {},
     "output_type": "display_data"
    },
    {
     "name": "stderr",
     "output_type": "stream",
     "text": [
      "wandb: Agent Starting Run: 3oef74kl with config:\n",
      "wandb: \tdropout_rate: 0.5\n",
      "wandb: \tlayer_1_activation: relu\n",
      "wandb: \tlayer_1_size: 32\n",
      "wandb: \tlearning_rate: 0.01\n",
      "wandb: \toptimizer: rmsprop\n",
      "wandb: WARNING Ignored wandb.init() arg project when running a sweep\n"
     ]
    },
    {
     "data": {
      "text/html": [
       "\n",
       "                Tracking run with wandb version 0.11.0<br/>\n",
       "                Syncing run <strong style=\"color:#cdcd00\">light-sweep-15</strong> to <a href=\"https://wandb.ai\" target=\"_blank\">Weights & Biases</a> <a href=\"https://docs.wandb.com/integrations/jupyter.html\" target=\"_blank\">(Documentation)</a>.<br/>\n",
       "                Project page: <a href=\"https://wandb.ai/jinseock/sweep-practice2\" target=\"_blank\">https://wandb.ai/jinseock/sweep-practice2</a><br/>\n",
       "                Sweep page: <a href=\"https://wandb.ai/jinseock/sweep-practice2/sweeps/l0r3ktxc\" target=\"_blank\">https://wandb.ai/jinseock/sweep-practice2/sweeps/l0r3ktxc</a><br/>\n",
       "Run page: <a href=\"https://wandb.ai/jinseock/sweep-practice2/runs/3oef74kl\" target=\"_blank\">https://wandb.ai/jinseock/sweep-practice2/runs/3oef74kl</a><br/>\n",
       "                Run data is saved locally in <code>/Users/jinseok/Jupyter/Study/Lecture/Machine-Learning Engineer/Code/wandb/run-20210721_224950-3oef74kl</code><br/><br/>\n",
       "            "
      ],
      "text/plain": [
       "<IPython.core.display.HTML object>"
      ]
     },
     "metadata": {},
     "output_type": "display_data"
    },
    {
     "name": "stdout",
     "output_type": "stream",
     "text": [
      "Epoch 1/5\n",
      "   3/1875 [..............................] - ETA: 1:16 - loss: 5.2280 - accuracy: 0.1076WARNING:tensorflow:Callback method `on_train_batch_end` is slow compared to the batch time (batch time: 0.0010s vs `on_train_batch_end` time: 0.0134s). Check your callbacks.\n",
      "1875/1875 [==============================] - 2s 841us/step - loss: 1.3634 - accuracy: 0.4956 - val_loss: 0.7428 - val_accuracy: 0.7308\n",
      "Epoch 2/5\n",
      "1875/1875 [==============================] - 2s 916us/step - loss: 1.1792 - accuracy: 0.5768 - val_loss: 0.7908 - val_accuracy: 0.7585\n",
      "Epoch 3/5\n",
      "1875/1875 [==============================] - 2s 860us/step - loss: 1.2272 - accuracy: 0.5871 - val_loss: 1.0777 - val_accuracy: 0.7570\n",
      "Epoch 4/5\n",
      "1875/1875 [==============================] - 2s 960us/step - loss: 1.2730 - accuracy: 0.5842 - val_loss: 0.9298 - val_accuracy: 0.7554\n",
      "Epoch 5/5\n",
      "1875/1875 [==============================] - 2s 974us/step - loss: 1.3481 - accuracy: 0.5599 - val_loss: 1.0450 - val_accuracy: 0.7293\n"
     ]
    },
    {
     "data": {
      "text/html": [
       "<br/>Waiting for W&B process to finish, PID 60756<br/>Program ended successfully."
      ],
      "text/plain": [
       "<IPython.core.display.HTML object>"
      ]
     },
     "metadata": {},
     "output_type": "display_data"
    },
    {
     "data": {
      "application/vnd.jupyter.widget-view+json": {
       "model_id": "317b5cff6385496586f823e38aa90f32",
       "version_major": 2,
       "version_minor": 0
      },
      "text/plain": [
       "VBox(children=(Label(value=' 0.56MB of 0.56MB uploaded (0.00MB deduped)\\r'), FloatProgress(value=0.99756936200…"
      ]
     },
     "metadata": {},
     "output_type": "display_data"
    },
    {
     "data": {
      "text/html": [
       "Find user logs for this run at: <code>/Users/jinseok/Jupyter/Study/Lecture/Machine-Learning Engineer/Code/wandb/run-20210721_224950-3oef74kl/logs/debug.log</code>"
      ],
      "text/plain": [
       "<IPython.core.display.HTML object>"
      ]
     },
     "metadata": {},
     "output_type": "display_data"
    },
    {
     "data": {
      "text/html": [
       "Find internal logs for this run at: <code>/Users/jinseok/Jupyter/Study/Lecture/Machine-Learning Engineer/Code/wandb/run-20210721_224950-3oef74kl/logs/debug-internal.log</code>"
      ],
      "text/plain": [
       "<IPython.core.display.HTML object>"
      ]
     },
     "metadata": {},
     "output_type": "display_data"
    },
    {
     "data": {
      "text/html": [
       "<h3>Run summary:</h3><br/><style>\n",
       "    table.wandb td:nth-child(1) { padding: 0 10px; text-align: right }\n",
       "    </style><table class=\"wandb\">\n",
       "<tr><td>epoch</td><td>4</td></tr><tr><td>loss</td><td>1.36401</td></tr><tr><td>accuracy</td><td>0.56168</td></tr><tr><td>val_loss</td><td>1.04501</td></tr><tr><td>val_accuracy</td><td>0.7293</td></tr><tr><td>_runtime</td><td>18</td></tr><tr><td>_timestamp</td><td>1626875408</td></tr><tr><td>_step</td><td>4</td></tr><tr><td>best_val_loss</td><td>0.74283</td></tr><tr><td>best_epoch</td><td>0</td></tr></table>"
      ],
      "text/plain": [
       "<IPython.core.display.HTML object>"
      ]
     },
     "metadata": {},
     "output_type": "display_data"
    },
    {
     "data": {
      "text/html": [
       "<h3>Run history:</h3><br/><style>\n",
       "    table.wandb td:nth-child(1) { padding: 0 10px; text-align: right }\n",
       "    </style><table class=\"wandb\">\n",
       "<tr><td>epoch</td><td>▁▃▅▆█</td></tr><tr><td>loss</td><td>▁▁▃▅█</td></tr><tr><td>accuracy</td><td>▁▆█▆▃</td></tr><tr><td>val_loss</td><td>▁▂█▅▇</td></tr><tr><td>val_accuracy</td><td>▁██▇▁</td></tr><tr><td>_runtime</td><td>▁▃▅▆█</td></tr><tr><td>_timestamp</td><td>▁▃▅▆█</td></tr><tr><td>_step</td><td>▁▃▅▆█</td></tr></table><br/>"
      ],
      "text/plain": [
       "<IPython.core.display.HTML object>"
      ]
     },
     "metadata": {},
     "output_type": "display_data"
    },
    {
     "data": {
      "text/html": [
       "Synced 6 W&B file(s), 181 media file(s), 0 artifact file(s) and 10 other file(s)"
      ],
      "text/plain": [
       "<IPython.core.display.HTML object>"
      ]
     },
     "metadata": {},
     "output_type": "display_data"
    },
    {
     "data": {
      "text/html": [
       "\n",
       "                    <br/>Synced <strong style=\"color:#cdcd00\">light-sweep-15</strong>: <a href=\"https://wandb.ai/jinseock/sweep-practice2/runs/3oef74kl\" target=\"_blank\">https://wandb.ai/jinseock/sweep-practice2/runs/3oef74kl</a><br/>\n",
       "                "
      ],
      "text/plain": [
       "<IPython.core.display.HTML object>"
      ]
     },
     "metadata": {},
     "output_type": "display_data"
    },
    {
     "name": "stderr",
     "output_type": "stream",
     "text": [
      "wandb: Agent Starting Run: 5vz8h00b with config:\n",
      "wandb: \tdropout_rate: 0.5\n",
      "wandb: \tlayer_1_activation: sigmoid\n",
      "wandb: \tlayer_1_size: 128\n",
      "wandb: \tlearning_rate: 0.001\n",
      "wandb: \toptimizer: rmsprop\n",
      "wandb: WARNING Ignored wandb.init() arg project when running a sweep\n"
     ]
    },
    {
     "data": {
      "text/html": [
       "\n",
       "                Tracking run with wandb version 0.11.0<br/>\n",
       "                Syncing run <strong style=\"color:#cdcd00\">ruby-sweep-16</strong> to <a href=\"https://wandb.ai\" target=\"_blank\">Weights & Biases</a> <a href=\"https://docs.wandb.com/integrations/jupyter.html\" target=\"_blank\">(Documentation)</a>.<br/>\n",
       "                Project page: <a href=\"https://wandb.ai/jinseock/sweep-practice2\" target=\"_blank\">https://wandb.ai/jinseock/sweep-practice2</a><br/>\n",
       "                Sweep page: <a href=\"https://wandb.ai/jinseock/sweep-practice2/sweeps/l0r3ktxc\" target=\"_blank\">https://wandb.ai/jinseock/sweep-practice2/sweeps/l0r3ktxc</a><br/>\n",
       "Run page: <a href=\"https://wandb.ai/jinseock/sweep-practice2/runs/5vz8h00b\" target=\"_blank\">https://wandb.ai/jinseock/sweep-practice2/runs/5vz8h00b</a><br/>\n",
       "                Run data is saved locally in <code>/Users/jinseok/Jupyter/Study/Lecture/Machine-Learning Engineer/Code/wandb/run-20210721_225014-5vz8h00b</code><br/><br/>\n",
       "            "
      ],
      "text/plain": [
       "<IPython.core.display.HTML object>"
      ]
     },
     "metadata": {},
     "output_type": "display_data"
    },
    {
     "name": "stdout",
     "output_type": "stream",
     "text": [
      "Epoch 1/5\n",
      "   3/1875 [..............................] - ETA: 47s - loss: 2.5760 - accuracy: 0.1892 WARNING:tensorflow:Callback method `on_train_batch_end` is slow compared to the batch time (batch time: 0.0012s vs `on_train_batch_end` time: 0.0083s). Check your callbacks.\n",
      "1875/1875 [==============================] - 2s 1ms/step - loss: 0.8615 - accuracy: 0.7001 - val_loss: 0.4735 - val_accuracy: 0.8314\n",
      "Epoch 2/5\n",
      "1875/1875 [==============================] - 2s 1ms/step - loss: 0.4889 - accuracy: 0.8270 - val_loss: 0.4406 - val_accuracy: 0.8417\n",
      "Epoch 3/5\n",
      "1875/1875 [==============================] - 3s 1ms/step - loss: 0.4558 - accuracy: 0.8397 - val_loss: 0.4246 - val_accuracy: 0.8499\n",
      "Epoch 4/5\n",
      "1875/1875 [==============================] - 2s 1ms/step - loss: 0.4376 - accuracy: 0.8482 - val_loss: 0.4153 - val_accuracy: 0.8567\n",
      "Epoch 5/5\n",
      "1875/1875 [==============================] - 3s 1ms/step - loss: 0.4307 - accuracy: 0.8497 - val_loss: 0.4117 - val_accuracy: 0.8580\n"
     ]
    },
    {
     "data": {
      "text/html": [
       "<br/>Waiting for W&B process to finish, PID 60773<br/>Program ended successfully."
      ],
      "text/plain": [
       "<IPython.core.display.HTML object>"
      ]
     },
     "metadata": {},
     "output_type": "display_data"
    },
    {
     "data": {
      "application/vnd.jupyter.widget-view+json": {
       "model_id": "45bf2f664415490db1918c2606981655",
       "version_major": 2,
       "version_minor": 0
      },
      "text/plain": [
       "VBox(children=(Label(value=' 0.89MB of 0.89MB uploaded (0.00MB deduped)\\r'), FloatProgress(value=0.99400087948…"
      ]
     },
     "metadata": {},
     "output_type": "display_data"
    },
    {
     "data": {
      "text/html": [
       "Find user logs for this run at: <code>/Users/jinseok/Jupyter/Study/Lecture/Machine-Learning Engineer/Code/wandb/run-20210721_225014-5vz8h00b/logs/debug.log</code>"
      ],
      "text/plain": [
       "<IPython.core.display.HTML object>"
      ]
     },
     "metadata": {},
     "output_type": "display_data"
    },
    {
     "data": {
      "text/html": [
       "Find internal logs for this run at: <code>/Users/jinseok/Jupyter/Study/Lecture/Machine-Learning Engineer/Code/wandb/run-20210721_225014-5vz8h00b/logs/debug-internal.log</code>"
      ],
      "text/plain": [
       "<IPython.core.display.HTML object>"
      ]
     },
     "metadata": {},
     "output_type": "display_data"
    },
    {
     "data": {
      "text/html": [
       "<h3>Run summary:</h3><br/><style>\n",
       "    table.wandb td:nth-child(1) { padding: 0 10px; text-align: right }\n",
       "    </style><table class=\"wandb\">\n",
       "<tr><td>epoch</td><td>4</td></tr><tr><td>loss</td><td>0.4228</td></tr><tr><td>accuracy</td><td>0.8541</td></tr><tr><td>val_loss</td><td>0.41175</td></tr><tr><td>val_accuracy</td><td>0.858</td></tr><tr><td>_runtime</td><td>22</td></tr><tr><td>_timestamp</td><td>1626875436</td></tr><tr><td>_step</td><td>4</td></tr><tr><td>best_val_loss</td><td>0.41175</td></tr><tr><td>best_epoch</td><td>4</td></tr></table>"
      ],
      "text/plain": [
       "<IPython.core.display.HTML object>"
      ]
     },
     "metadata": {},
     "output_type": "display_data"
    },
    {
     "data": {
      "text/html": [
       "<h3>Run history:</h3><br/><style>\n",
       "    table.wandb td:nth-child(1) { padding: 0 10px; text-align: right }\n",
       "    </style><table class=\"wandb\">\n",
       "<tr><td>epoch</td><td>▁▃▅▆█</td></tr><tr><td>loss</td><td>█▃▂▁▁</td></tr><tr><td>accuracy</td><td>▁▆▇██</td></tr><tr><td>val_loss</td><td>█▄▂▁▁</td></tr><tr><td>val_accuracy</td><td>▁▄▆██</td></tr><tr><td>_runtime</td><td>▁▃▄▆█</td></tr><tr><td>_timestamp</td><td>▁▃▄▆█</td></tr><tr><td>_step</td><td>▁▃▅▆█</td></tr></table><br/>"
      ],
      "text/plain": [
       "<IPython.core.display.HTML object>"
      ]
     },
     "metadata": {},
     "output_type": "display_data"
    },
    {
     "data": {
      "text/html": [
       "Synced 6 W&B file(s), 181 media file(s), 0 artifact file(s) and 10 other file(s)"
      ],
      "text/plain": [
       "<IPython.core.display.HTML object>"
      ]
     },
     "metadata": {},
     "output_type": "display_data"
    },
    {
     "data": {
      "text/html": [
       "\n",
       "                    <br/>Synced <strong style=\"color:#cdcd00\">ruby-sweep-16</strong>: <a href=\"https://wandb.ai/jinseock/sweep-practice2/runs/5vz8h00b\" target=\"_blank\">https://wandb.ai/jinseock/sweep-practice2/runs/5vz8h00b</a><br/>\n",
       "                "
      ],
      "text/plain": [
       "<IPython.core.display.HTML object>"
      ]
     },
     "metadata": {},
     "output_type": "display_data"
    },
    {
     "name": "stderr",
     "output_type": "stream",
     "text": [
      "wandb: Agent Starting Run: 8zdkpmm6 with config:\n",
      "wandb: \tdropout_rate: 0.2\n",
      "wandb: \tlayer_1_activation: relu\n",
      "wandb: \tlayer_1_size: 64\n",
      "wandb: \tlearning_rate: 0.01\n",
      "wandb: \toptimizer: adam\n",
      "wandb: WARNING Ignored wandb.init() arg project when running a sweep\n"
     ]
    },
    {
     "data": {
      "text/html": [
       "\n",
       "                Tracking run with wandb version 0.11.0<br/>\n",
       "                Syncing run <strong style=\"color:#cdcd00\">flowing-sweep-17</strong> to <a href=\"https://wandb.ai\" target=\"_blank\">Weights & Biases</a> <a href=\"https://docs.wandb.com/integrations/jupyter.html\" target=\"_blank\">(Documentation)</a>.<br/>\n",
       "                Project page: <a href=\"https://wandb.ai/jinseock/sweep-practice2\" target=\"_blank\">https://wandb.ai/jinseock/sweep-practice2</a><br/>\n",
       "                Sweep page: <a href=\"https://wandb.ai/jinseock/sweep-practice2/sweeps/l0r3ktxc\" target=\"_blank\">https://wandb.ai/jinseock/sweep-practice2/sweeps/l0r3ktxc</a><br/>\n",
       "Run page: <a href=\"https://wandb.ai/jinseock/sweep-practice2/runs/8zdkpmm6\" target=\"_blank\">https://wandb.ai/jinseock/sweep-practice2/runs/8zdkpmm6</a><br/>\n",
       "                Run data is saved locally in <code>/Users/jinseok/Jupyter/Study/Lecture/Machine-Learning Engineer/Code/wandb/run-20210721_225041-8zdkpmm6</code><br/><br/>\n",
       "            "
      ],
      "text/plain": [
       "<IPython.core.display.HTML object>"
      ]
     },
     "metadata": {},
     "output_type": "display_data"
    },
    {
     "name": "stdout",
     "output_type": "stream",
     "text": [
      "Epoch 1/5\n",
      "   3/1875 [..............................] - ETA: 52s - loss: 3.3507 - accuracy: 0.0608 WARNING:tensorflow:Callback method `on_train_batch_end` is slow compared to the batch time (batch time: 0.0010s vs `on_train_batch_end` time: 0.0091s). Check your callbacks.\n",
      "1875/1875 [==============================] - 2s 1ms/step - loss: 0.8055 - accuracy: 0.7060 - val_loss: 0.5618 - val_accuracy: 0.8057\n",
      "Epoch 2/5\n",
      "1875/1875 [==============================] - 2s 972us/step - loss: 0.5707 - accuracy: 0.7921 - val_loss: 0.4857 - val_accuracy: 0.8402\n",
      "Epoch 3/5\n",
      "1875/1875 [==============================] - 2s 1ms/step - loss: 0.5535 - accuracy: 0.8004 - val_loss: 0.4888 - val_accuracy: 0.8256\n",
      "Epoch 4/5\n",
      "1875/1875 [==============================] - 2s 1ms/step - loss: 0.5375 - accuracy: 0.8024 - val_loss: 0.4995 - val_accuracy: 0.8127\n",
      "Epoch 5/5\n",
      "1875/1875 [==============================] - 2s 1ms/step - loss: 0.5371 - accuracy: 0.8051 - val_loss: 0.5363 - val_accuracy: 0.8134\n"
     ]
    },
    {
     "data": {
      "text/html": [
       "<br/>Waiting for W&B process to finish, PID 60791<br/>Program ended successfully."
      ],
      "text/plain": [
       "<IPython.core.display.HTML object>"
      ]
     },
     "metadata": {},
     "output_type": "display_data"
    },
    {
     "data": {
      "application/vnd.jupyter.widget-view+json": {
       "model_id": "a088fad6471d4ce793c40d17f23c27c0",
       "version_major": 2,
       "version_minor": 0
      },
      "text/plain": [
       "VBox(children=(Label(value=' 0.69MB of 0.70MB uploaded (0.00MB deduped)\\r'), FloatProgress(value=0.99308675689…"
      ]
     },
     "metadata": {},
     "output_type": "display_data"
    },
    {
     "data": {
      "text/html": [
       "Find user logs for this run at: <code>/Users/jinseok/Jupyter/Study/Lecture/Machine-Learning Engineer/Code/wandb/run-20210721_225041-8zdkpmm6/logs/debug.log</code>"
      ],
      "text/plain": [
       "<IPython.core.display.HTML object>"
      ]
     },
     "metadata": {},
     "output_type": "display_data"
    },
    {
     "data": {
      "text/html": [
       "Find internal logs for this run at: <code>/Users/jinseok/Jupyter/Study/Lecture/Machine-Learning Engineer/Code/wandb/run-20210721_225041-8zdkpmm6/logs/debug-internal.log</code>"
      ],
      "text/plain": [
       "<IPython.core.display.HTML object>"
      ]
     },
     "metadata": {},
     "output_type": "display_data"
    },
    {
     "data": {
      "text/html": [
       "<h3>Run summary:</h3><br/><style>\n",
       "    table.wandb td:nth-child(1) { padding: 0 10px; text-align: right }\n",
       "    </style><table class=\"wandb\">\n",
       "<tr><td>epoch</td><td>4</td></tr><tr><td>loss</td><td>0.54329</td></tr><tr><td>accuracy</td><td>0.80467</td></tr><tr><td>val_loss</td><td>0.53633</td></tr><tr><td>val_accuracy</td><td>0.8134</td></tr><tr><td>_runtime</td><td>21</td></tr><tr><td>_timestamp</td><td>1626875462</td></tr><tr><td>_step</td><td>4</td></tr><tr><td>best_val_loss</td><td>0.48572</td></tr><tr><td>best_epoch</td><td>1</td></tr></table>"
      ],
      "text/plain": [
       "<IPython.core.display.HTML object>"
      ]
     },
     "metadata": {},
     "output_type": "display_data"
    },
    {
     "data": {
      "text/html": [
       "<h3>Run history:</h3><br/><style>\n",
       "    table.wandb td:nth-child(1) { padding: 0 10px; text-align: right }\n",
       "    </style><table class=\"wandb\">\n",
       "<tr><td>epoch</td><td>▁▃▅▆█</td></tr><tr><td>loss</td><td>█▂▁▁▁</td></tr><tr><td>accuracy</td><td>▁▇▇██</td></tr><tr><td>val_loss</td><td>█▁▁▂▆</td></tr><tr><td>val_accuracy</td><td>▁█▅▂▃</td></tr><tr><td>_runtime</td><td>▁▃▄▆█</td></tr><tr><td>_timestamp</td><td>▁▃▄▆█</td></tr><tr><td>_step</td><td>▁▃▅▆█</td></tr></table><br/>"
      ],
      "text/plain": [
       "<IPython.core.display.HTML object>"
      ]
     },
     "metadata": {},
     "output_type": "display_data"
    },
    {
     "data": {
      "text/html": [
       "Synced 6 W&B file(s), 181 media file(s), 0 artifact file(s) and 10 other file(s)"
      ],
      "text/plain": [
       "<IPython.core.display.HTML object>"
      ]
     },
     "metadata": {},
     "output_type": "display_data"
    },
    {
     "data": {
      "text/html": [
       "\n",
       "                    <br/>Synced <strong style=\"color:#cdcd00\">flowing-sweep-17</strong>: <a href=\"https://wandb.ai/jinseock/sweep-practice2/runs/8zdkpmm6\" target=\"_blank\">https://wandb.ai/jinseock/sweep-practice2/runs/8zdkpmm6</a><br/>\n",
       "                "
      ],
      "text/plain": [
       "<IPython.core.display.HTML object>"
      ]
     },
     "metadata": {},
     "output_type": "display_data"
    },
    {
     "name": "stderr",
     "output_type": "stream",
     "text": [
      "wandb: Agent Starting Run: 4zjvienv with config:\n",
      "wandb: \tdropout_rate: 0.2\n",
      "wandb: \tlayer_1_activation: sigmoid\n",
      "wandb: \tlayer_1_size: 32\n",
      "wandb: \tlearning_rate: 0.001\n",
      "wandb: \toptimizer: rmsprop\n",
      "wandb: WARNING Ignored wandb.init() arg project when running a sweep\n"
     ]
    },
    {
     "data": {
      "text/html": [
       "\n",
       "                Tracking run with wandb version 0.11.0<br/>\n",
       "                Syncing run <strong style=\"color:#cdcd00\">youthful-sweep-18</strong> to <a href=\"https://wandb.ai\" target=\"_blank\">Weights & Biases</a> <a href=\"https://docs.wandb.com/integrations/jupyter.html\" target=\"_blank\">(Documentation)</a>.<br/>\n",
       "                Project page: <a href=\"https://wandb.ai/jinseock/sweep-practice2\" target=\"_blank\">https://wandb.ai/jinseock/sweep-practice2</a><br/>\n",
       "                Sweep page: <a href=\"https://wandb.ai/jinseock/sweep-practice2/sweeps/l0r3ktxc\" target=\"_blank\">https://wandb.ai/jinseock/sweep-practice2/sweeps/l0r3ktxc</a><br/>\n",
       "Run page: <a href=\"https://wandb.ai/jinseock/sweep-practice2/runs/4zjvienv\" target=\"_blank\">https://wandb.ai/jinseock/sweep-practice2/runs/4zjvienv</a><br/>\n",
       "                Run data is saved locally in <code>/Users/jinseok/Jupyter/Study/Lecture/Machine-Learning Engineer/Code/wandb/run-20210721_225107-4zjvienv</code><br/><br/>\n",
       "            "
      ],
      "text/plain": [
       "<IPython.core.display.HTML object>"
      ]
     },
     "metadata": {},
     "output_type": "display_data"
    },
    {
     "name": "stdout",
     "output_type": "stream",
     "text": [
      "Epoch 1/5\n",
      "   3/1875 [..............................] - ETA: 1:16 - loss: 2.3691 - accuracy: 0.1163WARNING:tensorflow:Callback method `on_train_batch_end` is slow compared to the batch time (batch time: 0.0013s vs `on_train_batch_end` time: 0.0135s). Check your callbacks.\n",
      "1875/1875 [==============================] - 2s 770us/step - loss: 1.0043 - accuracy: 0.6794 - val_loss: 0.5005 - val_accuracy: 0.8242\n",
      "Epoch 2/5\n",
      "1875/1875 [==============================] - 1s 775us/step - loss: 0.5211 - accuracy: 0.8188 - val_loss: 0.4533 - val_accuracy: 0.8374\n",
      "Epoch 3/5\n",
      "1875/1875 [==============================] - 1s 783us/step - loss: 0.4671 - accuracy: 0.8357 - val_loss: 0.4384 - val_accuracy: 0.8456\n",
      "Epoch 4/5\n",
      "1875/1875 [==============================] - 2s 801us/step - loss: 0.4423 - accuracy: 0.8446 - val_loss: 0.4267 - val_accuracy: 0.8474\n",
      "Epoch 5/5\n",
      "1875/1875 [==============================] - 2s 831us/step - loss: 0.4205 - accuracy: 0.8509 - val_loss: 0.4187 - val_accuracy: 0.8507\n"
     ]
    },
    {
     "data": {
      "text/html": [
       "<br/>Waiting for W&B process to finish, PID 60816<br/>Program ended successfully."
      ],
      "text/plain": [
       "<IPython.core.display.HTML object>"
      ]
     },
     "metadata": {},
     "output_type": "display_data"
    },
    {
     "data": {
      "application/vnd.jupyter.widget-view+json": {
       "model_id": "fa50e6388e0c41829fa7f7961af94e23",
       "version_major": 2,
       "version_minor": 0
      },
      "text/plain": [
       "VBox(children=(Label(value=' 0.31MB of 0.31MB uploaded (0.00MB deduped)\\r'), FloatProgress(value=1.0, max=1.0)…"
      ]
     },
     "metadata": {},
     "output_type": "display_data"
    },
    {
     "data": {
      "text/html": [
       "Find user logs for this run at: <code>/Users/jinseok/Jupyter/Study/Lecture/Machine-Learning Engineer/Code/wandb/run-20210721_225107-4zjvienv/logs/debug.log</code>"
      ],
      "text/plain": [
       "<IPython.core.display.HTML object>"
      ]
     },
     "metadata": {},
     "output_type": "display_data"
    },
    {
     "data": {
      "text/html": [
       "Find internal logs for this run at: <code>/Users/jinseok/Jupyter/Study/Lecture/Machine-Learning Engineer/Code/wandb/run-20210721_225107-4zjvienv/logs/debug-internal.log</code>"
      ],
      "text/plain": [
       "<IPython.core.display.HTML object>"
      ]
     },
     "metadata": {},
     "output_type": "display_data"
    },
    {
     "data": {
      "text/html": [
       "<h3>Run summary:</h3><br/><style>\n",
       "    table.wandb td:nth-child(1) { padding: 0 10px; text-align: right }\n",
       "    </style><table class=\"wandb\">\n",
       "<tr><td>epoch</td><td>4</td></tr><tr><td>loss</td><td>0.42897</td></tr><tr><td>accuracy</td><td>0.84853</td></tr><tr><td>val_loss</td><td>0.41865</td></tr><tr><td>val_accuracy</td><td>0.8507</td></tr><tr><td>_runtime</td><td>17</td></tr><tr><td>_timestamp</td><td>1626875484</td></tr><tr><td>_step</td><td>4</td></tr><tr><td>best_val_loss</td><td>0.41865</td></tr><tr><td>best_epoch</td><td>4</td></tr></table>"
      ],
      "text/plain": [
       "<IPython.core.display.HTML object>"
      ]
     },
     "metadata": {},
     "output_type": "display_data"
    },
    {
     "data": {
      "text/html": [
       "<h3>Run history:</h3><br/><style>\n",
       "    table.wandb td:nth-child(1) { padding: 0 10px; text-align: right }\n",
       "    </style><table class=\"wandb\">\n",
       "<tr><td>epoch</td><td>▁▃▅▆█</td></tr><tr><td>loss</td><td>█▃▂▁▁</td></tr><tr><td>accuracy</td><td>▁▆▇██</td></tr><tr><td>val_loss</td><td>█▄▃▂▁</td></tr><tr><td>val_accuracy</td><td>▁▄▇▇█</td></tr><tr><td>_runtime</td><td>▁▂▅▇█</td></tr><tr><td>_timestamp</td><td>▁▂▅▇█</td></tr><tr><td>_step</td><td>▁▃▅▆█</td></tr></table><br/>"
      ],
      "text/plain": [
       "<IPython.core.display.HTML object>"
      ]
     },
     "metadata": {},
     "output_type": "display_data"
    },
    {
     "data": {
      "text/html": [
       "Synced 6 W&B file(s), 181 media file(s), 0 artifact file(s) and 10 other file(s)"
      ],
      "text/plain": [
       "<IPython.core.display.HTML object>"
      ]
     },
     "metadata": {},
     "output_type": "display_data"
    },
    {
     "data": {
      "text/html": [
       "\n",
       "                    <br/>Synced <strong style=\"color:#cdcd00\">youthful-sweep-18</strong>: <a href=\"https://wandb.ai/jinseock/sweep-practice2/runs/4zjvienv\" target=\"_blank\">https://wandb.ai/jinseock/sweep-practice2/runs/4zjvienv</a><br/>\n",
       "                "
      ],
      "text/plain": [
       "<IPython.core.display.HTML object>"
      ]
     },
     "metadata": {},
     "output_type": "display_data"
    },
    {
     "name": "stderr",
     "output_type": "stream",
     "text": [
      "wandb: Agent Starting Run: ifsv80in with config:\n",
      "wandb: \tdropout_rate: 0.5\n",
      "wandb: \tlayer_1_activation: relu\n",
      "wandb: \tlayer_1_size: 64\n",
      "wandb: \tlearning_rate: 0.01\n",
      "wandb: \toptimizer: adam\n",
      "wandb: WARNING Ignored wandb.init() arg project when running a sweep\n"
     ]
    },
    {
     "data": {
      "text/html": [
       "\n",
       "                Tracking run with wandb version 0.11.0<br/>\n",
       "                Syncing run <strong style=\"color:#cdcd00\">jolly-sweep-19</strong> to <a href=\"https://wandb.ai\" target=\"_blank\">Weights & Biases</a> <a href=\"https://docs.wandb.com/integrations/jupyter.html\" target=\"_blank\">(Documentation)</a>.<br/>\n",
       "                Project page: <a href=\"https://wandb.ai/jinseock/sweep-practice2\" target=\"_blank\">https://wandb.ai/jinseock/sweep-practice2</a><br/>\n",
       "                Sweep page: <a href=\"https://wandb.ai/jinseock/sweep-practice2/sweeps/l0r3ktxc\" target=\"_blank\">https://wandb.ai/jinseock/sweep-practice2/sweeps/l0r3ktxc</a><br/>\n",
       "Run page: <a href=\"https://wandb.ai/jinseock/sweep-practice2/runs/ifsv80in\" target=\"_blank\">https://wandb.ai/jinseock/sweep-practice2/runs/ifsv80in</a><br/>\n",
       "                Run data is saved locally in <code>/Users/jinseok/Jupyter/Study/Lecture/Machine-Learning Engineer/Code/wandb/run-20210721_225129-ifsv80in</code><br/><br/>\n",
       "            "
      ],
      "text/plain": [
       "<IPython.core.display.HTML object>"
      ]
     },
     "metadata": {},
     "output_type": "display_data"
    },
    {
     "name": "stdout",
     "output_type": "stream",
     "text": [
      "Epoch 1/5\n",
      "   1/1875 [..............................] - ETA: 7:44 - loss: 2.4968 - accuracy: 0.1250WARNING:tensorflow:Callback method `on_train_batch_end` is slow compared to the batch time (batch time: 0.0010s vs `on_train_batch_end` time: 0.0061s). Check your callbacks.\n",
      "1875/1875 [==============================] - 2s 847us/step - loss: 1.0205 - accuracy: 0.6096 - val_loss: 0.6032 - val_accuracy: 0.7825\n",
      "Epoch 2/5\n",
      "1875/1875 [==============================] - 2s 913us/step - loss: 0.8598 - accuracy: 0.6718 - val_loss: 0.5767 - val_accuracy: 0.7892\n",
      "Epoch 3/5\n",
      "1875/1875 [==============================] - 2s 897us/step - loss: 0.8803 - accuracy: 0.6689 - val_loss: 0.5542 - val_accuracy: 0.8167\n",
      "Epoch 4/5\n",
      "1875/1875 [==============================] - 2s 899us/step - loss: 0.8725 - accuracy: 0.6762 - val_loss: 0.5981 - val_accuracy: 0.7909\n",
      "Epoch 5/5\n",
      "1875/1875 [==============================] - 2s 921us/step - loss: 0.8779 - accuracy: 0.6691 - val_loss: 0.5855 - val_accuracy: 0.8019\n"
     ]
    },
    {
     "data": {
      "text/html": [
       "<br/>Waiting for W&B process to finish, PID 60833<br/>Program ended successfully."
      ],
      "text/plain": [
       "<IPython.core.display.HTML object>"
      ]
     },
     "metadata": {},
     "output_type": "display_data"
    },
    {
     "data": {
      "application/vnd.jupyter.widget-view+json": {
       "model_id": "469df44832974f4fa79cce25f2d04a4f",
       "version_major": 2,
       "version_minor": 0
      },
      "text/plain": [
       "VBox(children=(Label(value=' 0.70MB of 0.70MB uploaded (0.00MB deduped)\\r'), FloatProgress(value=0.99809364589…"
      ]
     },
     "metadata": {},
     "output_type": "display_data"
    },
    {
     "data": {
      "text/html": [
       "Find user logs for this run at: <code>/Users/jinseok/Jupyter/Study/Lecture/Machine-Learning Engineer/Code/wandb/run-20210721_225129-ifsv80in/logs/debug.log</code>"
      ],
      "text/plain": [
       "<IPython.core.display.HTML object>"
      ]
     },
     "metadata": {},
     "output_type": "display_data"
    },
    {
     "data": {
      "text/html": [
       "Find internal logs for this run at: <code>/Users/jinseok/Jupyter/Study/Lecture/Machine-Learning Engineer/Code/wandb/run-20210721_225129-ifsv80in/logs/debug-internal.log</code>"
      ],
      "text/plain": [
       "<IPython.core.display.HTML object>"
      ]
     },
     "metadata": {},
     "output_type": "display_data"
    },
    {
     "data": {
      "text/html": [
       "<h3>Run summary:</h3><br/><style>\n",
       "    table.wandb td:nth-child(1) { padding: 0 10px; text-align: right }\n",
       "    </style><table class=\"wandb\">\n",
       "<tr><td>epoch</td><td>4</td></tr><tr><td>loss</td><td>0.87385</td></tr><tr><td>accuracy</td><td>0.67232</td></tr><tr><td>val_loss</td><td>0.58546</td></tr><tr><td>val_accuracy</td><td>0.8019</td></tr><tr><td>_runtime</td><td>20</td></tr><tr><td>_timestamp</td><td>1626875509</td></tr><tr><td>_step</td><td>4</td></tr><tr><td>best_val_loss</td><td>0.55422</td></tr><tr><td>best_epoch</td><td>2</td></tr></table>"
      ],
      "text/plain": [
       "<IPython.core.display.HTML object>"
      ]
     },
     "metadata": {},
     "output_type": "display_data"
    },
    {
     "data": {
      "text/html": [
       "<h3>Run history:</h3><br/><style>\n",
       "    table.wandb td:nth-child(1) { padding: 0 10px; text-align: right }\n",
       "    </style><table class=\"wandb\">\n",
       "<tr><td>epoch</td><td>▁▃▅▆█</td></tr><tr><td>loss</td><td>█▁▂▁▂</td></tr><tr><td>accuracy</td><td>▁█▇█▇</td></tr><tr><td>val_loss</td><td>█▄▁▇▅</td></tr><tr><td>val_accuracy</td><td>▁▂█▃▅</td></tr><tr><td>_runtime</td><td>▁▂▄▆█</td></tr><tr><td>_timestamp</td><td>▁▂▄▆█</td></tr><tr><td>_step</td><td>▁▃▅▆█</td></tr></table><br/>"
      ],
      "text/plain": [
       "<IPython.core.display.HTML object>"
      ]
     },
     "metadata": {},
     "output_type": "display_data"
    },
    {
     "data": {
      "text/html": [
       "Synced 6 W&B file(s), 181 media file(s), 0 artifact file(s) and 10 other file(s)"
      ],
      "text/plain": [
       "<IPython.core.display.HTML object>"
      ]
     },
     "metadata": {},
     "output_type": "display_data"
    },
    {
     "data": {
      "text/html": [
       "\n",
       "                    <br/>Synced <strong style=\"color:#cdcd00\">jolly-sweep-19</strong>: <a href=\"https://wandb.ai/jinseock/sweep-practice2/runs/ifsv80in\" target=\"_blank\">https://wandb.ai/jinseock/sweep-practice2/runs/ifsv80in</a><br/>\n",
       "                "
      ],
      "text/plain": [
       "<IPython.core.display.HTML object>"
      ]
     },
     "metadata": {},
     "output_type": "display_data"
    },
    {
     "name": "stderr",
     "output_type": "stream",
     "text": [
      "wandb: Agent Starting Run: oe8it06w with config:\n",
      "wandb: \tdropout_rate: 0.3\n",
      "wandb: \tlayer_1_activation: relu\n",
      "wandb: \tlayer_1_size: 64\n",
      "wandb: \tlearning_rate: 0.05\n",
      "wandb: \toptimizer: rmsprop\n",
      "wandb: WARNING Ignored wandb.init() arg project when running a sweep\n"
     ]
    },
    {
     "data": {
      "text/html": [
       "\n",
       "                Tracking run with wandb version 0.11.0<br/>\n",
       "                Syncing run <strong style=\"color:#cdcd00\">earthy-sweep-20</strong> to <a href=\"https://wandb.ai\" target=\"_blank\">Weights & Biases</a> <a href=\"https://docs.wandb.com/integrations/jupyter.html\" target=\"_blank\">(Documentation)</a>.<br/>\n",
       "                Project page: <a href=\"https://wandb.ai/jinseock/sweep-practice2\" target=\"_blank\">https://wandb.ai/jinseock/sweep-practice2</a><br/>\n",
       "                Sweep page: <a href=\"https://wandb.ai/jinseock/sweep-practice2/sweeps/l0r3ktxc\" target=\"_blank\">https://wandb.ai/jinseock/sweep-practice2/sweeps/l0r3ktxc</a><br/>\n",
       "Run page: <a href=\"https://wandb.ai/jinseock/sweep-practice2/runs/oe8it06w\" target=\"_blank\">https://wandb.ai/jinseock/sweep-practice2/runs/oe8it06w</a><br/>\n",
       "                Run data is saved locally in <code>/Users/jinseok/Jupyter/Study/Lecture/Machine-Learning Engineer/Code/wandb/run-20210721_225154-oe8it06w</code><br/><br/>\n",
       "            "
      ],
      "text/plain": [
       "<IPython.core.display.HTML object>"
      ]
     },
     "metadata": {},
     "output_type": "display_data"
    },
    {
     "name": "stdout",
     "output_type": "stream",
     "text": [
      "Epoch 1/5\n",
      "   3/1875 [..............................] - ETA: 1:05 - loss: 38.1986 - accuracy: 0.0903WARNING:tensorflow:Callback method `on_train_batch_end` is slow compared to the batch time (batch time: 0.0011s vs `on_train_batch_end` time: 0.0114s). Check your callbacks.\n",
      "1875/1875 [==============================] - 2s 902us/step - loss: 2.7661 - accuracy: 0.4257 - val_loss: 1.2387 - val_accuracy: 0.5379\n",
      "Epoch 2/5\n",
      "1875/1875 [==============================] - 2s 903us/step - loss: 1.6129 - accuracy: 0.4737 - val_loss: 1.2830 - val_accuracy: 0.5659\n",
      "Epoch 3/5\n",
      "1875/1875 [==============================] - 2s 904us/step - loss: 1.6849 - accuracy: 0.4805 - val_loss: 1.3784 - val_accuracy: 0.5447\n",
      "Epoch 4/5\n",
      "1875/1875 [==============================] - 2s 922us/step - loss: 1.7103 - accuracy: 0.4975 - val_loss: 1.3626 - val_accuracy: 0.5696\n",
      "Epoch 5/5\n",
      "1875/1875 [==============================] - 2s 938us/step - loss: 1.6892 - accuracy: 0.4940 - val_loss: 1.5740 - val_accuracy: 0.4960\n"
     ]
    },
    {
     "data": {
      "text/html": [
       "<br/>Waiting for W&B process to finish, PID 60851<br/>Program ended successfully."
      ],
      "text/plain": [
       "<IPython.core.display.HTML object>"
      ]
     },
     "metadata": {},
     "output_type": "display_data"
    },
    {
     "data": {
      "application/vnd.jupyter.widget-view+json": {
       "model_id": "dd71ce0bee98495788b25e0969b7d493",
       "version_major": 2,
       "version_minor": 0
      },
      "text/plain": [
       "VBox(children=(Label(value=' 0.50MB of 0.50MB uploaded (0.00MB deduped)\\r'), FloatProgress(value=1.0, max=1.0)…"
      ]
     },
     "metadata": {},
     "output_type": "display_data"
    },
    {
     "data": {
      "text/html": [
       "Find user logs for this run at: <code>/Users/jinseok/Jupyter/Study/Lecture/Machine-Learning Engineer/Code/wandb/run-20210721_225154-oe8it06w/logs/debug.log</code>"
      ],
      "text/plain": [
       "<IPython.core.display.HTML object>"
      ]
     },
     "metadata": {},
     "output_type": "display_data"
    },
    {
     "data": {
      "text/html": [
       "Find internal logs for this run at: <code>/Users/jinseok/Jupyter/Study/Lecture/Machine-Learning Engineer/Code/wandb/run-20210721_225154-oe8it06w/logs/debug-internal.log</code>"
      ],
      "text/plain": [
       "<IPython.core.display.HTML object>"
      ]
     },
     "metadata": {},
     "output_type": "display_data"
    },
    {
     "data": {
      "text/html": [
       "<h3>Run summary:</h3><br/><style>\n",
       "    table.wandb td:nth-child(1) { padding: 0 10px; text-align: right }\n",
       "    </style><table class=\"wandb\">\n",
       "<tr><td>epoch</td><td>4</td></tr><tr><td>loss</td><td>1.77013</td></tr><tr><td>accuracy</td><td>0.47743</td></tr><tr><td>val_loss</td><td>1.57397</td></tr><tr><td>val_accuracy</td><td>0.496</td></tr><tr><td>_runtime</td><td>19</td></tr><tr><td>_timestamp</td><td>1626875533</td></tr><tr><td>_step</td><td>4</td></tr><tr><td>best_val_loss</td><td>1.23875</td></tr><tr><td>best_epoch</td><td>0</td></tr></table>"
      ],
      "text/plain": [
       "<IPython.core.display.HTML object>"
      ]
     },
     "metadata": {},
     "output_type": "display_data"
    },
    {
     "data": {
      "text/html": [
       "<h3>Run history:</h3><br/><style>\n",
       "    table.wandb td:nth-child(1) { padding: 0 10px; text-align: right }\n",
       "    </style><table class=\"wandb\">\n",
       "<tr><td>epoch</td><td>▁▃▅▆█</td></tr><tr><td>loss</td><td>█▁▅▅▇</td></tr><tr><td>accuracy</td><td>▁▆▅█▅</td></tr><tr><td>val_loss</td><td>▁▂▄▄█</td></tr><tr><td>val_accuracy</td><td>▅█▆█▁</td></tr><tr><td>_runtime</td><td>▁▃▄▆█</td></tr><tr><td>_timestamp</td><td>▁▃▄▆█</td></tr><tr><td>_step</td><td>▁▃▅▆█</td></tr></table><br/>"
      ],
      "text/plain": [
       "<IPython.core.display.HTML object>"
      ]
     },
     "metadata": {},
     "output_type": "display_data"
    },
    {
     "data": {
      "text/html": [
       "Synced 6 W&B file(s), 181 media file(s), 0 artifact file(s) and 10 other file(s)"
      ],
      "text/plain": [
       "<IPython.core.display.HTML object>"
      ]
     },
     "metadata": {},
     "output_type": "display_data"
    },
    {
     "data": {
      "text/html": [
       "\n",
       "                    <br/>Synced <strong style=\"color:#cdcd00\">earthy-sweep-20</strong>: <a href=\"https://wandb.ai/jinseock/sweep-practice2/runs/oe8it06w\" target=\"_blank\">https://wandb.ai/jinseock/sweep-practice2/runs/oe8it06w</a><br/>\n",
       "                "
      ],
      "text/plain": [
       "<IPython.core.display.HTML object>"
      ]
     },
     "metadata": {},
     "output_type": "display_data"
    },
    {
     "name": "stderr",
     "output_type": "stream",
     "text": [
      "wandb: Agent Starting Run: 2hm232sn with config:\n",
      "wandb: \tdropout_rate: 0.2\n",
      "wandb: \tlayer_1_activation: sigmoid\n",
      "wandb: \tlayer_1_size: 32\n",
      "wandb: \tlearning_rate: 0.05\n",
      "wandb: \toptimizer: rmsprop\n",
      "wandb: WARNING Ignored wandb.init() arg project when running a sweep\n"
     ]
    },
    {
     "data": {
      "text/html": [
       "\n",
       "                Tracking run with wandb version 0.11.0<br/>\n",
       "                Syncing run <strong style=\"color:#cdcd00\">true-sweep-21</strong> to <a href=\"https://wandb.ai\" target=\"_blank\">Weights & Biases</a> <a href=\"https://docs.wandb.com/integrations/jupyter.html\" target=\"_blank\">(Documentation)</a>.<br/>\n",
       "                Project page: <a href=\"https://wandb.ai/jinseock/sweep-practice2\" target=\"_blank\">https://wandb.ai/jinseock/sweep-practice2</a><br/>\n",
       "                Sweep page: <a href=\"https://wandb.ai/jinseock/sweep-practice2/sweeps/l0r3ktxc\" target=\"_blank\">https://wandb.ai/jinseock/sweep-practice2/sweeps/l0r3ktxc</a><br/>\n",
       "Run page: <a href=\"https://wandb.ai/jinseock/sweep-practice2/runs/2hm232sn\" target=\"_blank\">https://wandb.ai/jinseock/sweep-practice2/runs/2hm232sn</a><br/>\n",
       "                Run data is saved locally in <code>/Users/jinseok/Jupyter/Study/Lecture/Machine-Learning Engineer/Code/wandb/run-20210721_225219-2hm232sn</code><br/><br/>\n",
       "            "
      ],
      "text/plain": [
       "<IPython.core.display.HTML object>"
      ]
     },
     "metadata": {},
     "output_type": "display_data"
    },
    {
     "name": "stdout",
     "output_type": "stream",
     "text": [
      "Epoch 1/5\n",
      "   4/1875 [..............................] - ETA: 31s - loss: 2.8111 - accuracy: 0.1855 WARNING:tensorflow:Callback method `on_train_batch_end` is slow compared to the batch time (batch time: 0.0010s vs `on_train_batch_end` time: 0.0081s). Check your callbacks.\n",
      "1875/1875 [==============================] - 2s 751us/step - loss: 1.0262 - accuracy: 0.6261 - val_loss: 0.7505 - val_accuracy: 0.7460\n",
      "Epoch 2/5\n",
      "1875/1875 [==============================] - 1s 777us/step - loss: 0.8050 - accuracy: 0.7330 - val_loss: 1.2879 - val_accuracy: 0.7224\n",
      "Epoch 3/5\n",
      "1875/1875 [==============================] - 1s 788us/step - loss: 0.7641 - accuracy: 0.7591 - val_loss: 0.7897 - val_accuracy: 0.7814\n",
      "Epoch 4/5\n",
      "1875/1875 [==============================] - 1s 767us/step - loss: 0.7746 - accuracy: 0.7685 - val_loss: 0.6758 - val_accuracy: 0.7984\n",
      "Epoch 5/5\n",
      "1875/1875 [==============================] - 1s 800us/step - loss: 0.7458 - accuracy: 0.7779 - val_loss: 0.7247 - val_accuracy: 0.7419\n"
     ]
    },
    {
     "data": {
      "text/html": [
       "<br/>Waiting for W&B process to finish, PID 60871<br/>Program ended successfully."
      ],
      "text/plain": [
       "<IPython.core.display.HTML object>"
      ]
     },
     "metadata": {},
     "output_type": "display_data"
    },
    {
     "data": {
      "application/vnd.jupyter.widget-view+json": {
       "model_id": "d52b61bacce241e69c59ee13ceeec0fc",
       "version_major": 2,
       "version_minor": 0
      },
      "text/plain": [
       "VBox(children=(Label(value=' 0.56MB of 0.56MB uploaded (0.00MB deduped)\\r'), FloatProgress(value=1.0, max=1.0)…"
      ]
     },
     "metadata": {},
     "output_type": "display_data"
    },
    {
     "data": {
      "text/html": [
       "Find user logs for this run at: <code>/Users/jinseok/Jupyter/Study/Lecture/Machine-Learning Engineer/Code/wandb/run-20210721_225219-2hm232sn/logs/debug.log</code>"
      ],
      "text/plain": [
       "<IPython.core.display.HTML object>"
      ]
     },
     "metadata": {},
     "output_type": "display_data"
    },
    {
     "data": {
      "text/html": [
       "Find internal logs for this run at: <code>/Users/jinseok/Jupyter/Study/Lecture/Machine-Learning Engineer/Code/wandb/run-20210721_225219-2hm232sn/logs/debug-internal.log</code>"
      ],
      "text/plain": [
       "<IPython.core.display.HTML object>"
      ]
     },
     "metadata": {},
     "output_type": "display_data"
    },
    {
     "data": {
      "text/html": [
       "<h3>Run summary:</h3><br/><style>\n",
       "    table.wandb td:nth-child(1) { padding: 0 10px; text-align: right }\n",
       "    </style><table class=\"wandb\">\n",
       "<tr><td>epoch</td><td>4</td></tr><tr><td>loss</td><td>0.74264</td></tr><tr><td>accuracy</td><td>0.78067</td></tr><tr><td>val_loss</td><td>0.72471</td></tr><tr><td>val_accuracy</td><td>0.7419</td></tr><tr><td>_runtime</td><td>17</td></tr><tr><td>_timestamp</td><td>1626875556</td></tr><tr><td>_step</td><td>4</td></tr><tr><td>best_val_loss</td><td>0.67575</td></tr><tr><td>best_epoch</td><td>3</td></tr></table>"
      ],
      "text/plain": [
       "<IPython.core.display.HTML object>"
      ]
     },
     "metadata": {},
     "output_type": "display_data"
    },
    {
     "data": {
      "text/html": [
       "<h3>Run history:</h3><br/><style>\n",
       "    table.wandb td:nth-child(1) { padding: 0 10px; text-align: right }\n",
       "    </style><table class=\"wandb\">\n",
       "<tr><td>epoch</td><td>▁▃▅▆█</td></tr><tr><td>loss</td><td>█▃▂▂▁</td></tr><tr><td>accuracy</td><td>▁▅▇▇█</td></tr><tr><td>val_loss</td><td>▂█▂▁▂</td></tr><tr><td>val_accuracy</td><td>▃▁▆█▃</td></tr><tr><td>_runtime</td><td>▁▂▅▆█</td></tr><tr><td>_timestamp</td><td>▁▂▅▆█</td></tr><tr><td>_step</td><td>▁▃▅▆█</td></tr></table><br/>"
      ],
      "text/plain": [
       "<IPython.core.display.HTML object>"
      ]
     },
     "metadata": {},
     "output_type": "display_data"
    },
    {
     "data": {
      "text/html": [
       "Synced 6 W&B file(s), 181 media file(s), 0 artifact file(s) and 10 other file(s)"
      ],
      "text/plain": [
       "<IPython.core.display.HTML object>"
      ]
     },
     "metadata": {},
     "output_type": "display_data"
    },
    {
     "data": {
      "text/html": [
       "\n",
       "                    <br/>Synced <strong style=\"color:#cdcd00\">true-sweep-21</strong>: <a href=\"https://wandb.ai/jinseock/sweep-practice2/runs/2hm232sn\" target=\"_blank\">https://wandb.ai/jinseock/sweep-practice2/runs/2hm232sn</a><br/>\n",
       "                "
      ],
      "text/plain": [
       "<IPython.core.display.HTML object>"
      ]
     },
     "metadata": {},
     "output_type": "display_data"
    },
    {
     "name": "stderr",
     "output_type": "stream",
     "text": [
      "wandb: Agent Starting Run: 4r6el5vn with config:\n",
      "wandb: \tdropout_rate: 0.3\n",
      "wandb: \tlayer_1_activation: sigmoid\n",
      "wandb: \tlayer_1_size: 128\n",
      "wandb: \tlearning_rate: 0.001\n",
      "wandb: \toptimizer: adam\n",
      "wandb: WARNING Ignored wandb.init() arg project when running a sweep\n"
     ]
    },
    {
     "data": {
      "text/html": [
       "\n",
       "                Tracking run with wandb version 0.11.0<br/>\n",
       "                Syncing run <strong style=\"color:#cdcd00\">confused-sweep-22</strong> to <a href=\"https://wandb.ai\" target=\"_blank\">Weights & Biases</a> <a href=\"https://docs.wandb.com/integrations/jupyter.html\" target=\"_blank\">(Documentation)</a>.<br/>\n",
       "                Project page: <a href=\"https://wandb.ai/jinseock/sweep-practice2\" target=\"_blank\">https://wandb.ai/jinseock/sweep-practice2</a><br/>\n",
       "                Sweep page: <a href=\"https://wandb.ai/jinseock/sweep-practice2/sweeps/l0r3ktxc\" target=\"_blank\">https://wandb.ai/jinseock/sweep-practice2/sweeps/l0r3ktxc</a><br/>\n",
       "Run page: <a href=\"https://wandb.ai/jinseock/sweep-practice2/runs/4r6el5vn\" target=\"_blank\">https://wandb.ai/jinseock/sweep-practice2/runs/4r6el5vn</a><br/>\n",
       "                Run data is saved locally in <code>/Users/jinseok/Jupyter/Study/Lecture/Machine-Learning Engineer/Code/wandb/run-20210721_225241-4r6el5vn</code><br/><br/>\n",
       "            "
      ],
      "text/plain": [
       "<IPython.core.display.HTML object>"
      ]
     },
     "metadata": {},
     "output_type": "display_data"
    },
    {
     "name": "stdout",
     "output_type": "stream",
     "text": [
      "Epoch 1/5\n",
      "   3/1875 [..............................] - ETA: 1:10 - loss: 2.5441 - accuracy: 0.1094WARNING:tensorflow:Callback method `on_train_batch_end` is slow compared to the batch time (batch time: 0.0014s vs `on_train_batch_end` time: 0.0123s). Check your callbacks.\n",
      "1875/1875 [==============================] - 2s 949us/step - loss: 0.8115 - accuracy: 0.7233 - val_loss: 0.4602 - val_accuracy: 0.8381\n",
      "Epoch 2/5\n",
      "1875/1875 [==============================] - 2s 974us/step - loss: 0.4494 - accuracy: 0.8400 - val_loss: 0.4166 - val_accuracy: 0.8468\n",
      "Epoch 3/5\n",
      "1875/1875 [==============================] - 2s 980us/step - loss: 0.4096 - accuracy: 0.8523 - val_loss: 0.4064 - val_accuracy: 0.8536\n",
      "Epoch 4/5\n",
      "1875/1875 [==============================] - 2s 985us/step - loss: 0.3793 - accuracy: 0.8651 - val_loss: 0.3797 - val_accuracy: 0.8614\n",
      "Epoch 5/5\n",
      "1875/1875 [==============================] - 2s 976us/step - loss: 0.3630 - accuracy: 0.8674 - val_loss: 0.3729 - val_accuracy: 0.8653\n"
     ]
    },
    {
     "data": {
      "text/html": [
       "<br/>Waiting for W&B process to finish, PID 60890<br/>Program ended successfully."
      ],
      "text/plain": [
       "<IPython.core.display.HTML object>"
      ]
     },
     "metadata": {},
     "output_type": "display_data"
    },
    {
     "data": {
      "application/vnd.jupyter.widget-view+json": {
       "model_id": "43e275c727db46f5a025d9652023ddde",
       "version_major": 2,
       "version_minor": 0
      },
      "text/plain": [
       "VBox(children=(Label(value=' 1.47MB of 1.48MB uploaded (0.00MB deduped)\\r'), FloatProgress(value=0.99595168842…"
      ]
     },
     "metadata": {},
     "output_type": "display_data"
    },
    {
     "data": {
      "text/html": [
       "Find user logs for this run at: <code>/Users/jinseok/Jupyter/Study/Lecture/Machine-Learning Engineer/Code/wandb/run-20210721_225241-4r6el5vn/logs/debug.log</code>"
      ],
      "text/plain": [
       "<IPython.core.display.HTML object>"
      ]
     },
     "metadata": {},
     "output_type": "display_data"
    },
    {
     "data": {
      "text/html": [
       "Find internal logs for this run at: <code>/Users/jinseok/Jupyter/Study/Lecture/Machine-Learning Engineer/Code/wandb/run-20210721_225241-4r6el5vn/logs/debug-internal.log</code>"
      ],
      "text/plain": [
       "<IPython.core.display.HTML object>"
      ]
     },
     "metadata": {},
     "output_type": "display_data"
    },
    {
     "data": {
      "text/html": [
       "<h3>Run summary:</h3><br/><style>\n",
       "    table.wandb td:nth-child(1) { padding: 0 10px; text-align: right }\n",
       "    </style><table class=\"wandb\">\n",
       "<tr><td>epoch</td><td>4</td></tr><tr><td>loss</td><td>0.35969</td></tr><tr><td>accuracy</td><td>0.86883</td></tr><tr><td>val_loss</td><td>0.37285</td></tr><tr><td>val_accuracy</td><td>0.8653</td></tr><tr><td>_runtime</td><td>19</td></tr><tr><td>_timestamp</td><td>1626875580</td></tr><tr><td>_step</td><td>4</td></tr><tr><td>best_val_loss</td><td>0.37285</td></tr><tr><td>best_epoch</td><td>4</td></tr></table>"
      ],
      "text/plain": [
       "<IPython.core.display.HTML object>"
      ]
     },
     "metadata": {},
     "output_type": "display_data"
    },
    {
     "data": {
      "text/html": [
       "<h3>Run history:</h3><br/><style>\n",
       "    table.wandb td:nth-child(1) { padding: 0 10px; text-align: right }\n",
       "    </style><table class=\"wandb\">\n",
       "<tr><td>epoch</td><td>▁▃▅▆█</td></tr><tr><td>loss</td><td>█▃▂▁▁</td></tr><tr><td>accuracy</td><td>▁▆▇██</td></tr><tr><td>val_loss</td><td>█▅▄▂▁</td></tr><tr><td>val_accuracy</td><td>▁▃▅▇█</td></tr><tr><td>_runtime</td><td>▁▃▅▆█</td></tr><tr><td>_timestamp</td><td>▁▃▅▆█</td></tr><tr><td>_step</td><td>▁▃▅▆█</td></tr></table><br/>"
      ],
      "text/plain": [
       "<IPython.core.display.HTML object>"
      ]
     },
     "metadata": {},
     "output_type": "display_data"
    },
    {
     "data": {
      "text/html": [
       "Synced 6 W&B file(s), 181 media file(s), 0 artifact file(s) and 10 other file(s)"
      ],
      "text/plain": [
       "<IPython.core.display.HTML object>"
      ]
     },
     "metadata": {},
     "output_type": "display_data"
    },
    {
     "data": {
      "text/html": [
       "\n",
       "                    <br/>Synced <strong style=\"color:#cdcd00\">confused-sweep-22</strong>: <a href=\"https://wandb.ai/jinseock/sweep-practice2/runs/4r6el5vn\" target=\"_blank\">https://wandb.ai/jinseock/sweep-practice2/runs/4r6el5vn</a><br/>\n",
       "                "
      ],
      "text/plain": [
       "<IPython.core.display.HTML object>"
      ]
     },
     "metadata": {},
     "output_type": "display_data"
    },
    {
     "name": "stderr",
     "output_type": "stream",
     "text": [
      "wandb: Agent Starting Run: bjyjlw2h with config:\n",
      "wandb: \tdropout_rate: 0.3\n",
      "wandb: \tlayer_1_activation: relu\n",
      "wandb: \tlayer_1_size: 128\n",
      "wandb: \tlearning_rate: 0.01\n",
      "wandb: \toptimizer: rmsprop\n",
      "wandb: WARNING Ignored wandb.init() arg project when running a sweep\n"
     ]
    },
    {
     "data": {
      "text/html": [
       "\n",
       "                Tracking run with wandb version 0.11.0<br/>\n",
       "                Syncing run <strong style=\"color:#cdcd00\">solar-sweep-23</strong> to <a href=\"https://wandb.ai\" target=\"_blank\">Weights & Biases</a> <a href=\"https://docs.wandb.com/integrations/jupyter.html\" target=\"_blank\">(Documentation)</a>.<br/>\n",
       "                Project page: <a href=\"https://wandb.ai/jinseock/sweep-practice2\" target=\"_blank\">https://wandb.ai/jinseock/sweep-practice2</a><br/>\n",
       "                Sweep page: <a href=\"https://wandb.ai/jinseock/sweep-practice2/sweeps/l0r3ktxc\" target=\"_blank\">https://wandb.ai/jinseock/sweep-practice2/sweeps/l0r3ktxc</a><br/>\n",
       "Run page: <a href=\"https://wandb.ai/jinseock/sweep-practice2/runs/bjyjlw2h\" target=\"_blank\">https://wandb.ai/jinseock/sweep-practice2/runs/bjyjlw2h</a><br/>\n",
       "                Run data is saved locally in <code>/Users/jinseok/Jupyter/Study/Lecture/Machine-Learning Engineer/Code/wandb/run-20210721_225304-bjyjlw2h</code><br/><br/>\n",
       "            "
      ],
      "text/plain": [
       "<IPython.core.display.HTML object>"
      ]
     },
     "metadata": {},
     "output_type": "display_data"
    },
    {
     "name": "stdout",
     "output_type": "stream",
     "text": [
      "Epoch 1/5\n",
      "   3/1875 [..............................] - ETA: 1:12 - loss: 6.3208 - accuracy: 0.1771WARNING:tensorflow:Callback method `on_train_batch_end` is slow compared to the batch time (batch time: 0.0016s vs `on_train_batch_end` time: 0.0124s). Check your callbacks.\n",
      "1875/1875 [==============================] - 3s 1ms/step - loss: 0.9852 - accuracy: 0.7022 - val_loss: 0.6095 - val_accuracy: 0.8040\n",
      "Epoch 2/5\n",
      "1875/1875 [==============================] - 2s 1ms/step - loss: 0.7315 - accuracy: 0.7752 - val_loss: 0.7467 - val_accuracy: 0.7934\n",
      "Epoch 3/5\n",
      "1875/1875 [==============================] - 2s 1ms/step - loss: 0.7882 - accuracy: 0.7708 - val_loss: 0.7434 - val_accuracy: 0.7844\n",
      "Epoch 4/5\n",
      "1875/1875 [==============================] - 2s 1ms/step - loss: 0.8462 - accuracy: 0.7690 - val_loss: 0.7437 - val_accuracy: 0.8146\n",
      "Epoch 5/5\n",
      "1875/1875 [==============================] - 2s 1ms/step - loss: 0.8453 - accuracy: 0.7631 - val_loss: 0.7344 - val_accuracy: 0.8064\n"
     ]
    },
    {
     "data": {
      "text/html": [
       "<br/>Waiting for W&B process to finish, PID 60908<br/>Program ended successfully."
      ],
      "text/plain": [
       "<IPython.core.display.HTML object>"
      ]
     },
     "metadata": {},
     "output_type": "display_data"
    },
    {
     "data": {
      "application/vnd.jupyter.widget-view+json": {
       "model_id": "cc0f1fb54caa4389b45db84c33225bf0",
       "version_major": 2,
       "version_minor": 0
      },
      "text/plain": [
       "VBox(children=(Label(value=' 1.14MB of 1.14MB uploaded (0.00MB deduped)\\r'), FloatProgress(value=0.99729700091…"
      ]
     },
     "metadata": {},
     "output_type": "display_data"
    },
    {
     "data": {
      "text/html": [
       "Find user logs for this run at: <code>/Users/jinseok/Jupyter/Study/Lecture/Machine-Learning Engineer/Code/wandb/run-20210721_225304-bjyjlw2h/logs/debug.log</code>"
      ],
      "text/plain": [
       "<IPython.core.display.HTML object>"
      ]
     },
     "metadata": {},
     "output_type": "display_data"
    },
    {
     "data": {
      "text/html": [
       "Find internal logs for this run at: <code>/Users/jinseok/Jupyter/Study/Lecture/Machine-Learning Engineer/Code/wandb/run-20210721_225304-bjyjlw2h/logs/debug-internal.log</code>"
      ],
      "text/plain": [
       "<IPython.core.display.HTML object>"
      ]
     },
     "metadata": {},
     "output_type": "display_data"
    },
    {
     "data": {
      "text/html": [
       "<h3>Run summary:</h3><br/><style>\n",
       "    table.wandb td:nth-child(1) { padding: 0 10px; text-align: right }\n",
       "    </style><table class=\"wandb\">\n",
       "<tr><td>epoch</td><td>4</td></tr><tr><td>loss</td><td>0.8524</td></tr><tr><td>accuracy</td><td>0.76412</td></tr><tr><td>val_loss</td><td>0.73439</td></tr><tr><td>val_accuracy</td><td>0.8064</td></tr><tr><td>_runtime</td><td>21</td></tr><tr><td>_timestamp</td><td>1626875605</td></tr><tr><td>_step</td><td>4</td></tr><tr><td>best_val_loss</td><td>0.60952</td></tr><tr><td>best_epoch</td><td>0</td></tr></table>"
      ],
      "text/plain": [
       "<IPython.core.display.HTML object>"
      ]
     },
     "metadata": {},
     "output_type": "display_data"
    },
    {
     "data": {
      "text/html": [
       "<h3>Run history:</h3><br/><style>\n",
       "    table.wandb td:nth-child(1) { padding: 0 10px; text-align: right }\n",
       "    </style><table class=\"wandb\">\n",
       "<tr><td>epoch</td><td>▁▃▅▆█</td></tr><tr><td>loss</td><td>▄▁▄▇█</td></tr><tr><td>accuracy</td><td>▁█▆▇▅</td></tr><tr><td>val_loss</td><td>▁███▇</td></tr><tr><td>val_accuracy</td><td>▆▃▁█▆</td></tr><tr><td>_runtime</td><td>▁▃▄▆█</td></tr><tr><td>_timestamp</td><td>▁▃▄▆█</td></tr><tr><td>_step</td><td>▁▃▅▆█</td></tr></table><br/>"
      ],
      "text/plain": [
       "<IPython.core.display.HTML object>"
      ]
     },
     "metadata": {},
     "output_type": "display_data"
    },
    {
     "data": {
      "text/html": [
       "Synced 6 W&B file(s), 181 media file(s), 0 artifact file(s) and 10 other file(s)"
      ],
      "text/plain": [
       "<IPython.core.display.HTML object>"
      ]
     },
     "metadata": {},
     "output_type": "display_data"
    },
    {
     "data": {
      "text/html": [
       "\n",
       "                    <br/>Synced <strong style=\"color:#cdcd00\">solar-sweep-23</strong>: <a href=\"https://wandb.ai/jinseock/sweep-practice2/runs/bjyjlw2h\" target=\"_blank\">https://wandb.ai/jinseock/sweep-practice2/runs/bjyjlw2h</a><br/>\n",
       "                "
      ],
      "text/plain": [
       "<IPython.core.display.HTML object>"
      ]
     },
     "metadata": {},
     "output_type": "display_data"
    },
    {
     "name": "stderr",
     "output_type": "stream",
     "text": [
      "wandb: Agent Starting Run: s5btl7f0 with config:\n",
      "wandb: \tdropout_rate: 0.2\n",
      "wandb: \tlayer_1_activation: sigmoid\n",
      "wandb: \tlayer_1_size: 128\n",
      "wandb: \tlearning_rate: 0.01\n",
      "wandb: \toptimizer: adam\n",
      "wandb: WARNING Ignored wandb.init() arg project when running a sweep\n"
     ]
    },
    {
     "data": {
      "text/html": [
       "\n",
       "                Tracking run with wandb version 0.11.0<br/>\n",
       "                Syncing run <strong style=\"color:#cdcd00\">fresh-sweep-24</strong> to <a href=\"https://wandb.ai\" target=\"_blank\">Weights & Biases</a> <a href=\"https://docs.wandb.com/integrations/jupyter.html\" target=\"_blank\">(Documentation)</a>.<br/>\n",
       "                Project page: <a href=\"https://wandb.ai/jinseock/sweep-practice2\" target=\"_blank\">https://wandb.ai/jinseock/sweep-practice2</a><br/>\n",
       "                Sweep page: <a href=\"https://wandb.ai/jinseock/sweep-practice2/sweeps/l0r3ktxc\" target=\"_blank\">https://wandb.ai/jinseock/sweep-practice2/sweeps/l0r3ktxc</a><br/>\n",
       "Run page: <a href=\"https://wandb.ai/jinseock/sweep-practice2/runs/s5btl7f0\" target=\"_blank\">https://wandb.ai/jinseock/sweep-practice2/runs/s5btl7f0</a><br/>\n",
       "                Run data is saved locally in <code>/Users/jinseok/Jupyter/Study/Lecture/Machine-Learning Engineer/Code/wandb/run-20210721_225330-s5btl7f0</code><br/><br/>\n",
       "            "
      ],
      "text/plain": [
       "<IPython.core.display.HTML object>"
      ]
     },
     "metadata": {},
     "output_type": "display_data"
    },
    {
     "name": "stdout",
     "output_type": "stream",
     "text": [
      "Epoch 1/5\n",
      "   3/1875 [..............................] - ETA: 1:00 - loss: 2.7692 - accuracy: 0.1510WARNING:tensorflow:Callback method `on_train_batch_end` is slow compared to the batch time (batch time: 0.0012s vs `on_train_batch_end` time: 0.0105s). Check your callbacks.\n",
      "1875/1875 [==============================] - 2s 923us/step - loss: 0.6838 - accuracy: 0.7540 - val_loss: 0.5002 - val_accuracy: 0.8189\n",
      "Epoch 2/5\n",
      "1875/1875 [==============================] - 2s 974us/step - loss: 0.5180 - accuracy: 0.8125 - val_loss: 0.4561 - val_accuracy: 0.8413\n",
      "Epoch 3/5\n",
      "1875/1875 [==============================] - 2s 1ms/step - loss: 0.4923 - accuracy: 0.8249 - val_loss: 0.4602 - val_accuracy: 0.8315\n",
      "Epoch 4/5\n",
      "1875/1875 [==============================] - 2s 1ms/step - loss: 0.4774 - accuracy: 0.8284 - val_loss: 0.4760 - val_accuracy: 0.8340\n",
      "Epoch 5/5\n",
      "1875/1875 [==============================] - 2s 1ms/step - loss: 0.4559 - accuracy: 0.8357 - val_loss: 0.4328 - val_accuracy: 0.8433\n"
     ]
    },
    {
     "data": {
      "text/html": [
       "<br/>Waiting for W&B process to finish, PID 60922<br/>Program ended successfully."
      ],
      "text/plain": [
       "<IPython.core.display.HTML object>"
      ]
     },
     "metadata": {},
     "output_type": "display_data"
    },
    {
     "data": {
      "application/vnd.jupyter.widget-view+json": {
       "model_id": "025aacfec3aa4c9b8cad8a483ac8990c",
       "version_major": 2,
       "version_minor": 0
      },
      "text/plain": [
       "VBox(children=(Label(value=' 1.28MB of 1.28MB uploaded (0.00MB deduped)\\r'), FloatProgress(value=1.0, max=1.0)…"
      ]
     },
     "metadata": {},
     "output_type": "display_data"
    },
    {
     "data": {
      "text/html": [
       "Find user logs for this run at: <code>/Users/jinseok/Jupyter/Study/Lecture/Machine-Learning Engineer/Code/wandb/run-20210721_225330-s5btl7f0/logs/debug.log</code>"
      ],
      "text/plain": [
       "<IPython.core.display.HTML object>"
      ]
     },
     "metadata": {},
     "output_type": "display_data"
    },
    {
     "data": {
      "text/html": [
       "Find internal logs for this run at: <code>/Users/jinseok/Jupyter/Study/Lecture/Machine-Learning Engineer/Code/wandb/run-20210721_225330-s5btl7f0/logs/debug-internal.log</code>"
      ],
      "text/plain": [
       "<IPython.core.display.HTML object>"
      ]
     },
     "metadata": {},
     "output_type": "display_data"
    },
    {
     "data": {
      "text/html": [
       "<h3>Run summary:</h3><br/><style>\n",
       "    table.wandb td:nth-child(1) { padding: 0 10px; text-align: right }\n",
       "    </style><table class=\"wandb\">\n",
       "<tr><td>epoch</td><td>4</td></tr><tr><td>loss</td><td>0.4563</td></tr><tr><td>accuracy</td><td>0.83557</td></tr><tr><td>val_loss</td><td>0.43277</td></tr><tr><td>val_accuracy</td><td>0.8433</td></tr><tr><td>_runtime</td><td>19</td></tr><tr><td>_timestamp</td><td>1626875629</td></tr><tr><td>_step</td><td>4</td></tr><tr><td>best_val_loss</td><td>0.43277</td></tr><tr><td>best_epoch</td><td>4</td></tr></table>"
      ],
      "text/plain": [
       "<IPython.core.display.HTML object>"
      ]
     },
     "metadata": {},
     "output_type": "display_data"
    },
    {
     "data": {
      "text/html": [
       "<h3>Run history:</h3><br/><style>\n",
       "    table.wandb td:nth-child(1) { padding: 0 10px; text-align: right }\n",
       "    </style><table class=\"wandb\">\n",
       "<tr><td>epoch</td><td>▁▃▅▆█</td></tr><tr><td>loss</td><td>█▄▃▂▁</td></tr><tr><td>accuracy</td><td>▁▅▇▇█</td></tr><tr><td>val_loss</td><td>█▃▄▅▁</td></tr><tr><td>val_accuracy</td><td>▁▇▅▅█</td></tr><tr><td>_runtime</td><td>▁▃▅▆█</td></tr><tr><td>_timestamp</td><td>▁▃▅▆█</td></tr><tr><td>_step</td><td>▁▃▅▆█</td></tr></table><br/>"
      ],
      "text/plain": [
       "<IPython.core.display.HTML object>"
      ]
     },
     "metadata": {},
     "output_type": "display_data"
    },
    {
     "data": {
      "text/html": [
       "Synced 6 W&B file(s), 181 media file(s), 0 artifact file(s) and 10 other file(s)"
      ],
      "text/plain": [
       "<IPython.core.display.HTML object>"
      ]
     },
     "metadata": {},
     "output_type": "display_data"
    },
    {
     "data": {
      "text/html": [
       "\n",
       "                    <br/>Synced <strong style=\"color:#cdcd00\">fresh-sweep-24</strong>: <a href=\"https://wandb.ai/jinseock/sweep-practice2/runs/s5btl7f0\" target=\"_blank\">https://wandb.ai/jinseock/sweep-practice2/runs/s5btl7f0</a><br/>\n",
       "                "
      ],
      "text/plain": [
       "<IPython.core.display.HTML object>"
      ]
     },
     "metadata": {},
     "output_type": "display_data"
    },
    {
     "name": "stderr",
     "output_type": "stream",
     "text": [
      "wandb: Agent Starting Run: tmjxwl8l with config:\n",
      "wandb: \tdropout_rate: 0.4\n",
      "wandb: \tlayer_1_activation: sigmoid\n",
      "wandb: \tlayer_1_size: 32\n",
      "wandb: \tlearning_rate: 0.05\n",
      "wandb: \toptimizer: adam\n",
      "wandb: WARNING Ignored wandb.init() arg project when running a sweep\n"
     ]
    },
    {
     "data": {
      "text/html": [
       "\n",
       "                Tracking run with wandb version 0.11.0<br/>\n",
       "                Syncing run <strong style=\"color:#cdcd00\">hearty-sweep-25</strong> to <a href=\"https://wandb.ai\" target=\"_blank\">Weights & Biases</a> <a href=\"https://docs.wandb.com/integrations/jupyter.html\" target=\"_blank\">(Documentation)</a>.<br/>\n",
       "                Project page: <a href=\"https://wandb.ai/jinseock/sweep-practice2\" target=\"_blank\">https://wandb.ai/jinseock/sweep-practice2</a><br/>\n",
       "                Sweep page: <a href=\"https://wandb.ai/jinseock/sweep-practice2/sweeps/l0r3ktxc\" target=\"_blank\">https://wandb.ai/jinseock/sweep-practice2/sweeps/l0r3ktxc</a><br/>\n",
       "Run page: <a href=\"https://wandb.ai/jinseock/sweep-practice2/runs/tmjxwl8l\" target=\"_blank\">https://wandb.ai/jinseock/sweep-practice2/runs/tmjxwl8l</a><br/>\n",
       "                Run data is saved locally in <code>/Users/jinseok/Jupyter/Study/Lecture/Machine-Learning Engineer/Code/wandb/run-20210721_225356-tmjxwl8l</code><br/><br/>\n",
       "            "
      ],
      "text/plain": [
       "<IPython.core.display.HTML object>"
      ]
     },
     "metadata": {},
     "output_type": "display_data"
    },
    {
     "name": "stdout",
     "output_type": "stream",
     "text": [
      "Epoch 1/5\n",
      "   1/1875 [..............................] - ETA: 7:28 - loss: 2.7864 - accuracy: 0.0625WARNING:tensorflow:Callback method `on_train_batch_end` is slow compared to the batch time (batch time: 0.0008s vs `on_train_batch_end` time: 0.0062s). Check your callbacks.\n",
      "1875/1875 [==============================] - 2s 782us/step - loss: 1.3254 - accuracy: 0.4743 - val_loss: 0.8144 - val_accuracy: 0.6833\n",
      "Epoch 2/5\n",
      "1875/1875 [==============================] - 1s 788us/step - loss: 1.0745 - accuracy: 0.5709 - val_loss: 0.7262 - val_accuracy: 0.7003\n",
      "Epoch 3/5\n",
      "1875/1875 [==============================] - 1s 793us/step - loss: 1.0385 - accuracy: 0.5840 - val_loss: 0.8523 - val_accuracy: 0.6773\n",
      "Epoch 4/5\n",
      "1875/1875 [==============================] - 2s 808us/step - loss: 1.0461 - accuracy: 0.5838 - val_loss: 0.7496 - val_accuracy: 0.6955\n",
      "Epoch 5/5\n",
      "1875/1875 [==============================] - 2s 827us/step - loss: 1.0100 - accuracy: 0.5995 - val_loss: 0.7137 - val_accuracy: 0.7146\n"
     ]
    },
    {
     "data": {
      "text/html": [
       "<br/>Waiting for W&B process to finish, PID 60937<br/>Program ended successfully."
      ],
      "text/plain": [
       "<IPython.core.display.HTML object>"
      ]
     },
     "metadata": {},
     "output_type": "display_data"
    },
    {
     "data": {
      "application/vnd.jupyter.widget-view+json": {
       "model_id": "bf8390d340f44214b6f52ec4f49f1f26",
       "version_major": 2,
       "version_minor": 0
      },
      "text/plain": [
       "VBox(children=(Label(value=' 0.60MB of 0.60MB uploaded (0.00MB deduped)\\r'), FloatProgress(value=0.98997673424…"
      ]
     },
     "metadata": {},
     "output_type": "display_data"
    },
    {
     "data": {
      "text/html": [
       "Find user logs for this run at: <code>/Users/jinseok/Jupyter/Study/Lecture/Machine-Learning Engineer/Code/wandb/run-20210721_225356-tmjxwl8l/logs/debug.log</code>"
      ],
      "text/plain": [
       "<IPython.core.display.HTML object>"
      ]
     },
     "metadata": {},
     "output_type": "display_data"
    },
    {
     "data": {
      "text/html": [
       "Find internal logs for this run at: <code>/Users/jinseok/Jupyter/Study/Lecture/Machine-Learning Engineer/Code/wandb/run-20210721_225356-tmjxwl8l/logs/debug-internal.log</code>"
      ],
      "text/plain": [
       "<IPython.core.display.HTML object>"
      ]
     },
     "metadata": {},
     "output_type": "display_data"
    },
    {
     "data": {
      "text/html": [
       "<h3>Run summary:</h3><br/><style>\n",
       "    table.wandb td:nth-child(1) { padding: 0 10px; text-align: right }\n",
       "    </style><table class=\"wandb\">\n",
       "<tr><td>epoch</td><td>4</td></tr><tr><td>loss</td><td>0.99308</td></tr><tr><td>accuracy</td><td>0.60585</td></tr><tr><td>val_loss</td><td>0.71366</td></tr><tr><td>val_accuracy</td><td>0.7146</td></tr><tr><td>_runtime</td><td>17</td></tr><tr><td>_timestamp</td><td>1626875653</td></tr><tr><td>_step</td><td>4</td></tr><tr><td>best_val_loss</td><td>0.71366</td></tr><tr><td>best_epoch</td><td>4</td></tr></table>"
      ],
      "text/plain": [
       "<IPython.core.display.HTML object>"
      ]
     },
     "metadata": {},
     "output_type": "display_data"
    },
    {
     "data": {
      "text/html": [
       "<h3>Run history:</h3><br/><style>\n",
       "    table.wandb td:nth-child(1) { padding: 0 10px; text-align: right }\n",
       "    </style><table class=\"wandb\">\n",
       "<tr><td>epoch</td><td>▁▃▅▆█</td></tr><tr><td>loss</td><td>█▃▃▂▁</td></tr><tr><td>accuracy</td><td>▁▆▆▆█</td></tr><tr><td>val_loss</td><td>▆▂█▃▁</td></tr><tr><td>val_accuracy</td><td>▂▅▁▄█</td></tr><tr><td>_runtime</td><td>▁▃▄▆█</td></tr><tr><td>_timestamp</td><td>▁▃▄▆█</td></tr><tr><td>_step</td><td>▁▃▅▆█</td></tr></table><br/>"
      ],
      "text/plain": [
       "<IPython.core.display.HTML object>"
      ]
     },
     "metadata": {},
     "output_type": "display_data"
    },
    {
     "data": {
      "text/html": [
       "Synced 6 W&B file(s), 181 media file(s), 0 artifact file(s) and 10 other file(s)"
      ],
      "text/plain": [
       "<IPython.core.display.HTML object>"
      ]
     },
     "metadata": {},
     "output_type": "display_data"
    },
    {
     "data": {
      "text/html": [
       "\n",
       "                    <br/>Synced <strong style=\"color:#cdcd00\">hearty-sweep-25</strong>: <a href=\"https://wandb.ai/jinseock/sweep-practice2/runs/tmjxwl8l\" target=\"_blank\">https://wandb.ai/jinseock/sweep-practice2/runs/tmjxwl8l</a><br/>\n",
       "                "
      ],
      "text/plain": [
       "<IPython.core.display.HTML object>"
      ]
     },
     "metadata": {},
     "output_type": "display_data"
    },
    {
     "name": "stderr",
     "output_type": "stream",
     "text": [
      "wandb: Agent Starting Run: wvzaqoog with config:\n",
      "wandb: \tdropout_rate: 0.5\n",
      "wandb: \tlayer_1_activation: relu\n",
      "wandb: \tlayer_1_size: 32\n",
      "wandb: \tlearning_rate: 0.01\n",
      "wandb: \toptimizer: adam\n",
      "wandb: WARNING Ignored wandb.init() arg project when running a sweep\n"
     ]
    },
    {
     "data": {
      "text/html": [
       "\n",
       "                Tracking run with wandb version 0.11.0<br/>\n",
       "                Syncing run <strong style=\"color:#cdcd00\">fresh-sweep-26</strong> to <a href=\"https://wandb.ai\" target=\"_blank\">Weights & Biases</a> <a href=\"https://docs.wandb.com/integrations/jupyter.html\" target=\"_blank\">(Documentation)</a>.<br/>\n",
       "                Project page: <a href=\"https://wandb.ai/jinseock/sweep-practice2\" target=\"_blank\">https://wandb.ai/jinseock/sweep-practice2</a><br/>\n",
       "                Sweep page: <a href=\"https://wandb.ai/jinseock/sweep-practice2/sweeps/l0r3ktxc\" target=\"_blank\">https://wandb.ai/jinseock/sweep-practice2/sweeps/l0r3ktxc</a><br/>\n",
       "Run page: <a href=\"https://wandb.ai/jinseock/sweep-practice2/runs/wvzaqoog\" target=\"_blank\">https://wandb.ai/jinseock/sweep-practice2/runs/wvzaqoog</a><br/>\n",
       "                Run data is saved locally in <code>/Users/jinseok/Jupyter/Study/Lecture/Machine-Learning Engineer/Code/wandb/run-20210721_225418-wvzaqoog</code><br/><br/>\n",
       "            "
      ],
      "text/plain": [
       "<IPython.core.display.HTML object>"
      ]
     },
     "metadata": {},
     "output_type": "display_data"
    },
    {
     "name": "stdout",
     "output_type": "stream",
     "text": [
      "Epoch 1/5\n",
      "   3/1875 [..............................] - ETA: 1:02 - loss: 2.7959 - accuracy: 0.1128WARNING:tensorflow:Callback method `on_train_batch_end` is slow compared to the batch time (batch time: 0.0015s vs `on_train_batch_end` time: 0.0110s). Check your callbacks.\n",
      "1875/1875 [==============================] - 2s 795us/step - loss: 1.6964 - accuracy: 0.3299 - val_loss: 0.8491 - val_accuracy: 0.7302\n",
      "Epoch 2/5\n",
      "1875/1875 [==============================] - 2s 931us/step - loss: 1.3676 - accuracy: 0.4670 - val_loss: 0.8591 - val_accuracy: 0.7353\n",
      "Epoch 3/5\n",
      "1875/1875 [==============================] - 1s 782us/step - loss: 1.3427 - accuracy: 0.4776 - val_loss: 0.8380 - val_accuracy: 0.7409\n",
      "Epoch 4/5\n",
      "1875/1875 [==============================] - 2s 812us/step - loss: 1.3396 - accuracy: 0.4807 - val_loss: 0.8882 - val_accuracy: 0.7315\n",
      "Epoch 5/5\n",
      "1875/1875 [==============================] - 2s 811us/step - loss: 1.3286 - accuracy: 0.4839 - val_loss: 0.8482 - val_accuracy: 0.7159\n"
     ]
    },
    {
     "data": {
      "text/html": [
       "<br/>Waiting for W&B process to finish, PID 60950<br/>Program ended successfully."
      ],
      "text/plain": [
       "<IPython.core.display.HTML object>"
      ]
     },
     "metadata": {},
     "output_type": "display_data"
    },
    {
     "data": {
      "application/vnd.jupyter.widget-view+json": {
       "model_id": "9471633028bc49f28a01056e6d792503",
       "version_major": 2,
       "version_minor": 0
      },
      "text/plain": [
       "VBox(children=(Label(value=' 0.60MB of 0.60MB uploaded (0.00MB deduped)\\r'), FloatProgress(value=1.0, max=1.0)…"
      ]
     },
     "metadata": {},
     "output_type": "display_data"
    },
    {
     "data": {
      "text/html": [
       "Find user logs for this run at: <code>/Users/jinseok/Jupyter/Study/Lecture/Machine-Learning Engineer/Code/wandb/run-20210721_225418-wvzaqoog/logs/debug.log</code>"
      ],
      "text/plain": [
       "<IPython.core.display.HTML object>"
      ]
     },
     "metadata": {},
     "output_type": "display_data"
    },
    {
     "data": {
      "text/html": [
       "Find internal logs for this run at: <code>/Users/jinseok/Jupyter/Study/Lecture/Machine-Learning Engineer/Code/wandb/run-20210721_225418-wvzaqoog/logs/debug-internal.log</code>"
      ],
      "text/plain": [
       "<IPython.core.display.HTML object>"
      ]
     },
     "metadata": {},
     "output_type": "display_data"
    },
    {
     "data": {
      "text/html": [
       "<h3>Run summary:</h3><br/><style>\n",
       "    table.wandb td:nth-child(1) { padding: 0 10px; text-align: right }\n",
       "    </style><table class=\"wandb\">\n",
       "<tr><td>epoch</td><td>4</td></tr><tr><td>loss</td><td>1.32883</td></tr><tr><td>accuracy</td><td>0.48482</td></tr><tr><td>val_loss</td><td>0.84815</td></tr><tr><td>val_accuracy</td><td>0.7159</td></tr><tr><td>_runtime</td><td>17</td></tr><tr><td>_timestamp</td><td>1626875675</td></tr><tr><td>_step</td><td>4</td></tr><tr><td>best_val_loss</td><td>0.83798</td></tr><tr><td>best_epoch</td><td>2</td></tr></table>"
      ],
      "text/plain": [
       "<IPython.core.display.HTML object>"
      ]
     },
     "metadata": {},
     "output_type": "display_data"
    },
    {
     "data": {
      "text/html": [
       "<h3>Run history:</h3><br/><style>\n",
       "    table.wandb td:nth-child(1) { padding: 0 10px; text-align: right }\n",
       "    </style><table class=\"wandb\">\n",
       "<tr><td>epoch</td><td>▁▃▅▆█</td></tr><tr><td>loss</td><td>█▂▁▁▁</td></tr><tr><td>accuracy</td><td>▁▇███</td></tr><tr><td>val_loss</td><td>▃▄▁█▂</td></tr><tr><td>val_accuracy</td><td>▅▆█▅▁</td></tr><tr><td>_runtime</td><td>▁▃▄▆█</td></tr><tr><td>_timestamp</td><td>▁▃▄▆█</td></tr><tr><td>_step</td><td>▁▃▅▆█</td></tr></table><br/>"
      ],
      "text/plain": [
       "<IPython.core.display.HTML object>"
      ]
     },
     "metadata": {},
     "output_type": "display_data"
    },
    {
     "data": {
      "text/html": [
       "Synced 6 W&B file(s), 181 media file(s), 0 artifact file(s) and 10 other file(s)"
      ],
      "text/plain": [
       "<IPython.core.display.HTML object>"
      ]
     },
     "metadata": {},
     "output_type": "display_data"
    },
    {
     "data": {
      "text/html": [
       "\n",
       "                    <br/>Synced <strong style=\"color:#cdcd00\">fresh-sweep-26</strong>: <a href=\"https://wandb.ai/jinseock/sweep-practice2/runs/wvzaqoog\" target=\"_blank\">https://wandb.ai/jinseock/sweep-practice2/runs/wvzaqoog</a><br/>\n",
       "                "
      ],
      "text/plain": [
       "<IPython.core.display.HTML object>"
      ]
     },
     "metadata": {},
     "output_type": "display_data"
    },
    {
     "name": "stderr",
     "output_type": "stream",
     "text": [
      "wandb: Agent Starting Run: vuca0e26 with config:\n",
      "wandb: \tdropout_rate: 0.3\n",
      "wandb: \tlayer_1_activation: relu\n",
      "wandb: \tlayer_1_size: 128\n",
      "wandb: \tlearning_rate: 0.001\n",
      "wandb: \toptimizer: rmsprop\n",
      "wandb: WARNING Ignored wandb.init() arg project when running a sweep\n"
     ]
    },
    {
     "data": {
      "text/html": [
       "\n",
       "                Tracking run with wandb version 0.11.0<br/>\n",
       "                Syncing run <strong style=\"color:#cdcd00\">floral-sweep-27</strong> to <a href=\"https://wandb.ai\" target=\"_blank\">Weights & Biases</a> <a href=\"https://docs.wandb.com/integrations/jupyter.html\" target=\"_blank\">(Documentation)</a>.<br/>\n",
       "                Project page: <a href=\"https://wandb.ai/jinseock/sweep-practice2\" target=\"_blank\">https://wandb.ai/jinseock/sweep-practice2</a><br/>\n",
       "                Sweep page: <a href=\"https://wandb.ai/jinseock/sweep-practice2/sweeps/l0r3ktxc\" target=\"_blank\">https://wandb.ai/jinseock/sweep-practice2/sweeps/l0r3ktxc</a><br/>\n",
       "Run page: <a href=\"https://wandb.ai/jinseock/sweep-practice2/runs/vuca0e26\" target=\"_blank\">https://wandb.ai/jinseock/sweep-practice2/runs/vuca0e26</a><br/>\n",
       "                Run data is saved locally in <code>/Users/jinseok/Jupyter/Study/Lecture/Machine-Learning Engineer/Code/wandb/run-20210721_225440-vuca0e26</code><br/><br/>\n",
       "            "
      ],
      "text/plain": [
       "<IPython.core.display.HTML object>"
      ]
     },
     "metadata": {},
     "output_type": "display_data"
    },
    {
     "name": "stdout",
     "output_type": "stream",
     "text": [
      "Epoch 1/5\n",
      "   3/1875 [..............................] - ETA: 47s - loss: 2.3990 - accuracy: 0.1597 WARNING:tensorflow:Callback method `on_train_batch_end` is slow compared to the batch time (batch time: 0.0014s vs `on_train_batch_end` time: 0.0082s). Check your callbacks.\n",
      "1875/1875 [==============================] - 2s 1ms/step - loss: 0.6939 - accuracy: 0.7554 - val_loss: 0.4496 - val_accuracy: 0.8409\n",
      "Epoch 2/5\n",
      "1875/1875 [==============================] - 2s 1ms/step - loss: 0.4415 - accuracy: 0.8422 - val_loss: 0.4186 - val_accuracy: 0.8574\n",
      "Epoch 3/5\n",
      "1875/1875 [==============================] - 2s 1ms/step - loss: 0.4057 - accuracy: 0.8569 - val_loss: 0.4130 - val_accuracy: 0.8605\n",
      "Epoch 4/5\n",
      "1875/1875 [==============================] - 2s 1ms/step - loss: 0.4040 - accuracy: 0.8609 - val_loss: 0.4410 - val_accuracy: 0.8540\n",
      "Epoch 5/5\n",
      "1875/1875 [==============================] - 2s 1ms/step - loss: 0.3951 - accuracy: 0.8655 - val_loss: 0.4322 - val_accuracy: 0.8675\n"
     ]
    },
    {
     "data": {
      "text/html": [
       "<br/>Waiting for W&B process to finish, PID 60974<br/>Program ended successfully."
      ],
      "text/plain": [
       "<IPython.core.display.HTML object>"
      ]
     },
     "metadata": {},
     "output_type": "display_data"
    },
    {
     "data": {
      "application/vnd.jupyter.widget-view+json": {
       "model_id": "88d665ad47ea4455b67bbd14d2badcb6",
       "version_major": 2,
       "version_minor": 0
      },
      "text/plain": [
       "VBox(children=(Label(value=' 1.14MB of 1.14MB uploaded (0.00MB deduped)\\r'), FloatProgress(value=1.0, max=1.0)…"
      ]
     },
     "metadata": {},
     "output_type": "display_data"
    },
    {
     "data": {
      "text/html": [
       "Find user logs for this run at: <code>/Users/jinseok/Jupyter/Study/Lecture/Machine-Learning Engineer/Code/wandb/run-20210721_225440-vuca0e26/logs/debug.log</code>"
      ],
      "text/plain": [
       "<IPython.core.display.HTML object>"
      ]
     },
     "metadata": {},
     "output_type": "display_data"
    },
    {
     "data": {
      "text/html": [
       "Find internal logs for this run at: <code>/Users/jinseok/Jupyter/Study/Lecture/Machine-Learning Engineer/Code/wandb/run-20210721_225440-vuca0e26/logs/debug-internal.log</code>"
      ],
      "text/plain": [
       "<IPython.core.display.HTML object>"
      ]
     },
     "metadata": {},
     "output_type": "display_data"
    },
    {
     "data": {
      "text/html": [
       "<h3>Run summary:</h3><br/><style>\n",
       "    table.wandb td:nth-child(1) { padding: 0 10px; text-align: right }\n",
       "    </style><table class=\"wandb\">\n",
       "<tr><td>epoch</td><td>4</td></tr><tr><td>loss</td><td>0.39804</td></tr><tr><td>accuracy</td><td>0.86597</td></tr><tr><td>val_loss</td><td>0.43216</td></tr><tr><td>val_accuracy</td><td>0.8675</td></tr><tr><td>_runtime</td><td>20</td></tr><tr><td>_timestamp</td><td>1626875700</td></tr><tr><td>_step</td><td>4</td></tr><tr><td>best_val_loss</td><td>0.41296</td></tr><tr><td>best_epoch</td><td>2</td></tr></table>"
      ],
      "text/plain": [
       "<IPython.core.display.HTML object>"
      ]
     },
     "metadata": {},
     "output_type": "display_data"
    },
    {
     "data": {
      "text/html": [
       "<h3>Run history:</h3><br/><style>\n",
       "    table.wandb td:nth-child(1) { padding: 0 10px; text-align: right }\n",
       "    </style><table class=\"wandb\">\n",
       "<tr><td>epoch</td><td>▁▃▅▆█</td></tr><tr><td>loss</td><td>█▃▂▁▁</td></tr><tr><td>accuracy</td><td>▁▆▇██</td></tr><tr><td>val_loss</td><td>█▂▁▆▅</td></tr><tr><td>val_accuracy</td><td>▁▅▆▄█</td></tr><tr><td>_runtime</td><td>▁▃▄▆█</td></tr><tr><td>_timestamp</td><td>▁▃▄▆█</td></tr><tr><td>_step</td><td>▁▃▅▆█</td></tr></table><br/>"
      ],
      "text/plain": [
       "<IPython.core.display.HTML object>"
      ]
     },
     "metadata": {},
     "output_type": "display_data"
    },
    {
     "data": {
      "text/html": [
       "Synced 6 W&B file(s), 181 media file(s), 0 artifact file(s) and 10 other file(s)"
      ],
      "text/plain": [
       "<IPython.core.display.HTML object>"
      ]
     },
     "metadata": {},
     "output_type": "display_data"
    },
    {
     "data": {
      "text/html": [
       "\n",
       "                    <br/>Synced <strong style=\"color:#cdcd00\">floral-sweep-27</strong>: <a href=\"https://wandb.ai/jinseock/sweep-practice2/runs/vuca0e26\" target=\"_blank\">https://wandb.ai/jinseock/sweep-practice2/runs/vuca0e26</a><br/>\n",
       "                "
      ],
      "text/plain": [
       "<IPython.core.display.HTML object>"
      ]
     },
     "metadata": {},
     "output_type": "display_data"
    },
    {
     "name": "stderr",
     "output_type": "stream",
     "text": [
      "wandb: Agent Starting Run: c0l0tfk0 with config:\n",
      "wandb: \tdropout_rate: 0.3\n",
      "wandb: \tlayer_1_activation: relu\n",
      "wandb: \tlayer_1_size: 32\n",
      "wandb: \tlearning_rate: 0.001\n",
      "wandb: \toptimizer: adam\n",
      "wandb: WARNING Ignored wandb.init() arg project when running a sweep\n"
     ]
    },
    {
     "data": {
      "text/html": [
       "\n",
       "                Tracking run with wandb version 0.11.0<br/>\n",
       "                Syncing run <strong style=\"color:#cdcd00\">sleek-sweep-28</strong> to <a href=\"https://wandb.ai\" target=\"_blank\">Weights & Biases</a> <a href=\"https://docs.wandb.com/integrations/jupyter.html\" target=\"_blank\">(Documentation)</a>.<br/>\n",
       "                Project page: <a href=\"https://wandb.ai/jinseock/sweep-practice2\" target=\"_blank\">https://wandb.ai/jinseock/sweep-practice2</a><br/>\n",
       "                Sweep page: <a href=\"https://wandb.ai/jinseock/sweep-practice2/sweeps/l0r3ktxc\" target=\"_blank\">https://wandb.ai/jinseock/sweep-practice2/sweeps/l0r3ktxc</a><br/>\n",
       "Run page: <a href=\"https://wandb.ai/jinseock/sweep-practice2/runs/c0l0tfk0\" target=\"_blank\">https://wandb.ai/jinseock/sweep-practice2/runs/c0l0tfk0</a><br/>\n",
       "                Run data is saved locally in <code>/Users/jinseok/Jupyter/Study/Lecture/Machine-Learning Engineer/Code/wandb/run-20210721_225505-c0l0tfk0</code><br/><br/>\n",
       "            "
      ],
      "text/plain": [
       "<IPython.core.display.HTML object>"
      ]
     },
     "metadata": {},
     "output_type": "display_data"
    },
    {
     "name": "stdout",
     "output_type": "stream",
     "text": [
      "Epoch 1/5\n",
      "   1/1875 [..............................] - ETA: 7:57 - loss: 2.4932 - accuracy: 0.0312WARNING:tensorflow:Callback method `on_train_batch_end` is slow compared to the batch time (batch time: 0.0011s vs `on_train_batch_end` time: 0.0065s). Check your callbacks.\n",
      "1875/1875 [==============================] - 2s 774us/step - loss: 0.9117 - accuracy: 0.6885 - val_loss: 0.4755 - val_accuracy: 0.8315\n",
      "Epoch 2/5\n",
      "1875/1875 [==============================] - 2s 818us/step - loss: 0.5287 - accuracy: 0.8140 - val_loss: 0.4461 - val_accuracy: 0.8420\n",
      "Epoch 3/5\n",
      "1875/1875 [==============================] - 2s 818us/step - loss: 0.4802 - accuracy: 0.8303 - val_loss: 0.4331 - val_accuracy: 0.8447\n",
      "Epoch 4/5\n",
      "1875/1875 [==============================] - 2s 811us/step - loss: 0.4626 - accuracy: 0.8337 - val_loss: 0.4132 - val_accuracy: 0.8493\n",
      "Epoch 5/5\n",
      "1875/1875 [==============================] - 2s 825us/step - loss: 0.4471 - accuracy: 0.8388 - val_loss: 0.4087 - val_accuracy: 0.8523\n"
     ]
    },
    {
     "data": {
      "text/html": [
       "<br/>Waiting for W&B process to finish, PID 60995<br/>Program ended successfully."
      ],
      "text/plain": [
       "<IPython.core.display.HTML object>"
      ]
     },
     "metadata": {},
     "output_type": "display_data"
    },
    {
     "data": {
      "application/vnd.jupyter.widget-view+json": {
       "model_id": "261d172afcb4487088d04d5ad63cf6ac",
       "version_major": 2,
       "version_minor": 0
      },
      "text/plain": [
       "VBox(children=(Label(value=' 0.60MB of 0.60MB uploaded (0.00MB deduped)\\r'), FloatProgress(value=1.0, max=1.0)…"
      ]
     },
     "metadata": {},
     "output_type": "display_data"
    },
    {
     "data": {
      "text/html": [
       "Find user logs for this run at: <code>/Users/jinseok/Jupyter/Study/Lecture/Machine-Learning Engineer/Code/wandb/run-20210721_225505-c0l0tfk0/logs/debug.log</code>"
      ],
      "text/plain": [
       "<IPython.core.display.HTML object>"
      ]
     },
     "metadata": {},
     "output_type": "display_data"
    },
    {
     "data": {
      "text/html": [
       "Find internal logs for this run at: <code>/Users/jinseok/Jupyter/Study/Lecture/Machine-Learning Engineer/Code/wandb/run-20210721_225505-c0l0tfk0/logs/debug-internal.log</code>"
      ],
      "text/plain": [
       "<IPython.core.display.HTML object>"
      ]
     },
     "metadata": {},
     "output_type": "display_data"
    },
    {
     "data": {
      "text/html": [
       "<h3>Run summary:</h3><br/><style>\n",
       "    table.wandb td:nth-child(1) { padding: 0 10px; text-align: right }\n",
       "    </style><table class=\"wandb\">\n",
       "<tr><td>epoch</td><td>4</td></tr><tr><td>loss</td><td>0.44287</td></tr><tr><td>accuracy</td><td>0.83952</td></tr><tr><td>val_loss</td><td>0.40868</td></tr><tr><td>val_accuracy</td><td>0.8523</td></tr><tr><td>_runtime</td><td>17</td></tr><tr><td>_timestamp</td><td>1626875722</td></tr><tr><td>_step</td><td>4</td></tr><tr><td>best_val_loss</td><td>0.40868</td></tr><tr><td>best_epoch</td><td>4</td></tr></table>"
      ],
      "text/plain": [
       "<IPython.core.display.HTML object>"
      ]
     },
     "metadata": {},
     "output_type": "display_data"
    },
    {
     "data": {
      "text/html": [
       "<h3>Run history:</h3><br/><style>\n",
       "    table.wandb td:nth-child(1) { padding: 0 10px; text-align: right }\n",
       "    </style><table class=\"wandb\">\n",
       "<tr><td>epoch</td><td>▁▃▅▆█</td></tr><tr><td>loss</td><td>█▃▂▁▁</td></tr><tr><td>accuracy</td><td>▁▆▇██</td></tr><tr><td>val_loss</td><td>█▅▄▁▁</td></tr><tr><td>val_accuracy</td><td>▁▅▅▇█</td></tr><tr><td>_runtime</td><td>▁▃▅▆█</td></tr><tr><td>_timestamp</td><td>▁▃▅▆█</td></tr><tr><td>_step</td><td>▁▃▅▆█</td></tr></table><br/>"
      ],
      "text/plain": [
       "<IPython.core.display.HTML object>"
      ]
     },
     "metadata": {},
     "output_type": "display_data"
    },
    {
     "data": {
      "text/html": [
       "Synced 6 W&B file(s), 181 media file(s), 0 artifact file(s) and 10 other file(s)"
      ],
      "text/plain": [
       "<IPython.core.display.HTML object>"
      ]
     },
     "metadata": {},
     "output_type": "display_data"
    },
    {
     "data": {
      "text/html": [
       "\n",
       "                    <br/>Synced <strong style=\"color:#cdcd00\">sleek-sweep-28</strong>: <a href=\"https://wandb.ai/jinseock/sweep-practice2/runs/c0l0tfk0\" target=\"_blank\">https://wandb.ai/jinseock/sweep-practice2/runs/c0l0tfk0</a><br/>\n",
       "                "
      ],
      "text/plain": [
       "<IPython.core.display.HTML object>"
      ]
     },
     "metadata": {},
     "output_type": "display_data"
    },
    {
     "name": "stderr",
     "output_type": "stream",
     "text": [
      "wandb: Agent Starting Run: y5eoapca with config:\n",
      "wandb: \tdropout_rate: 0.3\n",
      "wandb: \tlayer_1_activation: relu\n",
      "wandb: \tlayer_1_size: 32\n",
      "wandb: \tlearning_rate: 0.05\n",
      "wandb: \toptimizer: adam\n",
      "wandb: WARNING Ignored wandb.init() arg project when running a sweep\n"
     ]
    },
    {
     "data": {
      "text/html": [
       "\n",
       "                Tracking run with wandb version 0.11.0<br/>\n",
       "                Syncing run <strong style=\"color:#cdcd00\">wandering-sweep-29</strong> to <a href=\"https://wandb.ai\" target=\"_blank\">Weights & Biases</a> <a href=\"https://docs.wandb.com/integrations/jupyter.html\" target=\"_blank\">(Documentation)</a>.<br/>\n",
       "                Project page: <a href=\"https://wandb.ai/jinseock/sweep-practice2\" target=\"_blank\">https://wandb.ai/jinseock/sweep-practice2</a><br/>\n",
       "                Sweep page: <a href=\"https://wandb.ai/jinseock/sweep-practice2/sweeps/l0r3ktxc\" target=\"_blank\">https://wandb.ai/jinseock/sweep-practice2/sweeps/l0r3ktxc</a><br/>\n",
       "Run page: <a href=\"https://wandb.ai/jinseock/sweep-practice2/runs/y5eoapca\" target=\"_blank\">https://wandb.ai/jinseock/sweep-practice2/runs/y5eoapca</a><br/>\n",
       "                Run data is saved locally in <code>/Users/jinseok/Jupyter/Study/Lecture/Machine-Learning Engineer/Code/wandb/run-20210721_225527-y5eoapca</code><br/><br/>\n",
       "            "
      ],
      "text/plain": [
       "<IPython.core.display.HTML object>"
      ]
     },
     "metadata": {},
     "output_type": "display_data"
    },
    {
     "name": "stdout",
     "output_type": "stream",
     "text": [
      "Epoch 1/5\n",
      "   3/1875 [..............................] - ETA: 1:03 - loss: 4.8885 - accuracy: 0.1632WARNING:tensorflow:Callback method `on_train_batch_end` is slow compared to the batch time (batch time: 0.0010s vs `on_train_batch_end` time: 0.0110s). Check your callbacks.\n",
      "1875/1875 [==============================] - 2s 900us/step - loss: 1.9181 - accuracy: 0.2940 - val_loss: 2.1634 - val_accuracy: 0.1694\n",
      "Epoch 2/5\n",
      "1875/1875 [==============================] - 1s 800us/step - loss: 2.1348 - accuracy: 0.1799 - val_loss: 2.1182 - val_accuracy: 0.1746\n",
      "Epoch 3/5\n",
      "1875/1875 [==============================] - 1s 786us/step - loss: 2.2041 - accuracy: 0.1495 - val_loss: 2.1433 - val_accuracy: 0.1634\n",
      "Epoch 4/5\n",
      "1875/1875 [==============================] - 1s 798us/step - loss: 2.1687 - accuracy: 0.1605 - val_loss: 2.2089 - val_accuracy: 0.1896\n",
      "Epoch 5/5\n",
      "1875/1875 [==============================] - 2s 810us/step - loss: 2.1858 - accuracy: 0.1559 - val_loss: 2.1077 - val_accuracy: 0.1788\n"
     ]
    },
    {
     "data": {
      "text/html": [
       "<br/>Waiting for W&B process to finish, PID 61017<br/>Program ended successfully."
      ],
      "text/plain": [
       "<IPython.core.display.HTML object>"
      ]
     },
     "metadata": {},
     "output_type": "display_data"
    },
    {
     "data": {
      "application/vnd.jupyter.widget-view+json": {
       "model_id": "6973b580c4ab4522a50fee84ca56bd8e",
       "version_major": 2,
       "version_minor": 0
      },
      "text/plain": [
       "VBox(children=(Label(value=' 0.60MB of 0.60MB uploaded (0.00MB deduped)\\r'), FloatProgress(value=1.0, max=1.0)…"
      ]
     },
     "metadata": {},
     "output_type": "display_data"
    },
    {
     "data": {
      "text/html": [
       "Find user logs for this run at: <code>/Users/jinseok/Jupyter/Study/Lecture/Machine-Learning Engineer/Code/wandb/run-20210721_225527-y5eoapca/logs/debug.log</code>"
      ],
      "text/plain": [
       "<IPython.core.display.HTML object>"
      ]
     },
     "metadata": {},
     "output_type": "display_data"
    },
    {
     "data": {
      "text/html": [
       "Find internal logs for this run at: <code>/Users/jinseok/Jupyter/Study/Lecture/Machine-Learning Engineer/Code/wandb/run-20210721_225527-y5eoapca/logs/debug-internal.log</code>"
      ],
      "text/plain": [
       "<IPython.core.display.HTML object>"
      ]
     },
     "metadata": {},
     "output_type": "display_data"
    },
    {
     "data": {
      "text/html": [
       "<h3>Run summary:</h3><br/><style>\n",
       "    table.wandb td:nth-child(1) { padding: 0 10px; text-align: right }\n",
       "    </style><table class=\"wandb\">\n",
       "<tr><td>epoch</td><td>4</td></tr><tr><td>loss</td><td>2.17778</td></tr><tr><td>accuracy</td><td>0.15565</td></tr><tr><td>val_loss</td><td>2.1077</td></tr><tr><td>val_accuracy</td><td>0.1788</td></tr><tr><td>_runtime</td><td>17</td></tr><tr><td>_timestamp</td><td>1626875744</td></tr><tr><td>_step</td><td>4</td></tr><tr><td>best_val_loss</td><td>2.1077</td></tr><tr><td>best_epoch</td><td>4</td></tr></table>"
      ],
      "text/plain": [
       "<IPython.core.display.HTML object>"
      ]
     },
     "metadata": {},
     "output_type": "display_data"
    },
    {
     "data": {
      "text/html": [
       "<h3>Run history:</h3><br/><style>\n",
       "    table.wandb td:nth-child(1) { padding: 0 10px; text-align: right }\n",
       "    </style><table class=\"wandb\">\n",
       "<tr><td>epoch</td><td>▁▃▅▆█</td></tr><tr><td>loss</td><td>▁▇██▇</td></tr><tr><td>accuracy</td><td>█▂▁▁▁</td></tr><tr><td>val_loss</td><td>▅▂▃█▁</td></tr><tr><td>val_accuracy</td><td>▃▄▁█▅</td></tr><tr><td>_runtime</td><td>▁▂▅▆█</td></tr><tr><td>_timestamp</td><td>▁▂▅▆█</td></tr><tr><td>_step</td><td>▁▃▅▆█</td></tr></table><br/>"
      ],
      "text/plain": [
       "<IPython.core.display.HTML object>"
      ]
     },
     "metadata": {},
     "output_type": "display_data"
    },
    {
     "data": {
      "text/html": [
       "Synced 6 W&B file(s), 181 media file(s), 0 artifact file(s) and 10 other file(s)"
      ],
      "text/plain": [
       "<IPython.core.display.HTML object>"
      ]
     },
     "metadata": {},
     "output_type": "display_data"
    },
    {
     "data": {
      "text/html": [
       "\n",
       "                    <br/>Synced <strong style=\"color:#cdcd00\">wandering-sweep-29</strong>: <a href=\"https://wandb.ai/jinseock/sweep-practice2/runs/y5eoapca\" target=\"_blank\">https://wandb.ai/jinseock/sweep-practice2/runs/y5eoapca</a><br/>\n",
       "                "
      ],
      "text/plain": [
       "<IPython.core.display.HTML object>"
      ]
     },
     "metadata": {},
     "output_type": "display_data"
    },
    {
     "name": "stderr",
     "output_type": "stream",
     "text": [
      "wandb: Agent Starting Run: xcbm4htg with config:\n",
      "wandb: \tdropout_rate: 0.4\n",
      "wandb: \tlayer_1_activation: relu\n",
      "wandb: \tlayer_1_size: 64\n",
      "wandb: \tlearning_rate: 0.001\n",
      "wandb: \toptimizer: rmsprop\n",
      "wandb: WARNING Ignored wandb.init() arg project when running a sweep\n"
     ]
    },
    {
     "data": {
      "text/html": [
       "\n",
       "                Tracking run with wandb version 0.11.0<br/>\n",
       "                Syncing run <strong style=\"color:#cdcd00\">graceful-sweep-30</strong> to <a href=\"https://wandb.ai\" target=\"_blank\">Weights & Biases</a> <a href=\"https://docs.wandb.com/integrations/jupyter.html\" target=\"_blank\">(Documentation)</a>.<br/>\n",
       "                Project page: <a href=\"https://wandb.ai/jinseock/sweep-practice2\" target=\"_blank\">https://wandb.ai/jinseock/sweep-practice2</a><br/>\n",
       "                Sweep page: <a href=\"https://wandb.ai/jinseock/sweep-practice2/sweeps/l0r3ktxc\" target=\"_blank\">https://wandb.ai/jinseock/sweep-practice2/sweeps/l0r3ktxc</a><br/>\n",
       "Run page: <a href=\"https://wandb.ai/jinseock/sweep-practice2/runs/xcbm4htg\" target=\"_blank\">https://wandb.ai/jinseock/sweep-practice2/runs/xcbm4htg</a><br/>\n",
       "                Run data is saved locally in <code>/Users/jinseok/Jupyter/Study/Lecture/Machine-Learning Engineer/Code/wandb/run-20210721_225549-xcbm4htg</code><br/><br/>\n",
       "            "
      ],
      "text/plain": [
       "<IPython.core.display.HTML object>"
      ]
     },
     "metadata": {},
     "output_type": "display_data"
    },
    {
     "name": "stdout",
     "output_type": "stream",
     "text": [
      "Epoch 1/5\n",
      "   3/1875 [..............................] - ETA: 1:15 - loss: 2.4243 - accuracy: 0.1163WARNING:tensorflow:Callback method `on_train_batch_end` is slow compared to the batch time (batch time: 0.0013s vs `on_train_batch_end` time: 0.0132s). Check your callbacks.\n",
      "1875/1875 [==============================] - 2s 904us/step - loss: 0.8177 - accuracy: 0.7193 - val_loss: 0.4794 - val_accuracy: 0.8329\n",
      "Epoch 2/5\n",
      "1875/1875 [==============================] - 2s 906us/step - loss: 0.4947 - accuracy: 0.8255 - val_loss: 0.4558 - val_accuracy: 0.8483\n",
      "Epoch 3/5\n",
      "1875/1875 [==============================] - 2s 923us/step - loss: 0.4630 - accuracy: 0.8399 - val_loss: 0.4290 - val_accuracy: 0.8493\n",
      "Epoch 4/5\n",
      "1875/1875 [==============================] - 2s 902us/step - loss: 0.4581 - accuracy: 0.8421 - val_loss: 0.4239 - val_accuracy: 0.8583\n",
      "Epoch 5/5\n",
      "1875/1875 [==============================] - 2s 924us/step - loss: 0.4620 - accuracy: 0.8460 - val_loss: 0.4507 - val_accuracy: 0.8541\n"
     ]
    },
    {
     "data": {
      "text/html": [
       "<br/>Waiting for W&B process to finish, PID 61034<br/>Program ended successfully."
      ],
      "text/plain": [
       "<IPython.core.display.HTML object>"
      ]
     },
     "metadata": {},
     "output_type": "display_data"
    },
    {
     "data": {
      "application/vnd.jupyter.widget-view+json": {
       "model_id": "1e533d77b0504f5997c87c92c0e054a2",
       "version_major": 2,
       "version_minor": 0
      },
      "text/plain": [
       "VBox(children=(Label(value=' 0.75MB of 0.75MB uploaded (0.00MB deduped)\\r'), FloatProgress(value=1.0, max=1.0)…"
      ]
     },
     "metadata": {},
     "output_type": "display_data"
    },
    {
     "data": {
      "text/html": [
       "Find user logs for this run at: <code>/Users/jinseok/Jupyter/Study/Lecture/Machine-Learning Engineer/Code/wandb/run-20210721_225549-xcbm4htg/logs/debug.log</code>"
      ],
      "text/plain": [
       "<IPython.core.display.HTML object>"
      ]
     },
     "metadata": {},
     "output_type": "display_data"
    },
    {
     "data": {
      "text/html": [
       "Find internal logs for this run at: <code>/Users/jinseok/Jupyter/Study/Lecture/Machine-Learning Engineer/Code/wandb/run-20210721_225549-xcbm4htg/logs/debug-internal.log</code>"
      ],
      "text/plain": [
       "<IPython.core.display.HTML object>"
      ]
     },
     "metadata": {},
     "output_type": "display_data"
    },
    {
     "data": {
      "text/html": [
       "<h3>Run summary:</h3><br/><style>\n",
       "    table.wandb td:nth-child(1) { padding: 0 10px; text-align: right }\n",
       "    </style><table class=\"wandb\">\n",
       "<tr><td>epoch</td><td>4</td></tr><tr><td>loss</td><td>0.45888</td></tr><tr><td>accuracy</td><td>0.8478</td></tr><tr><td>val_loss</td><td>0.45074</td></tr><tr><td>val_accuracy</td><td>0.8541</td></tr><tr><td>_runtime</td><td>18</td></tr><tr><td>_timestamp</td><td>1626875767</td></tr><tr><td>_step</td><td>4</td></tr><tr><td>best_val_loss</td><td>0.42392</td></tr><tr><td>best_epoch</td><td>3</td></tr></table>"
      ],
      "text/plain": [
       "<IPython.core.display.HTML object>"
      ]
     },
     "metadata": {},
     "output_type": "display_data"
    },
    {
     "data": {
      "text/html": [
       "<h3>Run history:</h3><br/><style>\n",
       "    table.wandb td:nth-child(1) { padding: 0 10px; text-align: right }\n",
       "    </style><table class=\"wandb\">\n",
       "<tr><td>epoch</td><td>▁▃▅▆█</td></tr><tr><td>loss</td><td>█▂▁▁▁</td></tr><tr><td>accuracy</td><td>▁▆▇▇█</td></tr><tr><td>val_loss</td><td>█▅▂▁▄</td></tr><tr><td>val_accuracy</td><td>▁▅▆█▇</td></tr><tr><td>_runtime</td><td>▁▃▄▆█</td></tr><tr><td>_timestamp</td><td>▁▃▄▆█</td></tr><tr><td>_step</td><td>▁▃▅▆█</td></tr></table><br/>"
      ],
      "text/plain": [
       "<IPython.core.display.HTML object>"
      ]
     },
     "metadata": {},
     "output_type": "display_data"
    },
    {
     "data": {
      "text/html": [
       "Synced 6 W&B file(s), 181 media file(s), 0 artifact file(s) and 10 other file(s)"
      ],
      "text/plain": [
       "<IPython.core.display.HTML object>"
      ]
     },
     "metadata": {},
     "output_type": "display_data"
    },
    {
     "data": {
      "text/html": [
       "\n",
       "                    <br/>Synced <strong style=\"color:#cdcd00\">graceful-sweep-30</strong>: <a href=\"https://wandb.ai/jinseock/sweep-practice2/runs/xcbm4htg\" target=\"_blank\">https://wandb.ai/jinseock/sweep-practice2/runs/xcbm4htg</a><br/>\n",
       "                "
      ],
      "text/plain": [
       "<IPython.core.display.HTML object>"
      ]
     },
     "metadata": {},
     "output_type": "display_data"
    },
    {
     "name": "stderr",
     "output_type": "stream",
     "text": [
      "wandb: Agent Starting Run: bmvnz2bl with config:\n",
      "wandb: \tdropout_rate: 0.2\n",
      "wandb: \tlayer_1_activation: relu\n",
      "wandb: \tlayer_1_size: 64\n",
      "wandb: \tlearning_rate: 0.001\n",
      "wandb: \toptimizer: adam\n",
      "wandb: WARNING Ignored wandb.init() arg project when running a sweep\n"
     ]
    },
    {
     "data": {
      "text/html": [
       "\n",
       "                Tracking run with wandb version 0.11.0<br/>\n",
       "                Syncing run <strong style=\"color:#cdcd00\">pleasant-sweep-31</strong> to <a href=\"https://wandb.ai\" target=\"_blank\">Weights & Biases</a> <a href=\"https://docs.wandb.com/integrations/jupyter.html\" target=\"_blank\">(Documentation)</a>.<br/>\n",
       "                Project page: <a href=\"https://wandb.ai/jinseock/sweep-practice2\" target=\"_blank\">https://wandb.ai/jinseock/sweep-practice2</a><br/>\n",
       "                Sweep page: <a href=\"https://wandb.ai/jinseock/sweep-practice2/sweeps/l0r3ktxc\" target=\"_blank\">https://wandb.ai/jinseock/sweep-practice2/sweeps/l0r3ktxc</a><br/>\n",
       "Run page: <a href=\"https://wandb.ai/jinseock/sweep-practice2/runs/bmvnz2bl\" target=\"_blank\">https://wandb.ai/jinseock/sweep-practice2/runs/bmvnz2bl</a><br/>\n",
       "                Run data is saved locally in <code>/Users/jinseok/Jupyter/Study/Lecture/Machine-Learning Engineer/Code/wandb/run-20210721_225612-bmvnz2bl</code><br/><br/>\n",
       "            "
      ],
      "text/plain": [
       "<IPython.core.display.HTML object>"
      ]
     },
     "metadata": {},
     "output_type": "display_data"
    },
    {
     "name": "stdout",
     "output_type": "stream",
     "text": [
      "Epoch 1/5\n",
      "   3/1875 [..............................] - ETA: 1:10 - loss: 2.2817 - accuracy: 0.2101WARNING:tensorflow:Callback method `on_train_batch_end` is slow compared to the batch time (batch time: 0.0013s vs `on_train_batch_end` time: 0.0122s). Check your callbacks.\n",
      "1875/1875 [==============================] - 2s 879us/step - loss: 0.7447 - accuracy: 0.7403 - val_loss: 0.4603 - val_accuracy: 0.8317\n",
      "Epoch 2/5\n",
      "1875/1875 [==============================] - 2s 936us/step - loss: 0.4385 - accuracy: 0.8416 - val_loss: 0.4082 - val_accuracy: 0.8562\n",
      "Epoch 3/5\n",
      "1875/1875 [==============================] - 2s 1ms/step - loss: 0.3959 - accuracy: 0.8561 - val_loss: 0.3852 - val_accuracy: 0.8590\n",
      "Epoch 4/5\n",
      "1875/1875 [==============================] - 2s 1ms/step - loss: 0.3717 - accuracy: 0.8645 - val_loss: 0.3678 - val_accuracy: 0.8697\n",
      "Epoch 5/5\n",
      "1875/1875 [==============================] - 2s 1ms/step - loss: 0.3634 - accuracy: 0.8668 - val_loss: 0.3825 - val_accuracy: 0.8617\n"
     ]
    },
    {
     "data": {
      "text/html": [
       "<br/>Waiting for W&B process to finish, PID 61053<br/>Program ended successfully."
      ],
      "text/plain": [
       "<IPython.core.display.HTML object>"
      ]
     },
     "metadata": {},
     "output_type": "display_data"
    },
    {
     "data": {
      "application/vnd.jupyter.widget-view+json": {
       "model_id": "d384288f8b2747f68088f2732b669872",
       "version_major": 2,
       "version_minor": 0
      },
      "text/plain": [
       "VBox(children=(Label(value=' 0.89MB of 0.89MB uploaded (0.00MB deduped)\\r'), FloatProgress(value=0.99277072961…"
      ]
     },
     "metadata": {},
     "output_type": "display_data"
    },
    {
     "data": {
      "text/html": [
       "Find user logs for this run at: <code>/Users/jinseok/Jupyter/Study/Lecture/Machine-Learning Engineer/Code/wandb/run-20210721_225612-bmvnz2bl/logs/debug.log</code>"
      ],
      "text/plain": [
       "<IPython.core.display.HTML object>"
      ]
     },
     "metadata": {},
     "output_type": "display_data"
    },
    {
     "data": {
      "text/html": [
       "Find internal logs for this run at: <code>/Users/jinseok/Jupyter/Study/Lecture/Machine-Learning Engineer/Code/wandb/run-20210721_225612-bmvnz2bl/logs/debug-internal.log</code>"
      ],
      "text/plain": [
       "<IPython.core.display.HTML object>"
      ]
     },
     "metadata": {},
     "output_type": "display_data"
    },
    {
     "data": {
      "text/html": [
       "<h3>Run summary:</h3><br/><style>\n",
       "    table.wandb td:nth-child(1) { padding: 0 10px; text-align: right }\n",
       "    </style><table class=\"wandb\">\n",
       "<tr><td>epoch</td><td>4</td></tr><tr><td>loss</td><td>0.36088</td></tr><tr><td>accuracy</td><td>0.86725</td></tr><tr><td>val_loss</td><td>0.38254</td></tr><tr><td>val_accuracy</td><td>0.8617</td></tr><tr><td>_runtime</td><td>19</td></tr><tr><td>_timestamp</td><td>1626875791</td></tr><tr><td>_step</td><td>4</td></tr><tr><td>best_val_loss</td><td>0.36775</td></tr><tr><td>best_epoch</td><td>3</td></tr></table>"
      ],
      "text/plain": [
       "<IPython.core.display.HTML object>"
      ]
     },
     "metadata": {},
     "output_type": "display_data"
    },
    {
     "data": {
      "text/html": [
       "<h3>Run history:</h3><br/><style>\n",
       "    table.wandb td:nth-child(1) { padding: 0 10px; text-align: right }\n",
       "    </style><table class=\"wandb\">\n",
       "<tr><td>epoch</td><td>▁▃▅▆█</td></tr><tr><td>loss</td><td>█▃▂▁▁</td></tr><tr><td>accuracy</td><td>▁▆▇██</td></tr><tr><td>val_loss</td><td>█▄▂▁▂</td></tr><tr><td>val_accuracy</td><td>▁▆▆█▇</td></tr><tr><td>_runtime</td><td>▁▃▅▆█</td></tr><tr><td>_timestamp</td><td>▁▃▅▆█</td></tr><tr><td>_step</td><td>▁▃▅▆█</td></tr></table><br/>"
      ],
      "text/plain": [
       "<IPython.core.display.HTML object>"
      ]
     },
     "metadata": {},
     "output_type": "display_data"
    },
    {
     "data": {
      "text/html": [
       "Synced 6 W&B file(s), 181 media file(s), 0 artifact file(s) and 10 other file(s)"
      ],
      "text/plain": [
       "<IPython.core.display.HTML object>"
      ]
     },
     "metadata": {},
     "output_type": "display_data"
    },
    {
     "data": {
      "text/html": [
       "\n",
       "                    <br/>Synced <strong style=\"color:#cdcd00\">pleasant-sweep-31</strong>: <a href=\"https://wandb.ai/jinseock/sweep-practice2/runs/bmvnz2bl\" target=\"_blank\">https://wandb.ai/jinseock/sweep-practice2/runs/bmvnz2bl</a><br/>\n",
       "                "
      ],
      "text/plain": [
       "<IPython.core.display.HTML object>"
      ]
     },
     "metadata": {},
     "output_type": "display_data"
    },
    {
     "name": "stderr",
     "output_type": "stream",
     "text": [
      "wandb: Agent Starting Run: jbylfiow with config:\n",
      "wandb: \tdropout_rate: 0.2\n",
      "wandb: \tlayer_1_activation: sigmoid\n",
      "wandb: \tlayer_1_size: 128\n",
      "wandb: \tlearning_rate: 0.001\n",
      "wandb: \toptimizer: rmsprop\n",
      "wandb: WARNING Ignored wandb.init() arg project when running a sweep\n"
     ]
    },
    {
     "data": {
      "text/html": [
       "\n",
       "                Tracking run with wandb version 0.11.0<br/>\n",
       "                Syncing run <strong style=\"color:#cdcd00\">ethereal-sweep-32</strong> to <a href=\"https://wandb.ai\" target=\"_blank\">Weights & Biases</a> <a href=\"https://docs.wandb.com/integrations/jupyter.html\" target=\"_blank\">(Documentation)</a>.<br/>\n",
       "                Project page: <a href=\"https://wandb.ai/jinseock/sweep-practice2\" target=\"_blank\">https://wandb.ai/jinseock/sweep-practice2</a><br/>\n",
       "                Sweep page: <a href=\"https://wandb.ai/jinseock/sweep-practice2/sweeps/l0r3ktxc\" target=\"_blank\">https://wandb.ai/jinseock/sweep-practice2/sweeps/l0r3ktxc</a><br/>\n",
       "Run page: <a href=\"https://wandb.ai/jinseock/sweep-practice2/runs/jbylfiow\" target=\"_blank\">https://wandb.ai/jinseock/sweep-practice2/runs/jbylfiow</a><br/>\n",
       "                Run data is saved locally in <code>/Users/jinseok/Jupyter/Study/Lecture/Machine-Learning Engineer/Code/wandb/run-20210721_225637-jbylfiow</code><br/><br/>\n",
       "            "
      ],
      "text/plain": [
       "<IPython.core.display.HTML object>"
      ]
     },
     "metadata": {},
     "output_type": "display_data"
    },
    {
     "name": "stdout",
     "output_type": "stream",
     "text": [
      "Epoch 1/5\n",
      "   3/1875 [..............................] - ETA: 54s - loss: 2.5919 - accuracy: 0.0833  WARNING:tensorflow:Callback method `on_train_batch_end` is slow compared to the batch time (batch time: 0.0013s vs `on_train_batch_end` time: 0.0095s). Check your callbacks.\n",
      "1875/1875 [==============================] - 3s 2ms/step - loss: 0.7487 - accuracy: 0.7444 - val_loss: 0.4496 - val_accuracy: 0.8382\n",
      "Epoch 2/5\n",
      "1875/1875 [==============================] - 3s 2ms/step - loss: 0.4330 - accuracy: 0.8447 - val_loss: 0.4245 - val_accuracy: 0.8486\n",
      "Epoch 3/5\n",
      "1875/1875 [==============================] - 3s 2ms/step - loss: 0.3885 - accuracy: 0.8604 - val_loss: 0.4066 - val_accuracy: 0.8539\n",
      "Epoch 4/5\n",
      "1875/1875 [==============================] - 3s 2ms/step - loss: 0.3705 - accuracy: 0.8692 - val_loss: 0.3849 - val_accuracy: 0.8640\n",
      "Epoch 5/5\n",
      "1875/1875 [==============================] - 3s 2ms/step - loss: 0.3537 - accuracy: 0.8725 - val_loss: 0.3868 - val_accuracy: 0.8637\n"
     ]
    },
    {
     "data": {
      "text/html": [
       "<br/>Waiting for W&B process to finish, PID 61070<br/>Program ended successfully."
      ],
      "text/plain": [
       "<IPython.core.display.HTML object>"
      ]
     },
     "metadata": {},
     "output_type": "display_data"
    },
    {
     "data": {
      "application/vnd.jupyter.widget-view+json": {
       "model_id": "4a679f069ba44ce89788b29171897893",
       "version_major": 2,
       "version_minor": 0
      },
      "text/plain": [
       "VBox(children=(Label(value=' 1.13MB of 1.14MB uploaded (0.00MB deduped)\\r'), FloatProgress(value=0.99537151574…"
      ]
     },
     "metadata": {},
     "output_type": "display_data"
    },
    {
     "data": {
      "text/html": [
       "Find user logs for this run at: <code>/Users/jinseok/Jupyter/Study/Lecture/Machine-Learning Engineer/Code/wandb/run-20210721_225637-jbylfiow/logs/debug.log</code>"
      ],
      "text/plain": [
       "<IPython.core.display.HTML object>"
      ]
     },
     "metadata": {},
     "output_type": "display_data"
    },
    {
     "data": {
      "text/html": [
       "Find internal logs for this run at: <code>/Users/jinseok/Jupyter/Study/Lecture/Machine-Learning Engineer/Code/wandb/run-20210721_225637-jbylfiow/logs/debug-internal.log</code>"
      ],
      "text/plain": [
       "<IPython.core.display.HTML object>"
      ]
     },
     "metadata": {},
     "output_type": "display_data"
    },
    {
     "data": {
      "text/html": [
       "<h3>Run summary:</h3><br/><style>\n",
       "    table.wandb td:nth-child(1) { padding: 0 10px; text-align: right }\n",
       "    </style><table class=\"wandb\">\n",
       "<tr><td>epoch</td><td>4</td></tr><tr><td>loss</td><td>0.35616</td></tr><tr><td>accuracy</td><td>0.87287</td></tr><tr><td>val_loss</td><td>0.38683</td></tr><tr><td>val_accuracy</td><td>0.8637</td></tr><tr><td>_runtime</td><td>27</td></tr><tr><td>_timestamp</td><td>1626875824</td></tr><tr><td>_step</td><td>4</td></tr><tr><td>best_val_loss</td><td>0.38486</td></tr><tr><td>best_epoch</td><td>3</td></tr></table>"
      ],
      "text/plain": [
       "<IPython.core.display.HTML object>"
      ]
     },
     "metadata": {},
     "output_type": "display_data"
    },
    {
     "data": {
      "text/html": [
       "<h3>Run history:</h3><br/><style>\n",
       "    table.wandb td:nth-child(1) { padding: 0 10px; text-align: right }\n",
       "    </style><table class=\"wandb\">\n",
       "<tr><td>epoch</td><td>▁▃▅▆█</td></tr><tr><td>loss</td><td>█▃▂▁▁</td></tr><tr><td>accuracy</td><td>▁▆▇██</td></tr><tr><td>val_loss</td><td>█▅▃▁▁</td></tr><tr><td>val_accuracy</td><td>▁▄▅██</td></tr><tr><td>_runtime</td><td>▁▃▄▆█</td></tr><tr><td>_timestamp</td><td>▁▃▄▆█</td></tr><tr><td>_step</td><td>▁▃▅▆█</td></tr></table><br/>"
      ],
      "text/plain": [
       "<IPython.core.display.HTML object>"
      ]
     },
     "metadata": {},
     "output_type": "display_data"
    },
    {
     "data": {
      "text/html": [
       "Synced 6 W&B file(s), 181 media file(s), 0 artifact file(s) and 10 other file(s)"
      ],
      "text/plain": [
       "<IPython.core.display.HTML object>"
      ]
     },
     "metadata": {},
     "output_type": "display_data"
    },
    {
     "data": {
      "text/html": [
       "\n",
       "                    <br/>Synced <strong style=\"color:#cdcd00\">ethereal-sweep-32</strong>: <a href=\"https://wandb.ai/jinseock/sweep-practice2/runs/jbylfiow\" target=\"_blank\">https://wandb.ai/jinseock/sweep-practice2/runs/jbylfiow</a><br/>\n",
       "                "
      ],
      "text/plain": [
       "<IPython.core.display.HTML object>"
      ]
     },
     "metadata": {},
     "output_type": "display_data"
    },
    {
     "name": "stderr",
     "output_type": "stream",
     "text": [
      "wandb: Agent Starting Run: mz7gyxqx with config:\n",
      "wandb: \tdropout_rate: 0.3\n",
      "wandb: \tlayer_1_activation: sigmoid\n",
      "wandb: \tlayer_1_size: 128\n",
      "wandb: \tlearning_rate: 0.05\n",
      "wandb: \toptimizer: adam\n",
      "wandb: WARNING Ignored wandb.init() arg project when running a sweep\n"
     ]
    },
    {
     "data": {
      "text/html": [
       "\n",
       "                Tracking run with wandb version 0.11.0<br/>\n",
       "                Syncing run <strong style=\"color:#cdcd00\">effortless-sweep-33</strong> to <a href=\"https://wandb.ai\" target=\"_blank\">Weights & Biases</a> <a href=\"https://docs.wandb.com/integrations/jupyter.html\" target=\"_blank\">(Documentation)</a>.<br/>\n",
       "                Project page: <a href=\"https://wandb.ai/jinseock/sweep-practice2\" target=\"_blank\">https://wandb.ai/jinseock/sweep-practice2</a><br/>\n",
       "                Sweep page: <a href=\"https://wandb.ai/jinseock/sweep-practice2/sweeps/l0r3ktxc\" target=\"_blank\">https://wandb.ai/jinseock/sweep-practice2/sweeps/l0r3ktxc</a><br/>\n",
       "Run page: <a href=\"https://wandb.ai/jinseock/sweep-practice2/runs/mz7gyxqx\" target=\"_blank\">https://wandb.ai/jinseock/sweep-practice2/runs/mz7gyxqx</a><br/>\n",
       "                Run data is saved locally in <code>/Users/jinseok/Jupyter/Study/Lecture/Machine-Learning Engineer/Code/wandb/run-20210721_225709-mz7gyxqx</code><br/><br/>\n",
       "            "
      ],
      "text/plain": [
       "<IPython.core.display.HTML object>"
      ]
     },
     "metadata": {},
     "output_type": "display_data"
    },
    {
     "name": "stdout",
     "output_type": "stream",
     "text": [
      "Epoch 1/5\n",
      "   3/1875 [..............................] - ETA: 47s - loss: 2.8367 - accuracy: 0.1823 WARNING:tensorflow:Callback method `on_train_batch_end` is slow compared to the batch time (batch time: 0.0011s vs `on_train_batch_end` time: 0.0081s). Check your callbacks.\n",
      "1875/1875 [==============================] - 3s 1ms/step - loss: 1.0796 - accuracy: 0.6029 - val_loss: 0.8773 - val_accuracy: 0.6301\n",
      "Epoch 2/5\n",
      "1875/1875 [==============================] - 3s 1ms/step - loss: 1.0076 - accuracy: 0.6386 - val_loss: 0.7622 - val_accuracy: 0.6790\n",
      "Epoch 3/5\n",
      "1875/1875 [==============================] - 3s 1ms/step - loss: 0.9675 - accuracy: 0.6583 - val_loss: 0.7354 - val_accuracy: 0.7467\n",
      "Epoch 4/5\n",
      "1875/1875 [==============================] - 3s 1ms/step - loss: 0.9039 - accuracy: 0.6778 - val_loss: 0.8610 - val_accuracy: 0.6793\n",
      "Epoch 5/5\n",
      "1875/1875 [==============================] - 3s 2ms/step - loss: 0.8792 - accuracy: 0.6923 - val_loss: 0.7872 - val_accuracy: 0.6959\n"
     ]
    },
    {
     "data": {
      "text/html": [
       "<br/>Waiting for W&B process to finish, PID 61091<br/>Program ended successfully."
      ],
      "text/plain": [
       "<IPython.core.display.HTML object>"
      ]
     },
     "metadata": {},
     "output_type": "display_data"
    },
    {
     "data": {
      "application/vnd.jupyter.widget-view+json": {
       "model_id": "3c6b2f6a22954500bf250f306c4589bd",
       "version_major": 2,
       "version_minor": 0
      },
      "text/plain": [
       "VBox(children=(Label(value=' 1.47MB of 1.48MB uploaded (0.00MB deduped)\\r'), FloatProgress(value=0.99930088545…"
      ]
     },
     "metadata": {},
     "output_type": "display_data"
    },
    {
     "data": {
      "text/html": [
       "Find user logs for this run at: <code>/Users/jinseok/Jupyter/Study/Lecture/Machine-Learning Engineer/Code/wandb/run-20210721_225709-mz7gyxqx/logs/debug.log</code>"
      ],
      "text/plain": [
       "<IPython.core.display.HTML object>"
      ]
     },
     "metadata": {},
     "output_type": "display_data"
    },
    {
     "data": {
      "text/html": [
       "Find internal logs for this run at: <code>/Users/jinseok/Jupyter/Study/Lecture/Machine-Learning Engineer/Code/wandb/run-20210721_225709-mz7gyxqx/logs/debug-internal.log</code>"
      ],
      "text/plain": [
       "<IPython.core.display.HTML object>"
      ]
     },
     "metadata": {},
     "output_type": "display_data"
    },
    {
     "data": {
      "text/html": [
       "<h3>Run summary:</h3><br/><style>\n",
       "    table.wandb td:nth-child(1) { padding: 0 10px; text-align: right }\n",
       "    </style><table class=\"wandb\">\n",
       "<tr><td>epoch</td><td>4</td></tr><tr><td>loss</td><td>0.89189</td></tr><tr><td>accuracy</td><td>0.69065</td></tr><tr><td>val_loss</td><td>0.78717</td></tr><tr><td>val_accuracy</td><td>0.6959</td></tr><tr><td>_runtime</td><td>26</td></tr><tr><td>_timestamp</td><td>1626875855</td></tr><tr><td>_step</td><td>4</td></tr><tr><td>best_val_loss</td><td>0.73539</td></tr><tr><td>best_epoch</td><td>2</td></tr></table>"
      ],
      "text/plain": [
       "<IPython.core.display.HTML object>"
      ]
     },
     "metadata": {},
     "output_type": "display_data"
    },
    {
     "data": {
      "text/html": [
       "<h3>Run history:</h3><br/><style>\n",
       "    table.wandb td:nth-child(1) { padding: 0 10px; text-align: right }\n",
       "    </style><table class=\"wandb\">\n",
       "<tr><td>epoch</td><td>▁▃▅▆█</td></tr><tr><td>loss</td><td>█▆▄▂▁</td></tr><tr><td>accuracy</td><td>▁▃▆▇█</td></tr><tr><td>val_loss</td><td>█▂▁▇▄</td></tr><tr><td>val_accuracy</td><td>▁▄█▄▅</td></tr><tr><td>_runtime</td><td>▁▃▅▆█</td></tr><tr><td>_timestamp</td><td>▁▃▅▆█</td></tr><tr><td>_step</td><td>▁▃▅▆█</td></tr></table><br/>"
      ],
      "text/plain": [
       "<IPython.core.display.HTML object>"
      ]
     },
     "metadata": {},
     "output_type": "display_data"
    },
    {
     "data": {
      "text/html": [
       "Synced 6 W&B file(s), 181 media file(s), 0 artifact file(s) and 10 other file(s)"
      ],
      "text/plain": [
       "<IPython.core.display.HTML object>"
      ]
     },
     "metadata": {},
     "output_type": "display_data"
    },
    {
     "data": {
      "text/html": [
       "\n",
       "                    <br/>Synced <strong style=\"color:#cdcd00\">effortless-sweep-33</strong>: <a href=\"https://wandb.ai/jinseock/sweep-practice2/runs/mz7gyxqx\" target=\"_blank\">https://wandb.ai/jinseock/sweep-practice2/runs/mz7gyxqx</a><br/>\n",
       "                "
      ],
      "text/plain": [
       "<IPython.core.display.HTML object>"
      ]
     },
     "metadata": {},
     "output_type": "display_data"
    },
    {
     "name": "stderr",
     "output_type": "stream",
     "text": [
      "wandb: Agent Starting Run: emh0tuxp with config:\n",
      "wandb: \tdropout_rate: 0.3\n",
      "wandb: \tlayer_1_activation: relu\n",
      "wandb: \tlayer_1_size: 128\n",
      "wandb: \tlearning_rate: 0.01\n",
      "wandb: \toptimizer: adam\n",
      "wandb: WARNING Ignored wandb.init() arg project when running a sweep\n"
     ]
    },
    {
     "data": {
      "text/html": [
       "\n",
       "                Tracking run with wandb version 0.11.0<br/>\n",
       "                Syncing run <strong style=\"color:#cdcd00\">young-sweep-34</strong> to <a href=\"https://wandb.ai\" target=\"_blank\">Weights & Biases</a> <a href=\"https://docs.wandb.com/integrations/jupyter.html\" target=\"_blank\">(Documentation)</a>.<br/>\n",
       "                Project page: <a href=\"https://wandb.ai/jinseock/sweep-practice2\" target=\"_blank\">https://wandb.ai/jinseock/sweep-practice2</a><br/>\n",
       "                Sweep page: <a href=\"https://wandb.ai/jinseock/sweep-practice2/sweeps/l0r3ktxc\" target=\"_blank\">https://wandb.ai/jinseock/sweep-practice2/sweeps/l0r3ktxc</a><br/>\n",
       "Run page: <a href=\"https://wandb.ai/jinseock/sweep-practice2/runs/emh0tuxp\" target=\"_blank\">https://wandb.ai/jinseock/sweep-practice2/runs/emh0tuxp</a><br/>\n",
       "                Run data is saved locally in <code>/Users/jinseok/Jupyter/Study/Lecture/Machine-Learning Engineer/Code/wandb/run-20210721_225740-emh0tuxp</code><br/><br/>\n",
       "            "
      ],
      "text/plain": [
       "<IPython.core.display.HTML object>"
      ]
     },
     "metadata": {},
     "output_type": "display_data"
    },
    {
     "name": "stdout",
     "output_type": "stream",
     "text": [
      "Epoch 1/5\n",
      "   3/1875 [..............................] - ETA: 1:10 - loss: 2.7657 - accuracy: 0.1372WARNING:tensorflow:Callback method `on_train_batch_end` is slow compared to the batch time (batch time: 0.0014s vs `on_train_batch_end` time: 0.0123s). Check your callbacks.\n",
      "1875/1875 [==============================] - 3s 1ms/step - loss: 0.8051 - accuracy: 0.7050 - val_loss: 0.5525 - val_accuracy: 0.8056\n",
      "Epoch 2/5\n",
      "1875/1875 [==============================] - 2s 1ms/step - loss: 0.6467 - accuracy: 0.7613 - val_loss: 0.4920 - val_accuracy: 0.8240\n",
      "Epoch 3/5\n",
      "1875/1875 [==============================] - 3s 1ms/step - loss: 0.6155 - accuracy: 0.7754 - val_loss: 0.5160 - val_accuracy: 0.8240\n",
      "Epoch 4/5\n",
      "1875/1875 [==============================] - 3s 1ms/step - loss: 0.6072 - accuracy: 0.7800 - val_loss: 0.5097 - val_accuracy: 0.8422\n",
      "Epoch 5/5\n",
      "1875/1875 [==============================] - 3s 1ms/step - loss: 0.5933 - accuracy: 0.7833 - val_loss: 0.4959 - val_accuracy: 0.8263\n"
     ]
    },
    {
     "data": {
      "text/html": [
       "<br/>Waiting for W&B process to finish, PID 61111<br/>Program ended successfully."
      ],
      "text/plain": [
       "<IPython.core.display.HTML object>"
      ]
     },
     "metadata": {},
     "output_type": "display_data"
    },
    {
     "data": {
      "application/vnd.jupyter.widget-view+json": {
       "model_id": "ae01529d10304912a18f45ab3d718080",
       "version_major": 2,
       "version_minor": 0
      },
      "text/plain": [
       "VBox(children=(Label(value=' 1.47MB of 1.47MB uploaded (0.00MB deduped)\\r'), FloatProgress(value=0.99780435120…"
      ]
     },
     "metadata": {},
     "output_type": "display_data"
    },
    {
     "data": {
      "text/html": [
       "Find user logs for this run at: <code>/Users/jinseok/Jupyter/Study/Lecture/Machine-Learning Engineer/Code/wandb/run-20210721_225740-emh0tuxp/logs/debug.log</code>"
      ],
      "text/plain": [
       "<IPython.core.display.HTML object>"
      ]
     },
     "metadata": {},
     "output_type": "display_data"
    },
    {
     "data": {
      "text/html": [
       "Find internal logs for this run at: <code>/Users/jinseok/Jupyter/Study/Lecture/Machine-Learning Engineer/Code/wandb/run-20210721_225740-emh0tuxp/logs/debug-internal.log</code>"
      ],
      "text/plain": [
       "<IPython.core.display.HTML object>"
      ]
     },
     "metadata": {},
     "output_type": "display_data"
    },
    {
     "data": {
      "text/html": [
       "<h3>Run summary:</h3><br/><style>\n",
       "    table.wandb td:nth-child(1) { padding: 0 10px; text-align: right }\n",
       "    </style><table class=\"wandb\">\n",
       "<tr><td>epoch</td><td>4</td></tr><tr><td>loss</td><td>0.59013</td></tr><tr><td>accuracy</td><td>0.78478</td></tr><tr><td>val_loss</td><td>0.49588</td></tr><tr><td>val_accuracy</td><td>0.8263</td></tr><tr><td>_runtime</td><td>24</td></tr><tr><td>_timestamp</td><td>1626875884</td></tr><tr><td>_step</td><td>4</td></tr><tr><td>best_val_loss</td><td>0.49204</td></tr><tr><td>best_epoch</td><td>1</td></tr></table>"
      ],
      "text/plain": [
       "<IPython.core.display.HTML object>"
      ]
     },
     "metadata": {},
     "output_type": "display_data"
    },
    {
     "data": {
      "text/html": [
       "<h3>Run history:</h3><br/><style>\n",
       "    table.wandb td:nth-child(1) { padding: 0 10px; text-align: right }\n",
       "    </style><table class=\"wandb\">\n",
       "<tr><td>epoch</td><td>▁▃▅▆█</td></tr><tr><td>loss</td><td>█▄▂▂▁</td></tr><tr><td>accuracy</td><td>▁▅▆▇█</td></tr><tr><td>val_loss</td><td>█▁▄▃▁</td></tr><tr><td>val_accuracy</td><td>▁▅▅█▅</td></tr><tr><td>_runtime</td><td>▁▃▅▆█</td></tr><tr><td>_timestamp</td><td>▁▃▅▆█</td></tr><tr><td>_step</td><td>▁▃▅▆█</td></tr></table><br/>"
      ],
      "text/plain": [
       "<IPython.core.display.HTML object>"
      ]
     },
     "metadata": {},
     "output_type": "display_data"
    },
    {
     "data": {
      "text/html": [
       "Synced 6 W&B file(s), 181 media file(s), 0 artifact file(s) and 10 other file(s)"
      ],
      "text/plain": [
       "<IPython.core.display.HTML object>"
      ]
     },
     "metadata": {},
     "output_type": "display_data"
    },
    {
     "data": {
      "text/html": [
       "\n",
       "                    <br/>Synced <strong style=\"color:#cdcd00\">young-sweep-34</strong>: <a href=\"https://wandb.ai/jinseock/sweep-practice2/runs/emh0tuxp\" target=\"_blank\">https://wandb.ai/jinseock/sweep-practice2/runs/emh0tuxp</a><br/>\n",
       "                "
      ],
      "text/plain": [
       "<IPython.core.display.HTML object>"
      ]
     },
     "metadata": {},
     "output_type": "display_data"
    },
    {
     "name": "stderr",
     "output_type": "stream",
     "text": [
      "wandb: Agent Starting Run: 4fdkcwca with config:\n",
      "wandb: \tdropout_rate: 0.4\n",
      "wandb: \tlayer_1_activation: relu\n",
      "wandb: \tlayer_1_size: 32\n",
      "wandb: \tlearning_rate: 0.05\n",
      "wandb: \toptimizer: rmsprop\n",
      "wandb: WARNING Ignored wandb.init() arg project when running a sweep\n"
     ]
    },
    {
     "data": {
      "text/html": [
       "\n",
       "                Tracking run with wandb version 0.11.0<br/>\n",
       "                Syncing run <strong style=\"color:#cdcd00\">colorful-sweep-35</strong> to <a href=\"https://wandb.ai\" target=\"_blank\">Weights & Biases</a> <a href=\"https://docs.wandb.com/integrations/jupyter.html\" target=\"_blank\">(Documentation)</a>.<br/>\n",
       "                Project page: <a href=\"https://wandb.ai/jinseock/sweep-practice2\" target=\"_blank\">https://wandb.ai/jinseock/sweep-practice2</a><br/>\n",
       "                Sweep page: <a href=\"https://wandb.ai/jinseock/sweep-practice2/sweeps/l0r3ktxc\" target=\"_blank\">https://wandb.ai/jinseock/sweep-practice2/sweeps/l0r3ktxc</a><br/>\n",
       "Run page: <a href=\"https://wandb.ai/jinseock/sweep-practice2/runs/4fdkcwca\" target=\"_blank\">https://wandb.ai/jinseock/sweep-practice2/runs/4fdkcwca</a><br/>\n",
       "                Run data is saved locally in <code>/Users/jinseok/Jupyter/Study/Lecture/Machine-Learning Engineer/Code/wandb/run-20210721_225810-4fdkcwca</code><br/><br/>\n",
       "            "
      ],
      "text/plain": [
       "<IPython.core.display.HTML object>"
      ]
     },
     "metadata": {},
     "output_type": "display_data"
    },
    {
     "name": "stdout",
     "output_type": "stream",
     "text": [
      "Epoch 1/5\n",
      "   3/1875 [..............................] - ETA: 1:25 - loss: 18.3771 - accuracy: 0.1493WARNING:tensorflow:Callback method `on_train_batch_end` is slow compared to the batch time (batch time: 0.0010s vs `on_train_batch_end` time: 0.0151s). Check your callbacks.\n",
      "1875/1875 [==============================] - 2s 1ms/step - loss: 2.2835 - accuracy: 0.3046 - val_loss: 1.7007 - val_accuracy: 0.4403\n",
      "Epoch 2/5\n",
      "1875/1875 [==============================] - 2s 994us/step - loss: 1.9671 - accuracy: 0.3180 - val_loss: 1.5606 - val_accuracy: 0.4342\n",
      "Epoch 3/5\n",
      "1875/1875 [==============================] - 2s 989us/step - loss: 1.9504 - accuracy: 0.3330 - val_loss: 1.5455 - val_accuracy: 0.4800\n",
      "Epoch 4/5\n",
      "1875/1875 [==============================] - 2s 1ms/step - loss: 1.9662 - accuracy: 0.3486 - val_loss: 1.6138 - val_accuracy: 0.4207\n",
      "Epoch 5/5\n",
      "1875/1875 [==============================] - 2s 1ms/step - loss: 2.0716 - accuracy: 0.3321 - val_loss: 1.5438 - val_accuracy: 0.5361\n"
     ]
    },
    {
     "data": {
      "text/html": [
       "<br/>Waiting for W&B process to finish, PID 61134<br/>Program ended successfully."
      ],
      "text/plain": [
       "<IPython.core.display.HTML object>"
      ]
     },
     "metadata": {},
     "output_type": "display_data"
    },
    {
     "data": {
      "application/vnd.jupyter.widget-view+json": {
       "model_id": "9a8a38d9cbd146be862390b71cb3e826",
       "version_major": 2,
       "version_minor": 0
      },
      "text/plain": [
       "VBox(children=(Label(value=' 0.55MB of 0.56MB uploaded (0.00MB deduped)\\r'), FloatProgress(value=0.99026521499…"
      ]
     },
     "metadata": {},
     "output_type": "display_data"
    },
    {
     "data": {
      "text/html": [
       "Find user logs for this run at: <code>/Users/jinseok/Jupyter/Study/Lecture/Machine-Learning Engineer/Code/wandb/run-20210721_225810-4fdkcwca/logs/debug.log</code>"
      ],
      "text/plain": [
       "<IPython.core.display.HTML object>"
      ]
     },
     "metadata": {},
     "output_type": "display_data"
    },
    {
     "data": {
      "text/html": [
       "Find internal logs for this run at: <code>/Users/jinseok/Jupyter/Study/Lecture/Machine-Learning Engineer/Code/wandb/run-20210721_225810-4fdkcwca/logs/debug-internal.log</code>"
      ],
      "text/plain": [
       "<IPython.core.display.HTML object>"
      ]
     },
     "metadata": {},
     "output_type": "display_data"
    },
    {
     "data": {
      "text/html": [
       "<h3>Run summary:</h3><br/><style>\n",
       "    table.wandb td:nth-child(1) { padding: 0 10px; text-align: right }\n",
       "    </style><table class=\"wandb\">\n",
       "<tr><td>epoch</td><td>4</td></tr><tr><td>loss</td><td>2.04537</td></tr><tr><td>accuracy</td><td>0.34045</td></tr><tr><td>val_loss</td><td>1.54376</td></tr><tr><td>val_accuracy</td><td>0.5361</td></tr><tr><td>_runtime</td><td>21</td></tr><tr><td>_timestamp</td><td>1626875911</td></tr><tr><td>_step</td><td>4</td></tr><tr><td>best_val_loss</td><td>1.54376</td></tr><tr><td>best_epoch</td><td>4</td></tr></table>"
      ],
      "text/plain": [
       "<IPython.core.display.HTML object>"
      ]
     },
     "metadata": {},
     "output_type": "display_data"
    },
    {
     "data": {
      "text/html": [
       "<h3>Run history:</h3><br/><style>\n",
       "    table.wandb td:nth-child(1) { padding: 0 10px; text-align: right }\n",
       "    </style><table class=\"wandb\">\n",
       "<tr><td>epoch</td><td>▁▃▅▆█</td></tr><tr><td>loss</td><td>▄▃▁▅█</td></tr><tr><td>accuracy</td><td>▁▃▇█▆</td></tr><tr><td>val_loss</td><td>█▂▁▄▁</td></tr><tr><td>val_accuracy</td><td>▂▂▅▁█</td></tr><tr><td>_runtime</td><td>▁▃▅▆█</td></tr><tr><td>_timestamp</td><td>▁▃▅▆█</td></tr><tr><td>_step</td><td>▁▃▅▆█</td></tr></table><br/>"
      ],
      "text/plain": [
       "<IPython.core.display.HTML object>"
      ]
     },
     "metadata": {},
     "output_type": "display_data"
    },
    {
     "data": {
      "text/html": [
       "Synced 6 W&B file(s), 181 media file(s), 0 artifact file(s) and 10 other file(s)"
      ],
      "text/plain": [
       "<IPython.core.display.HTML object>"
      ]
     },
     "metadata": {},
     "output_type": "display_data"
    },
    {
     "data": {
      "text/html": [
       "\n",
       "                    <br/>Synced <strong style=\"color:#cdcd00\">colorful-sweep-35</strong>: <a href=\"https://wandb.ai/jinseock/sweep-practice2/runs/4fdkcwca\" target=\"_blank\">https://wandb.ai/jinseock/sweep-practice2/runs/4fdkcwca</a><br/>\n",
       "                "
      ],
      "text/plain": [
       "<IPython.core.display.HTML object>"
      ]
     },
     "metadata": {},
     "output_type": "display_data"
    },
    {
     "name": "stderr",
     "output_type": "stream",
     "text": [
      "wandb: Agent Starting Run: n1hdx13t with config:\n",
      "wandb: \tdropout_rate: 0.3\n",
      "wandb: \tlayer_1_activation: relu\n",
      "wandb: \tlayer_1_size: 128\n",
      "wandb: \tlearning_rate: 0.01\n",
      "wandb: \toptimizer: rmsprop\n",
      "wandb: WARNING Ignored wandb.init() arg project when running a sweep\n"
     ]
    },
    {
     "data": {
      "text/html": [
       "\n",
       "                Tracking run with wandb version 0.11.0<br/>\n",
       "                Syncing run <strong style=\"color:#cdcd00\">woven-sweep-36</strong> to <a href=\"https://wandb.ai\" target=\"_blank\">Weights & Biases</a> <a href=\"https://docs.wandb.com/integrations/jupyter.html\" target=\"_blank\">(Documentation)</a>.<br/>\n",
       "                Project page: <a href=\"https://wandb.ai/jinseock/sweep-practice2\" target=\"_blank\">https://wandb.ai/jinseock/sweep-practice2</a><br/>\n",
       "                Sweep page: <a href=\"https://wandb.ai/jinseock/sweep-practice2/sweeps/l0r3ktxc\" target=\"_blank\">https://wandb.ai/jinseock/sweep-practice2/sweeps/l0r3ktxc</a><br/>\n",
       "Run page: <a href=\"https://wandb.ai/jinseock/sweep-practice2/runs/n1hdx13t\" target=\"_blank\">https://wandb.ai/jinseock/sweep-practice2/runs/n1hdx13t</a><br/>\n",
       "                Run data is saved locally in <code>/Users/jinseok/Jupyter/Study/Lecture/Machine-Learning Engineer/Code/wandb/run-20210721_225836-n1hdx13t</code><br/><br/>\n",
       "            "
      ],
      "text/plain": [
       "<IPython.core.display.HTML object>"
      ]
     },
     "metadata": {},
     "output_type": "display_data"
    },
    {
     "name": "stdout",
     "output_type": "stream",
     "text": [
      "Epoch 1/5\n",
      "   3/1875 [..............................] - ETA: 1:17 - loss: 4.7086 - accuracy: 0.1319 WARNING:tensorflow:Callback method `on_train_batch_end` is slow compared to the batch time (batch time: 0.0013s vs `on_train_batch_end` time: 0.0136s). Check your callbacks.\n",
      "1875/1875 [==============================] - 3s 1ms/step - loss: 0.9738 - accuracy: 0.6886 - val_loss: 0.5925 - val_accuracy: 0.8097\n",
      "Epoch 2/5\n",
      "1875/1875 [==============================] - 3s 1ms/step - loss: 0.7537 - accuracy: 0.7643 - val_loss: 1.0126 - val_accuracy: 0.7657\n",
      "Epoch 3/5\n",
      "1875/1875 [==============================] - 3s 1ms/step - loss: 0.7678 - accuracy: 0.7702 - val_loss: 0.6705 - val_accuracy: 0.7976\n",
      "Epoch 4/5\n",
      "1875/1875 [==============================] - 3s 1ms/step - loss: 0.7833 - accuracy: 0.7660 - val_loss: 0.7413 - val_accuracy: 0.8077\n",
      "Epoch 5/5\n",
      "1875/1875 [==============================] - 3s 2ms/step - loss: 0.8411 - accuracy: 0.7690 - val_loss: 0.7170 - val_accuracy: 0.8090\n"
     ]
    },
    {
     "data": {
      "text/html": [
       "<br/>Waiting for W&B process to finish, PID 61159<br/>Program ended successfully."
      ],
      "text/plain": [
       "<IPython.core.display.HTML object>"
      ]
     },
     "metadata": {},
     "output_type": "display_data"
    },
    {
     "data": {
      "application/vnd.jupyter.widget-view+json": {
       "model_id": "57983a5c56b94c1fb3ff22fc0e5a2f50",
       "version_major": 2,
       "version_minor": 0
      },
      "text/plain": [
       "VBox(children=(Label(value=' 0.89MB of 0.89MB uploaded (0.00MB deduped)\\r'), FloatProgress(value=0.99671557690…"
      ]
     },
     "metadata": {},
     "output_type": "display_data"
    },
    {
     "data": {
      "text/html": [
       "Find user logs for this run at: <code>/Users/jinseok/Jupyter/Study/Lecture/Machine-Learning Engineer/Code/wandb/run-20210721_225836-n1hdx13t/logs/debug.log</code>"
      ],
      "text/plain": [
       "<IPython.core.display.HTML object>"
      ]
     },
     "metadata": {},
     "output_type": "display_data"
    },
    {
     "data": {
      "text/html": [
       "Find internal logs for this run at: <code>/Users/jinseok/Jupyter/Study/Lecture/Machine-Learning Engineer/Code/wandb/run-20210721_225836-n1hdx13t/logs/debug-internal.log</code>"
      ],
      "text/plain": [
       "<IPython.core.display.HTML object>"
      ]
     },
     "metadata": {},
     "output_type": "display_data"
    },
    {
     "data": {
      "text/html": [
       "<h3>Run summary:</h3><br/><style>\n",
       "    table.wandb td:nth-child(1) { padding: 0 10px; text-align: right }\n",
       "    </style><table class=\"wandb\">\n",
       "<tr><td>epoch</td><td>4</td></tr><tr><td>loss</td><td>0.8377</td></tr><tr><td>accuracy</td><td>0.76905</td></tr><tr><td>val_loss</td><td>0.71702</td></tr><tr><td>val_accuracy</td><td>0.809</td></tr><tr><td>_runtime</td><td>25</td></tr><tr><td>_timestamp</td><td>1626875941</td></tr><tr><td>_step</td><td>4</td></tr><tr><td>best_val_loss</td><td>0.59248</td></tr><tr><td>best_epoch</td><td>0</td></tr></table>"
      ],
      "text/plain": [
       "<IPython.core.display.HTML object>"
      ]
     },
     "metadata": {},
     "output_type": "display_data"
    },
    {
     "data": {
      "text/html": [
       "<h3>Run history:</h3><br/><style>\n",
       "    table.wandb td:nth-child(1) { padding: 0 10px; text-align: right }\n",
       "    </style><table class=\"wandb\">\n",
       "<tr><td>epoch</td><td>▁▃▅▆█</td></tr><tr><td>loss</td><td>▄▁▃▆█</td></tr><tr><td>accuracy</td><td>▁▇█▇█</td></tr><tr><td>val_loss</td><td>▁█▂▃▃</td></tr><tr><td>val_accuracy</td><td>█▁▆██</td></tr><tr><td>_runtime</td><td>▁▃▅▆█</td></tr><tr><td>_timestamp</td><td>▁▃▅▆█</td></tr><tr><td>_step</td><td>▁▃▅▆█</td></tr></table><br/>"
      ],
      "text/plain": [
       "<IPython.core.display.HTML object>"
      ]
     },
     "metadata": {},
     "output_type": "display_data"
    },
    {
     "data": {
      "text/html": [
       "Synced 6 W&B file(s), 181 media file(s), 0 artifact file(s) and 10 other file(s)"
      ],
      "text/plain": [
       "<IPython.core.display.HTML object>"
      ]
     },
     "metadata": {},
     "output_type": "display_data"
    },
    {
     "data": {
      "text/html": [
       "\n",
       "                    <br/>Synced <strong style=\"color:#cdcd00\">woven-sweep-36</strong>: <a href=\"https://wandb.ai/jinseock/sweep-practice2/runs/n1hdx13t\" target=\"_blank\">https://wandb.ai/jinseock/sweep-practice2/runs/n1hdx13t</a><br/>\n",
       "                "
      ],
      "text/plain": [
       "<IPython.core.display.HTML object>"
      ]
     },
     "metadata": {},
     "output_type": "display_data"
    },
    {
     "name": "stderr",
     "output_type": "stream",
     "text": [
      "wandb: Agent Starting Run: cd36kwwg with config:\n",
      "wandb: \tdropout_rate: 0.3\n",
      "wandb: \tlayer_1_activation: relu\n",
      "wandb: \tlayer_1_size: 128\n",
      "wandb: \tlearning_rate: 0.001\n",
      "wandb: \toptimizer: adam\n",
      "wandb: WARNING Ignored wandb.init() arg project when running a sweep\n"
     ]
    },
    {
     "data": {
      "text/html": [
       "\n",
       "                Tracking run with wandb version 0.11.0<br/>\n",
       "                Syncing run <strong style=\"color:#cdcd00\">fiery-sweep-37</strong> to <a href=\"https://wandb.ai\" target=\"_blank\">Weights & Biases</a> <a href=\"https://docs.wandb.com/integrations/jupyter.html\" target=\"_blank\">(Documentation)</a>.<br/>\n",
       "                Project page: <a href=\"https://wandb.ai/jinseock/sweep-practice2\" target=\"_blank\">https://wandb.ai/jinseock/sweep-practice2</a><br/>\n",
       "                Sweep page: <a href=\"https://wandb.ai/jinseock/sweep-practice2/sweeps/l0r3ktxc\" target=\"_blank\">https://wandb.ai/jinseock/sweep-practice2/sweeps/l0r3ktxc</a><br/>\n",
       "Run page: <a href=\"https://wandb.ai/jinseock/sweep-practice2/runs/cd36kwwg\" target=\"_blank\">https://wandb.ai/jinseock/sweep-practice2/runs/cd36kwwg</a><br/>\n",
       "                Run data is saved locally in <code>/Users/jinseok/Jupyter/Study/Lecture/Machine-Learning Engineer/Code/wandb/run-20210721_225906-cd36kwwg</code><br/><br/>\n",
       "            "
      ],
      "text/plain": [
       "<IPython.core.display.HTML object>"
      ]
     },
     "metadata": {},
     "output_type": "display_data"
    },
    {
     "name": "stdout",
     "output_type": "stream",
     "text": [
      "Epoch 1/5\n",
      "   3/1875 [..............................] - ETA: 1:01 - loss: 2.1782 - accuracy: 0.1788WARNING:tensorflow:Callback method `on_train_batch_end` is slow compared to the batch time (batch time: 0.0011s vs `on_train_batch_end` time: 0.0107s). Check your callbacks.\n",
      "1875/1875 [==============================] - 3s 1ms/step - loss: 0.6956 - accuracy: 0.7539 - val_loss: 0.4276 - val_accuracy: 0.8428\n",
      "Epoch 2/5\n",
      "1875/1875 [==============================] - 3s 2ms/step - loss: 0.4278 - accuracy: 0.8439 - val_loss: 0.3930 - val_accuracy: 0.8600\n",
      "Epoch 3/5\n",
      "1875/1875 [==============================] - 4s 2ms/step - loss: 0.3935 - accuracy: 0.8557 - val_loss: 0.3762 - val_accuracy: 0.8661\n",
      "Epoch 4/5\n",
      "1875/1875 [==============================] - 3s 2ms/step - loss: 0.3654 - accuracy: 0.8633 - val_loss: 0.3720 - val_accuracy: 0.8673\n",
      "Epoch 5/5\n",
      "1875/1875 [==============================] - 3s 2ms/step - loss: 0.3449 - accuracy: 0.8715 - val_loss: 0.3717 - val_accuracy: 0.8645\n"
     ]
    },
    {
     "data": {
      "text/html": [
       "<br/>Waiting for W&B process to finish, PID 61179<br/>Program ended successfully."
      ],
      "text/plain": [
       "<IPython.core.display.HTML object>"
      ]
     },
     "metadata": {},
     "output_type": "display_data"
    },
    {
     "data": {
      "application/vnd.jupyter.widget-view+json": {
       "model_id": "b11a088d50f64875889dad9745ee9a8f",
       "version_major": 2,
       "version_minor": 0
      },
      "text/plain": [
       "VBox(children=(Label(value=' 1.47MB of 1.48MB uploaded (0.00MB deduped)\\r'), FloatProgress(value=0.99461092380…"
      ]
     },
     "metadata": {},
     "output_type": "display_data"
    },
    {
     "data": {
      "text/html": [
       "Find user logs for this run at: <code>/Users/jinseok/Jupyter/Study/Lecture/Machine-Learning Engineer/Code/wandb/run-20210721_225906-cd36kwwg/logs/debug.log</code>"
      ],
      "text/plain": [
       "<IPython.core.display.HTML object>"
      ]
     },
     "metadata": {},
     "output_type": "display_data"
    },
    {
     "data": {
      "text/html": [
       "Find internal logs for this run at: <code>/Users/jinseok/Jupyter/Study/Lecture/Machine-Learning Engineer/Code/wandb/run-20210721_225906-cd36kwwg/logs/debug-internal.log</code>"
      ],
      "text/plain": [
       "<IPython.core.display.HTML object>"
      ]
     },
     "metadata": {},
     "output_type": "display_data"
    },
    {
     "data": {
      "text/html": [
       "<h3>Run summary:</h3><br/><style>\n",
       "    table.wandb td:nth-child(1) { padding: 0 10px; text-align: right }\n",
       "    </style><table class=\"wandb\">\n",
       "<tr><td>epoch</td><td>4</td></tr><tr><td>loss</td><td>0.34843</td></tr><tr><td>accuracy</td><td>0.87138</td></tr><tr><td>val_loss</td><td>0.37174</td></tr><tr><td>val_accuracy</td><td>0.8645</td></tr><tr><td>_runtime</td><td>28</td></tr><tr><td>_timestamp</td><td>1626875974</td></tr><tr><td>_step</td><td>4</td></tr><tr><td>best_val_loss</td><td>0.37174</td></tr><tr><td>best_epoch</td><td>4</td></tr></table>"
      ],
      "text/plain": [
       "<IPython.core.display.HTML object>"
      ]
     },
     "metadata": {},
     "output_type": "display_data"
    },
    {
     "data": {
      "text/html": [
       "<h3>Run history:</h3><br/><style>\n",
       "    table.wandb td:nth-child(1) { padding: 0 10px; text-align: right }\n",
       "    </style><table class=\"wandb\">\n",
       "<tr><td>epoch</td><td>▁▃▅▆█</td></tr><tr><td>loss</td><td>█▃▂▂▁</td></tr><tr><td>accuracy</td><td>▁▆▇▇█</td></tr><tr><td>val_loss</td><td>█▄▂▁▁</td></tr><tr><td>val_accuracy</td><td>▁▆██▇</td></tr><tr><td>_runtime</td><td>▁▃▅▇█</td></tr><tr><td>_timestamp</td><td>▁▃▅▇█</td></tr><tr><td>_step</td><td>▁▃▅▆█</td></tr></table><br/>"
      ],
      "text/plain": [
       "<IPython.core.display.HTML object>"
      ]
     },
     "metadata": {},
     "output_type": "display_data"
    },
    {
     "data": {
      "text/html": [
       "Synced 6 W&B file(s), 181 media file(s), 0 artifact file(s) and 10 other file(s)"
      ],
      "text/plain": [
       "<IPython.core.display.HTML object>"
      ]
     },
     "metadata": {},
     "output_type": "display_data"
    },
    {
     "data": {
      "text/html": [
       "\n",
       "                    <br/>Synced <strong style=\"color:#cdcd00\">fiery-sweep-37</strong>: <a href=\"https://wandb.ai/jinseock/sweep-practice2/runs/cd36kwwg\" target=\"_blank\">https://wandb.ai/jinseock/sweep-practice2/runs/cd36kwwg</a><br/>\n",
       "                "
      ],
      "text/plain": [
       "<IPython.core.display.HTML object>"
      ]
     },
     "metadata": {},
     "output_type": "display_data"
    },
    {
     "name": "stderr",
     "output_type": "stream",
     "text": [
      "wandb: Agent Starting Run: isgusfmx with config:\n",
      "wandb: \tdropout_rate: 0.2\n",
      "wandb: \tlayer_1_activation: sigmoid\n",
      "wandb: \tlayer_1_size: 32\n",
      "wandb: \tlearning_rate: 0.05\n",
      "wandb: \toptimizer: rmsprop\n",
      "wandb: WARNING Ignored wandb.init() arg project when running a sweep\n"
     ]
    },
    {
     "data": {
      "text/html": [
       "\n",
       "                Tracking run with wandb version 0.11.0<br/>\n",
       "                Syncing run <strong style=\"color:#cdcd00\">curious-sweep-38</strong> to <a href=\"https://wandb.ai\" target=\"_blank\">Weights & Biases</a> <a href=\"https://docs.wandb.com/integrations/jupyter.html\" target=\"_blank\">(Documentation)</a>.<br/>\n",
       "                Project page: <a href=\"https://wandb.ai/jinseock/sweep-practice2\" target=\"_blank\">https://wandb.ai/jinseock/sweep-practice2</a><br/>\n",
       "                Sweep page: <a href=\"https://wandb.ai/jinseock/sweep-practice2/sweeps/l0r3ktxc\" target=\"_blank\">https://wandb.ai/jinseock/sweep-practice2/sweeps/l0r3ktxc</a><br/>\n",
       "Run page: <a href=\"https://wandb.ai/jinseock/sweep-practice2/runs/isgusfmx\" target=\"_blank\">https://wandb.ai/jinseock/sweep-practice2/runs/isgusfmx</a><br/>\n",
       "                Run data is saved locally in <code>/Users/jinseok/Jupyter/Study/Lecture/Machine-Learning Engineer/Code/wandb/run-20210721_225939-isgusfmx</code><br/><br/>\n",
       "            "
      ],
      "text/plain": [
       "<IPython.core.display.HTML object>"
      ]
     },
     "metadata": {},
     "output_type": "display_data"
    },
    {
     "name": "stdout",
     "output_type": "stream",
     "text": [
      "Epoch 1/5\n",
      "   3/1875 [..............................] - ETA: 56s - loss: 2.7067 - accuracy: 0.1562  WARNING:tensorflow:Callback method `on_train_batch_end` is slow compared to the batch time (batch time: 0.0009s vs `on_train_batch_end` time: 0.0100s). Check your callbacks.\n",
      "1875/1875 [==============================] - 3s 1ms/step - loss: 1.0689 - accuracy: 0.6040 - val_loss: 0.7021 - val_accuracy: 0.7590\n",
      "Epoch 2/5\n",
      "1875/1875 [==============================] - 2s 999us/step - loss: 0.8033 - accuracy: 0.7364 - val_loss: 0.6501 - val_accuracy: 0.7817\n",
      "Epoch 3/5\n",
      "1875/1875 [==============================] - 2s 1ms/step - loss: 0.7834 - accuracy: 0.7562 - val_loss: 0.6621 - val_accuracy: 0.8148\n",
      "Epoch 4/5\n",
      "1875/1875 [==============================] - 2s 1ms/step - loss: 0.7307 - accuracy: 0.7779 - val_loss: 0.6208 - val_accuracy: 0.8161\n",
      "Epoch 5/5\n",
      "1875/1875 [==============================] - 2s 1ms/step - loss: 0.7359 - accuracy: 0.7809 - val_loss: 0.6639 - val_accuracy: 0.8020\n"
     ]
    },
    {
     "data": {
      "text/html": [
       "<br/>Waiting for W&B process to finish, PID 61241<br/>Program ended successfully."
      ],
      "text/plain": [
       "<IPython.core.display.HTML object>"
      ]
     },
     "metadata": {},
     "output_type": "display_data"
    },
    {
     "data": {
      "application/vnd.jupyter.widget-view+json": {
       "model_id": "36f5525fb9e24b2ebfae57c4942042b0",
       "version_major": 2,
       "version_minor": 0
      },
      "text/plain": [
       "VBox(children=(Label(value=' 0.31MB of 0.31MB uploaded (0.00MB deduped)\\r'), FloatProgress(value=0.98470537248…"
      ]
     },
     "metadata": {},
     "output_type": "display_data"
    },
    {
     "data": {
      "text/html": [
       "Find user logs for this run at: <code>/Users/jinseok/Jupyter/Study/Lecture/Machine-Learning Engineer/Code/wandb/run-20210721_225939-isgusfmx/logs/debug.log</code>"
      ],
      "text/plain": [
       "<IPython.core.display.HTML object>"
      ]
     },
     "metadata": {},
     "output_type": "display_data"
    },
    {
     "data": {
      "text/html": [
       "Find internal logs for this run at: <code>/Users/jinseok/Jupyter/Study/Lecture/Machine-Learning Engineer/Code/wandb/run-20210721_225939-isgusfmx/logs/debug-internal.log</code>"
      ],
      "text/plain": [
       "<IPython.core.display.HTML object>"
      ]
     },
     "metadata": {},
     "output_type": "display_data"
    },
    {
     "data": {
      "text/html": [
       "<h3>Run summary:</h3><br/><style>\n",
       "    table.wandb td:nth-child(1) { padding: 0 10px; text-align: right }\n",
       "    </style><table class=\"wandb\">\n",
       "<tr><td>epoch</td><td>4</td></tr><tr><td>loss</td><td>0.73742</td></tr><tr><td>accuracy</td><td>0.78133</td></tr><tr><td>val_loss</td><td>0.66389</td></tr><tr><td>val_accuracy</td><td>0.802</td></tr><tr><td>_runtime</td><td>23</td></tr><tr><td>_timestamp</td><td>1626876002</td></tr><tr><td>_step</td><td>4</td></tr><tr><td>best_val_loss</td><td>0.62083</td></tr><tr><td>best_epoch</td><td>3</td></tr></table>"
      ],
      "text/plain": [
       "<IPython.core.display.HTML object>"
      ]
     },
     "metadata": {},
     "output_type": "display_data"
    },
    {
     "data": {
      "text/html": [
       "<h3>Run history:</h3><br/><style>\n",
       "    table.wandb td:nth-child(1) { padding: 0 10px; text-align: right }\n",
       "    </style><table class=\"wandb\">\n",
       "<tr><td>epoch</td><td>▁▃▅▆█</td></tr><tr><td>loss</td><td>█▃▂▁▁</td></tr><tr><td>accuracy</td><td>▁▆▇██</td></tr><tr><td>val_loss</td><td>█▄▅▁▅</td></tr><tr><td>val_accuracy</td><td>▁▄██▆</td></tr><tr><td>_runtime</td><td>▁▃▅▆█</td></tr><tr><td>_timestamp</td><td>▁▃▅▆█</td></tr><tr><td>_step</td><td>▁▃▅▆█</td></tr></table><br/>"
      ],
      "text/plain": [
       "<IPython.core.display.HTML object>"
      ]
     },
     "metadata": {},
     "output_type": "display_data"
    },
    {
     "data": {
      "text/html": [
       "Synced 6 W&B file(s), 181 media file(s), 0 artifact file(s) and 10 other file(s)"
      ],
      "text/plain": [
       "<IPython.core.display.HTML object>"
      ]
     },
     "metadata": {},
     "output_type": "display_data"
    },
    {
     "data": {
      "text/html": [
       "\n",
       "                    <br/>Synced <strong style=\"color:#cdcd00\">curious-sweep-38</strong>: <a href=\"https://wandb.ai/jinseock/sweep-practice2/runs/isgusfmx\" target=\"_blank\">https://wandb.ai/jinseock/sweep-practice2/runs/isgusfmx</a><br/>\n",
       "                "
      ],
      "text/plain": [
       "<IPython.core.display.HTML object>"
      ]
     },
     "metadata": {},
     "output_type": "display_data"
    },
    {
     "name": "stderr",
     "output_type": "stream",
     "text": [
      "wandb: Agent Starting Run: ia75nrer with config:\n",
      "wandb: \tdropout_rate: 0.5\n",
      "wandb: \tlayer_1_activation: relu\n",
      "wandb: \tlayer_1_size: 64\n",
      "wandb: \tlearning_rate: 0.001\n",
      "wandb: \toptimizer: adam\n",
      "wandb: WARNING Ignored wandb.init() arg project when running a sweep\n",
      "wandb: Ctrl + C detected. Stopping sweep.\n"
     ]
    }
   ],
   "source": [
    "wandb.agent(sweep_id, function = train)"
   ]
  },
  {
   "cell_type": "code",
   "execution_count": null,
   "metadata": {
    "Collapsed": "false"
   },
   "outputs": [],
   "source": []
  }
 ],
 "metadata": {
  "kernelspec": {
   "display_name": "Python 3",
   "language": "python",
   "name": "python3"
  },
  "language_info": {
   "codemirror_mode": {
    "name": "ipython",
    "version": 3
   },
   "file_extension": ".py",
   "mimetype": "text/x-python",
   "name": "python",
   "nbconvert_exporter": "python",
   "pygments_lexer": "ipython3",
   "version": "3.7.6"
  }
 },
 "nbformat": 4,
 "nbformat_minor": 4
}
