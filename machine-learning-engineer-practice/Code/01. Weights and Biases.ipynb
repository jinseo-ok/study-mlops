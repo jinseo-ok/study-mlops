{
 "cells": [
  {
   "cell_type": "markdown",
   "metadata": {
    "Collapsed": "false"
   },
   "source": [
    "# Code 1. Weights and Biases"
   ]
  },
  {
   "cell_type": "markdown",
   "metadata": {
    "Collapsed": "false"
   },
   "source": [
    "## 1. Base"
   ]
  },
  {
   "cell_type": "code",
   "execution_count": 1,
   "metadata": {
    "Collapsed": "false"
   },
   "outputs": [
    {
     "name": "stderr",
     "output_type": "stream",
     "text": [
      "/Users/jinseok/opt/anaconda3/lib/python3.7/site-packages/requests/__init__.py:91: RequestsDependencyWarning: urllib3 (1.26.6) or chardet (3.0.4) doesn't match a supported version!\n",
      "  RequestsDependencyWarning)\n"
     ]
    }
   ],
   "source": [
    "import tensorflow as tf\n",
    "from tensorflow import keras\n",
    "from tensorflow.keras import layers"
   ]
  },
  {
   "cell_type": "code",
   "execution_count": 2,
   "metadata": {
    "Collapsed": "false"
   },
   "outputs": [],
   "source": [
    "mnist = tf.keras.datasets.mnist\n",
    "\n",
    "(train_x, train_y), (test_x, test_y) = mnist.load_data() "
   ]
  },
  {
   "cell_type": "code",
   "execution_count": 3,
   "metadata": {
    "Collapsed": "false"
   },
   "outputs": [],
   "source": [
    "train_x, test_x = train_x / 255.0, test_x / 255.0"
   ]
  },
  {
   "cell_type": "code",
   "execution_count": 5,
   "metadata": {
    "Collapsed": "false"
   },
   "outputs": [],
   "source": [
    "model = keras.Sequential(\n",
    "    [\n",
    "        layers.Flatten(input_shape = (28, 28)),\n",
    "        layers.Dense(128, activation = 'relu'),\n",
    "        layers.Dropout(0.2),\n",
    "        layers.Dense(10, activation = 'softmax'),\n",
    "    ]\n",
    ")"
   ]
  },
  {
   "cell_type": "code",
   "execution_count": 6,
   "metadata": {
    "Collapsed": "false"
   },
   "outputs": [],
   "source": [
    "model.compile(\n",
    "              optimizer = 'adam'\n",
    "            , loss = 'sparse_categorical_crossentropy'\n",
    "            , metrics = ['accuracy']\n",
    "             )"
   ]
  },
  {
   "cell_type": "code",
   "execution_count": 7,
   "metadata": {
    "Collapsed": "false"
   },
   "outputs": [
    {
     "name": "stdout",
     "output_type": "stream",
     "text": [
      "Epoch 1/10\n",
      "1875/1875 [==============================] - 2s 862us/step - loss: 0.4754 - accuracy: 0.8630\n",
      "Epoch 2/10\n",
      "1875/1875 [==============================] - 2s 843us/step - loss: 0.1485 - accuracy: 0.9561\n",
      "Epoch 3/10\n",
      "1875/1875 [==============================] - 2s 952us/step - loss: 0.1057 - accuracy: 0.9671\n",
      "Epoch 4/10\n",
      "1875/1875 [==============================] - 2s 880us/step - loss: 0.0840 - accuracy: 0.9739\n",
      "Epoch 5/10\n",
      "1875/1875 [==============================] - 2s 825us/step - loss: 0.0735 - accuracy: 0.9766\n",
      "Epoch 6/10\n",
      "1875/1875 [==============================] - 2s 841us/step - loss: 0.0638 - accuracy: 0.9805\n",
      "Epoch 7/10\n",
      "1875/1875 [==============================] - 2s 877us/step - loss: 0.0536 - accuracy: 0.9836\n",
      "Epoch 8/10\n",
      "1875/1875 [==============================] - 2s 887us/step - loss: 0.0486 - accuracy: 0.9849\n",
      "Epoch 9/10\n",
      "1875/1875 [==============================] - 2s 870us/step - loss: 0.0444 - accuracy: 0.9861\n",
      "Epoch 10/10\n",
      "1875/1875 [==============================] - 2s 935us/step - loss: 0.0435 - accuracy: 0.9856\n"
     ]
    },
    {
     "data": {
      "text/plain": [
       "<tensorflow.python.keras.callbacks.History at 0x7f9c06eefe10>"
      ]
     },
     "execution_count": 7,
     "metadata": {},
     "output_type": "execute_result"
    }
   ],
   "source": [
    "model.fit(train_x, train_y, epochs = 10)"
   ]
  },
  {
   "cell_type": "code",
   "execution_count": 33,
   "metadata": {
    "Collapsed": "false"
   },
   "outputs": [
    {
     "name": "stdout",
     "output_type": "stream",
     "text": [
      "313/313 [==============================] - 0s 615us/step - loss: 0.0742 - accuracy: 0.9778\n"
     ]
    },
    {
     "data": {
      "text/plain": [
       "[0.07423744350671768, 0.9778000116348267]"
      ]
     },
     "execution_count": 33,
     "metadata": {},
     "output_type": "execute_result"
    }
   ],
   "source": [
    "model.evaluate(test_x, test_y)"
   ]
  },
  {
   "cell_type": "markdown",
   "metadata": {
    "Collapsed": "false"
   },
   "source": [
    "## 2. wandb"
   ]
  },
  {
   "cell_type": "code",
   "execution_count": 8,
   "metadata": {
    "Collapsed": "false"
   },
   "outputs": [],
   "source": [
    "import wandb"
   ]
  },
  {
   "cell_type": "code",
   "execution_count": 9,
   "metadata": {
    "Collapsed": "false"
   },
   "outputs": [
    {
     "name": "stderr",
     "output_type": "stream",
     "text": [
      "wandb: Currently logged in as: jinseock (use `wandb login --relogin` to force relogin)\n"
     ]
    },
    {
     "data": {
      "text/plain": [
       "True"
      ]
     },
     "execution_count": 9,
     "metadata": {},
     "output_type": "execute_result"
    }
   ],
   "source": [
    "wandb.login()"
   ]
  },
  {
   "cell_type": "code",
   "execution_count": 10,
   "metadata": {
    "Collapsed": "false"
   },
   "outputs": [
    {
     "data": {
      "text/html": [
       "\n",
       "                Tracking run with wandb version 0.11.0<br/>\n",
       "                Syncing run <strong style=\"color:#cdcd00\">kind-night-4</strong> to <a href=\"https://wandb.ai\" target=\"_blank\">Weights & Biases</a> <a href=\"https://docs.wandb.com/integrations/jupyter.html\" target=\"_blank\">(Documentation)</a>.<br/>\n",
       "                Project page: <a href=\"https://wandb.ai/jinseock/wandb-tutorial\" target=\"_blank\">https://wandb.ai/jinseock/wandb-tutorial</a><br/>\n",
       "                Run page: <a href=\"https://wandb.ai/jinseock/wandb-tutorial/runs/1hv5avm7\" target=\"_blank\">https://wandb.ai/jinseock/wandb-tutorial/runs/1hv5avm7</a><br/>\n",
       "                Run data is saved locally in <code>/Users/jinseok/Jupyter/Study/Lecture/Machine-Learning Engineer/Code/wandb/run-20210721_230932-1hv5avm7</code><br/><br/>\n",
       "            "
      ],
      "text/plain": [
       "<IPython.core.display.HTML object>"
      ]
     },
     "metadata": {},
     "output_type": "display_data"
    },
    {
     "data": {
      "text/html": [
       "<h1>Run(1hv5avm7)</h1><iframe src=\"https://wandb.ai/jinseock/wandb-tutorial/runs/1hv5avm7\" style=\"border:none;width:100%;height:400px\"></iframe>"
      ],
      "text/plain": [
       "<wandb.sdk.wandb_run.Run at 0x7f9c08c78ed0>"
      ]
     },
     "execution_count": 10,
     "metadata": {},
     "output_type": "execute_result"
    }
   ],
   "source": [
    "wandb.init(project = 'wandb-tutorial',  # 프로젝트 이름\n",
    "           config = {\n",
    "                 'layer_1_activation' : 'relu'\n",
    "               , 'layer_1' : 128\n",
    "               , 'learning_rate' : 0.01\n",
    "               , 'dropout_rate' : 0.2\n",
    "           })"
   ]
  },
  {
   "cell_type": "code",
   "execution_count": 11,
   "metadata": {
    "Collapsed": "false"
   },
   "outputs": [
    {
     "data": {
      "text/plain": [
       "{'layer_1_activation': 'relu', 'layer_1': 128, 'learning_rate': 0.01, 'dropout_rate': 0.2}"
      ]
     },
     "execution_count": 11,
     "metadata": {},
     "output_type": "execute_result"
    }
   ],
   "source": [
    "from wandb.keras import WandbCallback\n",
    "\n",
    "config = wandb.config\n",
    "config"
   ]
  },
  {
   "cell_type": "code",
   "execution_count": 38,
   "metadata": {
    "Collapsed": "false"
   },
   "outputs": [
    {
     "name": "stdout",
     "output_type": "stream",
     "text": [
      "Epoch 1/10\n",
      "1875/1875 [==============================] - 2s 793us/step - loss: 0.4024 - accuracy: 0.8762\n",
      "Epoch 2/10\n",
      "1875/1875 [==============================] - 1s 752us/step - loss: 0.2429 - accuracy: 0.9326\n",
      "Epoch 3/10\n",
      "1875/1875 [==============================] - 2s 865us/step - loss: 0.2127 - accuracy: 0.9411\n",
      "Epoch 4/10\n",
      "1875/1875 [==============================] - 2s 822us/step - loss: 0.2117 - accuracy: 0.9438\n",
      "Epoch 5/10\n",
      "1875/1875 [==============================] - 2s 859us/step - loss: 0.1963 - accuracy: 0.9480\n",
      "Epoch 6/10\n",
      "1875/1875 [==============================] - 2s 875us/step - loss: 0.1884 - accuracy: 0.9509\n",
      "Epoch 7/10\n",
      "1875/1875 [==============================] - 2s 915us/step - loss: 0.1942 - accuracy: 0.9506\n",
      "Epoch 8/10\n",
      "1875/1875 [==============================] - 2s 1ms/step - loss: 0.1851 - accuracy: 0.9524\n",
      "Epoch 9/10\n",
      "1875/1875 [==============================] - 2s 1ms/step - loss: 0.1679 - accuracy: 0.9572\n",
      "Epoch 10/10\n",
      "1875/1875 [==============================] - 2s 1ms/step - loss: 0.1726 - accuracy: 0.9579\n"
     ]
    },
    {
     "data": {
      "text/plain": [
       "<tensorflow.python.keras.callbacks.History at 0x7ffd0608ed90>"
      ]
     },
     "execution_count": 38,
     "metadata": {},
     "output_type": "execute_result"
    }
   ],
   "source": [
    "model = keras.Sequential(\n",
    "    [\n",
    "        layers.Flatten(input_shape = (28, 28)),\n",
    "        layers.Dense(config.layer_1, activation = config.layer_1_activation),\n",
    "        layers.Dropout(config.dropout_rate),\n",
    "        layers.Dense(10, activation = 'softmax'),\n",
    "    ]\n",
    ")\n",
    "\n",
    "model.compile(optimizer = tf.keras.optimizers.Adam(learning_rate = config.learning_rate),\n",
    "              loss = 'sparse_categorical_crossentropy',\n",
    "              metrics = ['accuracy'])\n",
    "\n",
    "model.fit(train_x, train_y, epochs = 10, callbacks = [WandbCallback()])"
   ]
  },
  {
   "cell_type": "code",
   "execution_count": null,
   "metadata": {
    "Collapsed": "false"
   },
   "outputs": [],
   "source": []
  }
 ],
 "metadata": {
  "kernelspec": {
   "display_name": "Python 3",
   "language": "python",
   "name": "python3"
  },
  "language_info": {
   "codemirror_mode": {
    "name": "ipython",
    "version": 3
   },
   "file_extension": ".py",
   "mimetype": "text/x-python",
   "name": "python",
   "nbconvert_exporter": "python",
   "pygments_lexer": "ipython3",
   "version": "3.7.6"
  }
 },
 "nbformat": 4,
 "nbformat_minor": 4
}
